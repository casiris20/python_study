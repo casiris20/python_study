{
 "cells": [
  {
   "cell_type": "code",
   "execution_count": 1,
   "metadata": {},
   "outputs": [],
   "source": [
    "import numpy as np\n",
    "import pandas as pd"
   ]
  },
  {
   "cell_type": "code",
   "execution_count": 46,
   "metadata": {},
   "outputs": [
    {
     "data": {
      "text/plain": [
       "(234, 7)"
      ]
     },
     "execution_count": 46,
     "metadata": {},
     "output_type": "execute_result"
    }
   ],
   "source": [
    "df = pd.read_csv('000157.KS.csv')\n",
    "df.shape"
   ]
  },
  {
   "cell_type": "code",
   "execution_count": 14,
   "metadata": {},
   "outputs": [
    {
     "data": {
      "text/html": [
       "<div>\n",
       "<style scoped>\n",
       "    .dataframe tbody tr th:only-of-type {\n",
       "        vertical-align: middle;\n",
       "    }\n",
       "\n",
       "    .dataframe tbody tr th {\n",
       "        vertical-align: top;\n",
       "    }\n",
       "\n",
       "    .dataframe thead th {\n",
       "        text-align: right;\n",
       "    }\n",
       "</style>\n",
       "<table border=\"1\" class=\"dataframe\">\n",
       "  <thead>\n",
       "    <tr style=\"text-align: right;\">\n",
       "      <th></th>\n",
       "      <th>Date</th>\n",
       "      <th>Open</th>\n",
       "      <th>High</th>\n",
       "      <th>Low</th>\n",
       "      <th>Close</th>\n",
       "      <th>Adj Close</th>\n",
       "      <th>Volume</th>\n",
       "    </tr>\n",
       "  </thead>\n",
       "  <tbody>\n",
       "    <tr>\n",
       "      <th>229</th>\n",
       "      <td>2019-01-29</td>\n",
       "      <td>75600.0</td>\n",
       "      <td>75600.0</td>\n",
       "      <td>74800.0</td>\n",
       "      <td>75500.0</td>\n",
       "      <td>75500.0</td>\n",
       "      <td>4</td>\n",
       "    </tr>\n",
       "    <tr>\n",
       "      <th>230</th>\n",
       "      <td>2019-01-30</td>\n",
       "      <td>75400.0</td>\n",
       "      <td>76900.0</td>\n",
       "      <td>75400.0</td>\n",
       "      <td>76900.0</td>\n",
       "      <td>76900.0</td>\n",
       "      <td>31</td>\n",
       "    </tr>\n",
       "    <tr>\n",
       "      <th>231</th>\n",
       "      <td>2019-01-31</td>\n",
       "      <td>75400.0</td>\n",
       "      <td>76700.0</td>\n",
       "      <td>75100.0</td>\n",
       "      <td>76500.0</td>\n",
       "      <td>76500.0</td>\n",
       "      <td>84</td>\n",
       "    </tr>\n",
       "    <tr>\n",
       "      <th>232</th>\n",
       "      <td>2019-02-01</td>\n",
       "      <td>76500.0</td>\n",
       "      <td>77000.0</td>\n",
       "      <td>75300.0</td>\n",
       "      <td>75900.0</td>\n",
       "      <td>75900.0</td>\n",
       "      <td>120</td>\n",
       "    </tr>\n",
       "    <tr>\n",
       "      <th>233</th>\n",
       "      <td>2019-02-21</td>\n",
       "      <td>74000.0</td>\n",
       "      <td>74700.0</td>\n",
       "      <td>72400.0</td>\n",
       "      <td>72400.0</td>\n",
       "      <td>72400.0</td>\n",
       "      <td>326</td>\n",
       "    </tr>\n",
       "  </tbody>\n",
       "</table>\n",
       "</div>"
      ],
      "text/plain": [
       "           Date     Open     High      Low    Close  Adj Close  Volume\n",
       "229  2019-01-29  75600.0  75600.0  74800.0  75500.0    75500.0       4\n",
       "230  2019-01-30  75400.0  76900.0  75400.0  76900.0    76900.0      31\n",
       "231  2019-01-31  75400.0  76700.0  75100.0  76500.0    76500.0      84\n",
       "232  2019-02-01  76500.0  77000.0  75300.0  75900.0    75900.0     120\n",
       "233  2019-02-21  74000.0  74700.0  72400.0  72400.0    72400.0     326"
      ]
     },
     "execution_count": 14,
     "metadata": {},
     "output_type": "execute_result"
    }
   ],
   "source": [
    "df.tail()"
   ]
  },
  {
   "cell_type": "markdown",
   "metadata": {},
   "source": [
    "X :  오늘부터(오늘 포함) 과거 일주일 데이터  shape (m, 7일치, 6개 특징) 3d\n",
    "Y :  내일의 Open                             shape (m, 1)               2d"
   ]
  },
  {
   "cell_type": "markdown",
   "metadata": {},
   "source": [
    "1 2 3 4 5 6 7 8 9 10 일 \n",
    "            7 (8)\n",
    "  1 ~         8 (9)\n",
    "    3  ~        9 (10)\n",
    "(X, Y) 총 3세트를 만들수 있습니다\n",
    "총세트 : 전체일수 - 7일 "
   ]
  },
  {
   "cell_type": "code",
   "execution_count": 47,
   "metadata": {},
   "outputs": [
    {
     "data": {
      "text/plain": [
       "(234, 227)"
      ]
     },
     "execution_count": 47,
     "metadata": {},
     "output_type": "execute_result"
    }
   ],
   "source": [
    "sequence = 7\n",
    "m = len(df) - sequence\n",
    "len(df), m"
   ]
  },
  {
   "cell_type": "code",
   "execution_count": 48,
   "metadata": {},
   "outputs": [
    {
     "data": {
      "text/plain": [
       "0"
      ]
     },
     "execution_count": 48,
     "metadata": {},
     "output_type": "execute_result"
    }
   ],
   "source": [
    "df.isna().sum().sum()"
   ]
  },
  {
   "cell_type": "code",
   "execution_count": 49,
   "metadata": {},
   "outputs": [
    {
     "data": {
      "text/plain": [
       "Date          object\n",
       "Open         float64\n",
       "High         float64\n",
       "Low          float64\n",
       "Close        float64\n",
       "Adj Close    float64\n",
       "Volume         int64\n",
       "dtype: object"
      ]
     },
     "execution_count": 49,
     "metadata": {},
     "output_type": "execute_result"
    }
   ],
   "source": [
    "df.dtypes"
   ]
  },
  {
   "cell_type": "code",
   "execution_count": 50,
   "metadata": {},
   "outputs": [
    {
     "data": {
      "text/plain": [
       "(70000.0, 75765.38461538461, 2912.463682386705, 83000.0)"
      ]
     },
     "execution_count": 50,
     "metadata": {},
     "output_type": "execute_result"
    }
   ],
   "source": [
    "vol = df.iloc[:,1]\n",
    "vol.min(), vol.mean(), vol.std(), vol.max()"
   ]
  },
  {
   "cell_type": "code",
   "execution_count": 51,
   "metadata": {},
   "outputs": [
    {
     "data": {
      "text/plain": [
       "(234, 7)"
      ]
     },
     "execution_count": 51,
     "metadata": {},
     "output_type": "execute_result"
    }
   ],
   "source": [
    "df.shape"
   ]
  },
  {
   "cell_type": "code",
   "execution_count": 52,
   "metadata": {},
   "outputs": [
    {
     "data": {
      "text/plain": [
       "(227, 7, 6)"
      ]
     },
     "execution_count": 52,
     "metadata": {},
     "output_type": "execute_result"
    }
   ],
   "source": [
    "x = np.zeros([m, sequence,df.shape[1]-1])\n",
    "x.shape"
   ]
  },
  {
   "cell_type": "code",
   "execution_count": 57,
   "metadata": {},
   "outputs": [],
   "source": [
    "arr = np.array(df.iloc[:, 1:])\n",
    "arr_min = np.min(arr, axis=0, keepdims=True)# 축!! 0 \n",
    "arr_max = np.max(arr, axis=0, keepdims=True)# 축!! 0 \n",
    "arrn = (arr-arr_min) / (arr_max - arr_min)"
   ]
  },
  {
   "cell_type": "code",
   "execution_count": 59,
   "metadata": {},
   "outputs": [],
   "source": [
    "for i in range(m):\n",
    "    x[i] = arrn[i:i + sequence] #0 1 2 3 4 5 6\n",
    "y = arrn[sequence:, 0]"
   ]
  },
  {
   "cell_type": "code",
   "execution_count": 60,
   "metadata": {},
   "outputs": [
    {
     "data": {
      "text/plain": [
       "((227, 7, 6), (227,), 0.0, 1.0)"
      ]
     },
     "execution_count": 60,
     "metadata": {},
     "output_type": "execute_result"
    }
   ],
   "source": [
    "x.shape, y.shape, np.min(y), np.max(y)"
   ]
  },
  {
   "cell_type": "code",
   "execution_count": 61,
   "metadata": {},
   "outputs": [],
   "source": [
    "x_train = x[::2]\n",
    "x_test = x[1::2]\n",
    "y_train = y[::2]\n",
    "y_test = y[1::2]"
   ]
  },
  {
   "cell_type": "code",
   "execution_count": 63,
   "metadata": {},
   "outputs": [],
   "source": [
    "import tensorflow as tf\n",
    "import tensorflow.contrib.layers as layers"
   ]
  },
  {
   "cell_type": "code",
   "execution_count": 66,
   "metadata": {},
   "outputs": [],
   "source": [
    "tf.reset_default_graph()\n",
    "X = tf.placeholder(tf.float32, [None, sequence, 6])\n",
    "Y = tf.placeholder(tf.float32, [None])\n",
    "cell = tf.contrib.rnn.BasicLSTMCell(100)# 셀 갯수 RNN, LSTM, GRU\n",
    "output, state = tf.nn.dynamic_rnn(cell, X, dtype=tf.float32)\n",
    "last_output = output[:, -1] # [m, 100]\n",
    "h = layers.fully_connected(last_output, 1) # 몇번 더 \n",
    "cost = tf.reduce_mean(tf.square(Y-h))\n",
    "train = tf.train.GradientDescentOptimizer(0.01).minimize(cost)\n",
    "sess = tf.Session()\n",
    "sess.run(tf.global_variables_initializer())"
   ]
  },
  {
   "cell_type": "code",
   "execution_count": null,
   "metadata": {},
   "outputs": [],
   "source": [
    "for iter in range(100):\n",
    "    _, co = sess.run([train, cost], {X:x_train, Y:y_train})\n",
    "    if iter%10==0: print(iter, 'cost',co)"
   ]
  },
  {
   "cell_type": "code",
   "execution_count": null,
   "metadata": {},
   "outputs": [],
   "source": [
    "predict = sess.run(h, {X:x_train})\n",
    "plt.plot(y_train)\n",
    "plt.plot(predict)"
   ]
  }
 ],
 "metadata": {
  "kernelspec": {
   "display_name": "Python 3",
   "language": "python",
   "name": "python3"
  },
  "language_info": {
   "codemirror_mode": {
    "name": "ipython",
    "version": 3
   },
   "file_extension": ".py",
   "mimetype": "text/x-python",
   "name": "python",
   "nbconvert_exporter": "python",
   "pygments_lexer": "ipython3",
   "version": "3.6.8"
  }
 },
 "nbformat": 4,
 "nbformat_minor": 2
}
