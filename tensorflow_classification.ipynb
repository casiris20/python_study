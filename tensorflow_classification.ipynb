{
 "cells": [
  {
   "cell_type": "code",
   "execution_count": 1,
   "metadata": {},
   "outputs": [],
   "source": [
    "import tensorflow as tf\n",
    "import tensorflow.contrib.layers as layers"
   ]
  },
  {
   "cell_type": "markdown",
   "metadata": {},
   "source": [
    "모델, 기능 정의\n",
    "- 분류 : cross entropy, 마지막 레이어 sigmoid\n",
    "- 예측 : MSE, 마지막 레이어 None\n",
    "- np.array() 로 넘파이 배열로 데이터를 변환해야 합니다"
   ]
  },
  {
   "cell_type": "code",
   "execution_count": 24,
   "metadata": {},
   "outputs": [],
   "source": [
    "x_data = [[1,1],[2,2],[3,5],[5,6],[4,3],[3,1]]\n",
    "y_data = [0,0,1,1,2,2]\n",
    "x_test = [[5,5],[1,3],[5,3]]\n",
    "X = tf.placeholder(tf.float32, [None, 2])\n",
    "Y = tf.placeholder(tf.int64, [None])\n",
    "x_max = tf.reduce_max(X, axis=1, keep_dims=True)\n",
    "x_min = tf.reduce_min(X, axis=1, keep_dims=True)\n",
    "x_n = (X - x_min)/(x_max - m_min) # 0~1 min-max normalize \n",
    "hidden0 = layers.fully_connected(x_n, 16)\n",
    "hidden1 = layers.fully_connected(hidden0, 8)\n",
    "h = layers.fully_connected(hidden1, 3, activation_fn=tf.nn.relu)#w,b 자동 생성\n",
    "h = tf.maximu(0.0000001, h)\n",
    "cost = -tf.reduce_mean(10*Y*tf.log(h) + (1-Y)*tf.log(1-h))#class imbalance 상황일때\n",
    "cost = tf.reduce_mean(tf.nn.sparse_softmax_cross_entropy_with_logits(\n",
    "    labels=Y, logits=h))\n",
    "train = tf.train.GradientDescentOptimizer(0.001).minimize(cost)\n",
    "predict = tf.cast(tf.argmax(h, axis=1), tf.int64)\n",
    "accuracy = tf.reduce_mean(tf.cast(tf.equal(predict, Y) ,tf.float32))\n",
    "sess = tf.Session()\n",
    "sess.run(tf.global_variables_initializer())"
   ]
  },
  {
   "cell_type": "code",
   "execution_count": 22,
   "metadata": {},
   "outputs": [
    {
     "name": "stdout",
     "output_type": "stream",
     "text": [
      "0 cost 1.0986123 acc 0.33333334 p [0 0 0 0 0 0]\n",
      "1000 cost 1.0986123 acc 0.33333334 p [0 0 0 0 0 0]\n",
      "2000 cost 1.0986123 acc 0.33333334 p [0 0 0 0 0 0]\n",
      "3000 cost 1.0986123 acc 0.33333334 p [0 0 0 0 0 0]\n",
      "4000 cost 1.0986123 acc 0.33333334 p [0 0 0 0 0 0]\n",
      "5000 cost 1.0986123 acc 0.33333334 p [0 0 0 0 0 0]\n",
      "6000 cost 1.0986123 acc 0.33333334 p [0 0 0 0 0 0]\n",
      "7000 cost 1.0986123 acc 0.33333334 p [0 0 0 0 0 0]\n",
      "8000 cost 1.0986123 acc 0.33333334 p [0 0 0 0 0 0]\n",
      "9000 cost 1.0986123 acc 0.33333334 p [0 0 0 0 0 0]\n"
     ]
    }
   ],
   "source": [
    "for step in range(10000):\n",
    "    _, p, acc, co = sess.run([train, predict, accuracy, cost], {X:x_data, Y:y_data})\n",
    "    if step%1000==0: print(step,'cost',co, 'acc',acc, 'p', p.reshape([6]))"
   ]
  },
  {
   "cell_type": "code",
   "execution_count": 17,
   "metadata": {},
   "outputs": [
    {
     "data": {
      "text/plain": [
       "array([1, 1, 2], dtype=int64)"
      ]
     },
     "execution_count": 17,
     "metadata": {},
     "output_type": "execute_result"
    }
   ],
   "source": [
    "sess.run(predict, {X:x_test})"
   ]
  },
  {
   "cell_type": "code",
   "execution_count": null,
   "metadata": {},
   "outputs": [],
   "source": []
  }
 ],
 "metadata": {
  "kernelspec": {
   "display_name": "Python 3",
   "language": "python",
   "name": "python3"
  },
  "language_info": {
   "codemirror_mode": {
    "name": "ipython",
    "version": 3
   },
   "file_extension": ".py",
   "mimetype": "text/x-python",
   "name": "python",
   "nbconvert_exporter": "python",
   "pygments_lexer": "ipython3",
   "version": "3.6.8"
  }
 },
 "nbformat": 4,
 "nbformat_minor": 2
}
