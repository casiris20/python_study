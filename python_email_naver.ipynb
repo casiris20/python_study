{
 "cells": [
  {
   "cell_type": "code",
   "execution_count": 35,
   "metadata": {
    "collapsed": true
   },
   "outputs": [],
   "source": [
    "import smtplib\n",
    "from email.mime.text import MIMEText\n",
    "from email.mime.base import MIMEBase\n",
    "from email.mime.image import MIMEImage\n",
    "from email.mime.multipart import MIMEMultipart\n",
    "import mimetypes"
   ]
  },
  {
   "cell_type": "code",
   "execution_count": 47,
   "metadata": {},
   "outputs": [],
   "source": [
    "\n",
    "path = 'YOLO1.png'\n",
    "fp = open(path, 'rb')\n",
    "ctype, encoding = mimetypes.guess_type(path)\n",
    " \n",
    "if ctype is None or encoding is not None:\n",
    "    ctype = 'application/octet-stream'\n",
    "\n",
    "maintype, subtype = ctype.split('/', 1)\n",
    "\n",
    "if maintype == 'text': # 텍스트 타입 처리\n",
    "    fp = open(path)\n",
    "    msg = MIMEText(fp.read(), _subtype=subtype)\n",
    "    fp.close()\n",
    "elif maintype == 'image': # 이미지 타입 처리\n",
    "    fp = open(path, 'rb')\n",
    "    msg = MIMEImage(fp.read(), _subtype=subtype)\n",
    "    fp.close()\n",
    "elif maintype == 'audio': # 오디오 타입 처리\n",
    "    fp = open(path, 'rb')\n",
    "    msg = MIMEAudio(fp.read(), _subtype=subtype)\n",
    "    fp.close()\n",
    "else:\n",
    "    fp = open(path, 'rb')\n",
    "    msg = MIMEBase(maintype, subtype)\n",
    "    msg.set_payload(fp.read())\n",
    "    fp.close()\n",
    "    # Encode the payload using Base64\n",
    "    encoders.encode_base64(msg)\n",
    "\n",
    "msg['Subject'] = \"안녕하세요 file 보내드립니다\"\n",
    "msg['From'] = 'sogangori@naver.com'\n",
    "msg['To'] = 'sogangori@naver.com'\n",
    "msg.add_header(\"Content-Disposition\", \"attachment; filename=\\\"%s\\\"\" % path)\n"
   ]
  },
  {
   "cell_type": "code",
   "execution_count": 48,
   "metadata": {},
   "outputs": [
    {
     "data": {
      "text/plain": [
       "'image'"
      ]
     },
     "execution_count": 48,
     "metadata": {},
     "output_type": "execute_result"
    }
   ],
   "source": [
    "maintype"
   ]
  },
  {
   "cell_type": "code",
   "execution_count": 49,
   "metadata": {},
   "outputs": [
    {
     "data": {
      "text/plain": [
       "(221, b'2.0.0 Closing connection OSOAuX2IQo2jrAOhsk210A - nsmtp')"
      ]
     },
     "execution_count": 49,
     "metadata": {},
     "output_type": "execute_result"
    }
   ],
   "source": [
    "s = smtplib.SMTP_SSL('smtp.naver.com', 465)\n",
    "s.ehlo()\n",
    "\n",
    "s.login(\"sogangori@naver.com\",\"*****password***\")\n",
    "s.sendmail(me, you, msg.as_string())\n",
    "s.quit()\n"
   ]
  },
  {
   "cell_type": "code",
   "execution_count": null,
   "metadata": {
    "collapsed": true
   },
   "outputs": [],
   "source": []
  }
 ],
 "metadata": {
  "kernelspec": {
   "display_name": "Python 3",
   "language": "python",
   "name": "python3"
  },
  "language_info": {
   "codemirror_mode": {
    "name": "ipython",
    "version": 3
   },
   "file_extension": ".py",
   "mimetype": "text/x-python",
   "name": "python",
   "nbconvert_exporter": "python",
   "pygments_lexer": "ipython3",
   "version": "3.6.2"
  }
 },
 "nbformat": 4,
 "nbformat_minor": 2
}
