{
 "cells": [
  {
   "cell_type": "code",
   "execution_count": 1,
   "metadata": {},
   "outputs": [],
   "source": [
    "import pandas as pd\n",
    "import numpy as np\n",
    "import matplotlib.pyplot as plt\n",
    "import glob"
   ]
  },
  {
   "cell_type": "code",
   "execution_count": 2,
   "metadata": {},
   "outputs": [],
   "source": [
    "%matplotlib inline"
   ]
  },
  {
   "cell_type": "code",
   "execution_count": 3,
   "metadata": {},
   "outputs": [],
   "source": [
    "maximum_csv_read_cound = 10"
   ]
  },
  {
   "cell_type": "code",
   "execution_count": 4,
   "metadata": {},
   "outputs": [
    {
     "name": "stdout",
     "output_type": "stream",
     "text": [
      " C 드라이브의 볼륨: System\n",
      " 볼륨 일련 번호: F866-1019\n",
      "\n",
      " C:\\Users\\user.DLI-N19\\Documents 디렉터리\n",
      "\n",
      "2018-08-31  오전 08:41    <DIR>          .\n",
      "2018-08-31  오전 08:41    <DIR>          ..\n",
      "2018-08-30  오후 05:03    <DIR>          .ipynb_checkpoints\n",
      "2018-08-31  오전 08:39                 0 activity_sensor_x.csv\n",
      "2018-08-24  오전 09:06    <DIR>          Bluetooth Folder\n",
      "2018-08-30  오전 08:55    <DIR>          cache\n",
      "2018-08-30  오후 01:09            74,594 car_classification.ipynb\n",
      "2018-08-31  오전 08:41           228,357 challenge_LinearRegression.ipynb\n",
      "2018-08-31  오전 08:41           219,619 challenge_prepare.ipynb\n",
      "2018-08-30  오후 05:02       112,716,095 HT_Sensor_dataset.dat\n",
      "2018-08-31  오전 08:41             2,845 time_series_sensor.ipynb\n",
      "2018-08-30  오전 08:59            83,914 Untitled.ipynb\n",
      "               7개 파일         113,325,424 바이트\n",
      "               5개 디렉터리  44,801,593,344 바이트 남음\n"
     ]
    }
   ],
   "source": [
    "%ls"
   ]
  },
  {
   "cell_type": "code",
   "execution_count": 5,
   "metadata": {},
   "outputs": [
    {
     "data": {
      "text/plain": [
       "('2016 PHM DATA CHALLENGE CMP DATA SET/2016 PHM DATA CHALLENGE CMP DATA SET/CMP-data/training\\\\CMP-training-000.csv',\n",
       " '2016 PHM DATA CHALLENGE CMP DATA SET/2016 PHM DATA CHALLENGE CMP DATA SET//CMP-data/test\\\\CMP-test-000.csv',\n",
       " 185,\n",
       " 185)"
      ]
     },
     "execution_count": 5,
     "metadata": {},
     "output_type": "execute_result"
    }
   ],
   "source": [
    "folder_root = '2016 PHM DATA CHALLENGE CMP DATA SET/2016 PHM DATA CHALLENGE CMP DATA SET/'\n",
    "folder_train = folder_root + 'CMP-data/training/'\n",
    "folder_test = folder_root + '/CMP-data/test/'\n",
    "path_train_gt = folder_root + '/CMP-training-removalrate.csv'\n",
    "path_test_gt = 'PHM16TestValidationAnswers/PHM16TestValidationAnswers/orig_CMP-test-removalrate.csv'\n",
    "paths_train = glob.glob(folder_train+'*.csv')\n",
    "paths_test = glob.glob(folder_test+'*.csv')\n",
    "paths_train[0],paths_test[0],len(paths_train),len(paths_test)\n"
   ]
  },
  {
   "cell_type": "markdown",
   "metadata": {},
   "source": [
    "## 학습데이터와 테스트 데이터 읽기 "
   ]
  },
  {
   "cell_type": "code",
   "execution_count": 1139,
   "metadata": {},
   "outputs": [
    {
     "data": {
      "text/plain": [
       "(1981, 3)"
      ]
     },
     "execution_count": 1139,
     "metadata": {},
     "output_type": "execute_result"
    }
   ],
   "source": [
    "df_gt = pd.read_csv(path_train_gt)\n",
    "df_gt.shape"
   ]
  },
  {
   "cell_type": "code",
   "execution_count": 1140,
   "metadata": {},
   "outputs": [
    {
     "data": {
      "text/plain": [
       "(424, 3)"
      ]
     },
     "execution_count": 1140,
     "metadata": {},
     "output_type": "execute_result"
    }
   ],
   "source": [
    "df_gt_test = pd.read_csv(path_test_gt)\n",
    "df_gt_test.shape"
   ]
  },
  {
   "cell_type": "code",
   "execution_count": 1141,
   "metadata": {},
   "outputs": [],
   "source": [
    "def read_cvs_files(folder, maximum_read_cound):\n",
    "    df_list = []    \n",
    "    for i in range(np.minimum(maximum_read_cound,len(folder))):\n",
    "        df = pd.read_csv(folder[i])\n",
    "        df_list.append(df)\n",
    "    print(len(df_list), df.shape)\n",
    "    df = pd.concat(df_list, 0)\n",
    "    return df    "
   ]
  },
  {
   "cell_type": "code",
   "execution_count": 1142,
   "metadata": {},
   "outputs": [
    {
     "name": "stdout",
     "output_type": "stream",
     "text": [
      "10 (4050, 25)\n"
     ]
    },
    {
     "data": {
      "text/plain": [
       "((55627, 25), 55627)"
      ]
     },
     "execution_count": 1142,
     "metadata": {},
     "output_type": "execute_result"
    }
   ],
   "source": [
    "df_train = read_cvs_files(paths_train, maximum_csv_read_cound)\n",
    "df = df_train\n",
    "df_train.shape, len(df_train)"
   ]
  },
  {
   "cell_type": "code",
   "execution_count": 1143,
   "metadata": {
    "scrolled": false
   },
   "outputs": [
    {
     "name": "stdout",
     "output_type": "stream",
     "text": [
      "10 (2712, 25)\n"
     ]
    },
    {
     "data": {
      "text/plain": [
       "(10472, 25)"
      ]
     },
     "execution_count": 1143,
     "metadata": {},
     "output_type": "execute_result"
    }
   ],
   "source": [
    "df_test = read_cvs_files(paths_test, maximum_csv_read_cound)\n",
    "df_test.shape"
   ]
  },
  {
   "cell_type": "code",
   "execution_count": 1144,
   "metadata": {},
   "outputs": [
    {
     "data": {
      "text/plain": [
       "(162, 28)"
      ]
     },
     "execution_count": 1144,
     "metadata": {},
     "output_type": "execute_result"
    }
   ],
   "source": [
    "train_m = (df_train.WAFER_ID.astype(np.str) + df_train.STAGE).nunique()\n",
    "test_m = (df_test.WAFER_ID.astype(np.str) + df_test.STAGE).nunique()\n",
    "train_m,test_m"
   ]
  },
  {
   "cell_type": "markdown",
   "metadata": {},
   "source": [
    "### concat train/test set"
   ]
  },
  {
   "cell_type": "code",
   "execution_count": 1145,
   "metadata": {},
   "outputs": [
    {
     "data": {
      "text/plain": [
       "((66099, 25), (2405, 3))"
      ]
     },
     "execution_count": 1145,
     "metadata": {},
     "output_type": "execute_result"
    }
   ],
   "source": [
    "df_X = pd.concat((df_train, df_test))\n",
    "df_Y = pd.concat((df_gt, df_gt_test))\n",
    "df_X.shape, df_Y.shape"
   ]
  },
  {
   "cell_type": "code",
   "execution_count": 1146,
   "metadata": {
    "scrolled": true
   },
   "outputs": [
    {
     "data": {
      "text/html": [
       "<div>\n",
       "<style scoped>\n",
       "    .dataframe tbody tr th:only-of-type {\n",
       "        vertical-align: middle;\n",
       "    }\n",
       "\n",
       "    .dataframe tbody tr th {\n",
       "        vertical-align: top;\n",
       "    }\n",
       "\n",
       "    .dataframe thead th {\n",
       "        text-align: right;\n",
       "    }\n",
       "</style>\n",
       "<table border=\"1\" class=\"dataframe\">\n",
       "  <thead>\n",
       "    <tr style=\"text-align: right;\">\n",
       "      <th></th>\n",
       "      <th>WAFER_ID</th>\n",
       "      <th>STAGE</th>\n",
       "      <th>AVG_REMOVAL_RATE</th>\n",
       "    </tr>\n",
       "  </thead>\n",
       "  <tbody>\n",
       "    <tr>\n",
       "      <th>0</th>\n",
       "      <td>-4224160600</td>\n",
       "      <td>A</td>\n",
       "      <td>61.65480</td>\n",
       "    </tr>\n",
       "    <tr>\n",
       "      <th>1</th>\n",
       "      <td>-4224160584</td>\n",
       "      <td>B</td>\n",
       "      <td>75.86415</td>\n",
       "    </tr>\n",
       "    <tr>\n",
       "      <th>2</th>\n",
       "      <td>-4224160580</td>\n",
       "      <td>B</td>\n",
       "      <td>71.90700</td>\n",
       "    </tr>\n",
       "    <tr>\n",
       "      <th>3</th>\n",
       "      <td>-4113511818</td>\n",
       "      <td>A</td>\n",
       "      <td>65.02230</td>\n",
       "    </tr>\n",
       "    <tr>\n",
       "      <th>4</th>\n",
       "      <td>-4113511814</td>\n",
       "      <td>A</td>\n",
       "      <td>58.27905</td>\n",
       "    </tr>\n",
       "  </tbody>\n",
       "</table>\n",
       "</div>"
      ],
      "text/plain": [
       "     WAFER_ID STAGE  AVG_REMOVAL_RATE\n",
       "0 -4224160600     A          61.65480\n",
       "1 -4224160584     B          75.86415\n",
       "2 -4224160580     B          71.90700\n",
       "3 -4113511818     A          65.02230\n",
       "4 -4113511814     A          58.27905"
      ]
     },
     "execution_count": 1146,
     "metadata": {},
     "output_type": "execute_result"
    }
   ],
   "source": [
    "df_Y.head()"
   ]
  },
  {
   "cell_type": "markdown",
   "metadata": {},
   "source": [
    "## 전처리 convert category to int"
   ]
  },
  {
   "cell_type": "code",
   "execution_count": 1147,
   "metadata": {},
   "outputs": [
    {
     "data": {
      "text/html": [
       "<div>\n",
       "<style scoped>\n",
       "    .dataframe tbody tr th:only-of-type {\n",
       "        vertical-align: middle;\n",
       "    }\n",
       "\n",
       "    .dataframe tbody tr th {\n",
       "        vertical-align: top;\n",
       "    }\n",
       "\n",
       "    .dataframe thead th {\n",
       "        text-align: right;\n",
       "    }\n",
       "</style>\n",
       "<table border=\"1\" class=\"dataframe\">\n",
       "  <thead>\n",
       "    <tr style=\"text-align: right;\">\n",
       "      <th></th>\n",
       "      <th>WAFER_ID</th>\n",
       "      <th>AVG_REMOVAL_RATE</th>\n",
       "      <th>STAGE_A</th>\n",
       "      <th>STAGE_B</th>\n",
       "    </tr>\n",
       "  </thead>\n",
       "  <tbody>\n",
       "    <tr>\n",
       "      <th>0</th>\n",
       "      <td>-4224160600</td>\n",
       "      <td>61.65480</td>\n",
       "      <td>1</td>\n",
       "      <td>0</td>\n",
       "    </tr>\n",
       "    <tr>\n",
       "      <th>1</th>\n",
       "      <td>-4224160584</td>\n",
       "      <td>75.86415</td>\n",
       "      <td>0</td>\n",
       "      <td>1</td>\n",
       "    </tr>\n",
       "    <tr>\n",
       "      <th>2</th>\n",
       "      <td>-4224160580</td>\n",
       "      <td>71.90700</td>\n",
       "      <td>0</td>\n",
       "      <td>1</td>\n",
       "    </tr>\n",
       "    <tr>\n",
       "      <th>3</th>\n",
       "      <td>-4113511818</td>\n",
       "      <td>65.02230</td>\n",
       "      <td>1</td>\n",
       "      <td>0</td>\n",
       "    </tr>\n",
       "    <tr>\n",
       "      <th>4</th>\n",
       "      <td>-4113511814</td>\n",
       "      <td>58.27905</td>\n",
       "      <td>1</td>\n",
       "      <td>0</td>\n",
       "    </tr>\n",
       "  </tbody>\n",
       "</table>\n",
       "</div>"
      ],
      "text/plain": [
       "     WAFER_ID  AVG_REMOVAL_RATE  STAGE_A  STAGE_B\n",
       "0 -4224160600          61.65480        1        0\n",
       "1 -4224160584          75.86415        0        1\n",
       "2 -4224160580          71.90700        0        1\n",
       "3 -4113511818          65.02230        1        0\n",
       "4 -4113511814          58.27905        1        0"
      ]
     },
     "execution_count": 1147,
     "metadata": {},
     "output_type": "execute_result"
    }
   ],
   "source": [
    "pd.get_dummies(df_Y).head()"
   ]
  },
  {
   "cell_type": "code",
   "execution_count": 1148,
   "metadata": {},
   "outputs": [],
   "source": [
    "df_Y_dumm = pd.get_dummies(df_Y).drop(columns='STAGE_A')"
   ]
  },
  {
   "cell_type": "code",
   "execution_count": 1149,
   "metadata": {},
   "outputs": [],
   "source": [
    "df_Y_dumm = df_Y_dumm.rename(columns={'STAGE_B':'STAGE'})"
   ]
  },
  {
   "cell_type": "code",
   "execution_count": 1150,
   "metadata": {
    "scrolled": true
   },
   "outputs": [
    {
     "data": {
      "text/html": [
       "<div>\n",
       "<style scoped>\n",
       "    .dataframe tbody tr th:only-of-type {\n",
       "        vertical-align: middle;\n",
       "    }\n",
       "\n",
       "    .dataframe tbody tr th {\n",
       "        vertical-align: top;\n",
       "    }\n",
       "\n",
       "    .dataframe thead th {\n",
       "        text-align: right;\n",
       "    }\n",
       "</style>\n",
       "<table border=\"1\" class=\"dataframe\">\n",
       "  <thead>\n",
       "    <tr style=\"text-align: right;\">\n",
       "      <th></th>\n",
       "      <th>WAFER_ID</th>\n",
       "      <th>AVG_REMOVAL_RATE</th>\n",
       "      <th>STAGE</th>\n",
       "    </tr>\n",
       "  </thead>\n",
       "  <tbody>\n",
       "    <tr>\n",
       "      <th>0</th>\n",
       "      <td>-4224160600</td>\n",
       "      <td>61.65480</td>\n",
       "      <td>0</td>\n",
       "    </tr>\n",
       "    <tr>\n",
       "      <th>1</th>\n",
       "      <td>-4224160584</td>\n",
       "      <td>75.86415</td>\n",
       "      <td>1</td>\n",
       "    </tr>\n",
       "    <tr>\n",
       "      <th>2</th>\n",
       "      <td>-4224160580</td>\n",
       "      <td>71.90700</td>\n",
       "      <td>1</td>\n",
       "    </tr>\n",
       "    <tr>\n",
       "      <th>3</th>\n",
       "      <td>-4113511818</td>\n",
       "      <td>65.02230</td>\n",
       "      <td>0</td>\n",
       "    </tr>\n",
       "    <tr>\n",
       "      <th>4</th>\n",
       "      <td>-4113511814</td>\n",
       "      <td>58.27905</td>\n",
       "      <td>0</td>\n",
       "    </tr>\n",
       "  </tbody>\n",
       "</table>\n",
       "</div>"
      ],
      "text/plain": [
       "     WAFER_ID  AVG_REMOVAL_RATE  STAGE\n",
       "0 -4224160600          61.65480      0\n",
       "1 -4224160584          75.86415      1\n",
       "2 -4224160580          71.90700      1\n",
       "3 -4113511818          65.02230      0\n",
       "4 -4113511814          58.27905      0"
      ]
     },
     "execution_count": 1150,
     "metadata": {},
     "output_type": "execute_result"
    }
   ],
   "source": [
    "df_Y_dumm = df_Y_dumm\n",
    "df_Y_dumm.head()"
   ]
  },
  {
   "cell_type": "code",
   "execution_count": 1151,
   "metadata": {},
   "outputs": [
    {
     "data": {
      "text/plain": [
       "(124, 28)"
      ]
     },
     "execution_count": 1151,
     "metadata": {},
     "output_type": "execute_result"
    }
   ],
   "source": [
    "train_unique_WAFER_m = df_train.WAFER_ID.nunique()\n",
    "df_train.WAFER_ID.nunique(),df_test.WAFER_ID.nunique()"
   ]
  },
  {
   "cell_type": "code",
   "execution_count": 1152,
   "metadata": {
    "scrolled": true
   },
   "outputs": [
    {
     "data": {
      "text/html": [
       "<div>\n",
       "<style scoped>\n",
       "    .dataframe tbody tr th:only-of-type {\n",
       "        vertical-align: middle;\n",
       "    }\n",
       "\n",
       "    .dataframe tbody tr th {\n",
       "        vertical-align: top;\n",
       "    }\n",
       "\n",
       "    .dataframe thead th {\n",
       "        text-align: right;\n",
       "    }\n",
       "</style>\n",
       "<table border=\"1\" class=\"dataframe\">\n",
       "  <thead>\n",
       "    <tr style=\"text-align: right;\">\n",
       "      <th></th>\n",
       "      <th>MACHINE_ID</th>\n",
       "      <th>MACHINE_DATA</th>\n",
       "      <th>TIMESTAMP</th>\n",
       "      <th>WAFER_ID</th>\n",
       "      <th>STAGE</th>\n",
       "      <th>CHAMBER</th>\n",
       "      <th>USAGE_OF_BACKING_FILM</th>\n",
       "      <th>USAGE_OF_DRESSER</th>\n",
       "      <th>USAGE_OF_POLISHING_TABLE</th>\n",
       "      <th>USAGE_OF_DRESSER_TABLE</th>\n",
       "      <th>...</th>\n",
       "      <th>USAGE_OF_MEMBRANE</th>\n",
       "      <th>USAGE_OF_PRESSURIZED_SHEET</th>\n",
       "      <th>SLURRY_FLOW_LINE_A</th>\n",
       "      <th>SLURRY_FLOW_LINE_B</th>\n",
       "      <th>SLURRY_FLOW_LINE_C</th>\n",
       "      <th>WAFER_ROTATION</th>\n",
       "      <th>STAGE_ROTATION</th>\n",
       "      <th>HEAD_ROTATION</th>\n",
       "      <th>DRESSING_WATER_STATUS</th>\n",
       "      <th>EDGE_AIR_BAG_PRESSURE</th>\n",
       "    </tr>\n",
       "  </thead>\n",
       "  <tbody>\n",
       "    <tr>\n",
       "      <th>0</th>\n",
       "      <td>2</td>\n",
       "      <td>1</td>\n",
       "      <td>4.816371e+08</td>\n",
       "      <td>371447024</td>\n",
       "      <td>A</td>\n",
       "      <td>1.0</td>\n",
       "      <td>9302.5</td>\n",
       "      <td>534.074074</td>\n",
       "      <td>292.592593</td>\n",
       "      <td>2666.25</td>\n",
       "      <td>...</td>\n",
       "      <td>110.306324</td>\n",
       "      <td>2790.75</td>\n",
       "      <td>2.222222</td>\n",
       "      <td>0.909091</td>\n",
       "      <td>565.6</td>\n",
       "      <td>34.651163</td>\n",
       "      <td>0.0</td>\n",
       "      <td>156.8</td>\n",
       "      <td>1.0</td>\n",
       "      <td>60.909091</td>\n",
       "    </tr>\n",
       "    <tr>\n",
       "      <th>1</th>\n",
       "      <td>2</td>\n",
       "      <td>1</td>\n",
       "      <td>4.816371e+08</td>\n",
       "      <td>371447024</td>\n",
       "      <td>A</td>\n",
       "      <td>1.0</td>\n",
       "      <td>9302.5</td>\n",
       "      <td>534.074074</td>\n",
       "      <td>292.592593</td>\n",
       "      <td>2666.25</td>\n",
       "      <td>...</td>\n",
       "      <td>110.306324</td>\n",
       "      <td>2790.75</td>\n",
       "      <td>2.222222</td>\n",
       "      <td>0.909091</td>\n",
       "      <td>568.4</td>\n",
       "      <td>34.651163</td>\n",
       "      <td>0.0</td>\n",
       "      <td>156.8</td>\n",
       "      <td>1.0</td>\n",
       "      <td>60.909091</td>\n",
       "    </tr>\n",
       "    <tr>\n",
       "      <th>2</th>\n",
       "      <td>2</td>\n",
       "      <td>1</td>\n",
       "      <td>4.816371e+08</td>\n",
       "      <td>371447024</td>\n",
       "      <td>A</td>\n",
       "      <td>1.0</td>\n",
       "      <td>9302.5</td>\n",
       "      <td>534.074074</td>\n",
       "      <td>292.592593</td>\n",
       "      <td>2666.25</td>\n",
       "      <td>...</td>\n",
       "      <td>110.306324</td>\n",
       "      <td>2790.75</td>\n",
       "      <td>2.222222</td>\n",
       "      <td>0.909091</td>\n",
       "      <td>568.4</td>\n",
       "      <td>34.651163</td>\n",
       "      <td>0.0</td>\n",
       "      <td>156.8</td>\n",
       "      <td>1.0</td>\n",
       "      <td>60.909091</td>\n",
       "    </tr>\n",
       "    <tr>\n",
       "      <th>3</th>\n",
       "      <td>2</td>\n",
       "      <td>1</td>\n",
       "      <td>4.816371e+08</td>\n",
       "      <td>371447024</td>\n",
       "      <td>A</td>\n",
       "      <td>1.0</td>\n",
       "      <td>9302.5</td>\n",
       "      <td>534.074074</td>\n",
       "      <td>292.592593</td>\n",
       "      <td>2666.25</td>\n",
       "      <td>...</td>\n",
       "      <td>110.306324</td>\n",
       "      <td>2790.75</td>\n",
       "      <td>2.222222</td>\n",
       "      <td>0.909091</td>\n",
       "      <td>568.4</td>\n",
       "      <td>34.651163</td>\n",
       "      <td>0.0</td>\n",
       "      <td>156.8</td>\n",
       "      <td>1.0</td>\n",
       "      <td>60.606061</td>\n",
       "    </tr>\n",
       "    <tr>\n",
       "      <th>4</th>\n",
       "      <td>2</td>\n",
       "      <td>1</td>\n",
       "      <td>4.816371e+08</td>\n",
       "      <td>371447024</td>\n",
       "      <td>A</td>\n",
       "      <td>1.0</td>\n",
       "      <td>9302.5</td>\n",
       "      <td>534.074074</td>\n",
       "      <td>292.592593</td>\n",
       "      <td>2666.25</td>\n",
       "      <td>...</td>\n",
       "      <td>110.306324</td>\n",
       "      <td>2790.75</td>\n",
       "      <td>2.222222</td>\n",
       "      <td>0.909091</td>\n",
       "      <td>571.2</td>\n",
       "      <td>34.651163</td>\n",
       "      <td>0.0</td>\n",
       "      <td>156.8</td>\n",
       "      <td>1.0</td>\n",
       "      <td>60.909091</td>\n",
       "    </tr>\n",
       "  </tbody>\n",
       "</table>\n",
       "<p>5 rows × 25 columns</p>\n",
       "</div>"
      ],
      "text/plain": [
       "  MACHINE_ID MACHINE_DATA     TIMESTAMP   WAFER_ID STAGE  CHAMBER  \\\n",
       "0          2            1  4.816371e+08  371447024     A      1.0   \n",
       "1          2            1  4.816371e+08  371447024     A      1.0   \n",
       "2          2            1  4.816371e+08  371447024     A      1.0   \n",
       "3          2            1  4.816371e+08  371447024     A      1.0   \n",
       "4          2            1  4.816371e+08  371447024     A      1.0   \n",
       "\n",
       "   USAGE_OF_BACKING_FILM  USAGE_OF_DRESSER  USAGE_OF_POLISHING_TABLE  \\\n",
       "0                 9302.5        534.074074                292.592593   \n",
       "1                 9302.5        534.074074                292.592593   \n",
       "2                 9302.5        534.074074                292.592593   \n",
       "3                 9302.5        534.074074                292.592593   \n",
       "4                 9302.5        534.074074                292.592593   \n",
       "\n",
       "   USAGE_OF_DRESSER_TABLE          ...            USAGE_OF_MEMBRANE  \\\n",
       "0                 2666.25          ...                   110.306324   \n",
       "1                 2666.25          ...                   110.306324   \n",
       "2                 2666.25          ...                   110.306324   \n",
       "3                 2666.25          ...                   110.306324   \n",
       "4                 2666.25          ...                   110.306324   \n",
       "\n",
       "   USAGE_OF_PRESSURIZED_SHEET  SLURRY_FLOW_LINE_A  SLURRY_FLOW_LINE_B  \\\n",
       "0                     2790.75            2.222222            0.909091   \n",
       "1                     2790.75            2.222222            0.909091   \n",
       "2                     2790.75            2.222222            0.909091   \n",
       "3                     2790.75            2.222222            0.909091   \n",
       "4                     2790.75            2.222222            0.909091   \n",
       "\n",
       "   SLURRY_FLOW_LINE_C  WAFER_ROTATION  STAGE_ROTATION  HEAD_ROTATION  \\\n",
       "0               565.6       34.651163             0.0          156.8   \n",
       "1               568.4       34.651163             0.0          156.8   \n",
       "2               568.4       34.651163             0.0          156.8   \n",
       "3               568.4       34.651163             0.0          156.8   \n",
       "4               571.2       34.651163             0.0          156.8   \n",
       "\n",
       "   DRESSING_WATER_STATUS  EDGE_AIR_BAG_PRESSURE  \n",
       "0                    1.0              60.909091  \n",
       "1                    1.0              60.909091  \n",
       "2                    1.0              60.909091  \n",
       "3                    1.0              60.606061  \n",
       "4                    1.0              60.909091  \n",
       "\n",
       "[5 rows x 25 columns]"
      ]
     },
     "execution_count": 1152,
     "metadata": {},
     "output_type": "execute_result"
    }
   ],
   "source": [
    "df_X.head()"
   ]
  },
  {
   "cell_type": "code",
   "execution_count": 1170,
   "metadata": {
    "scrolled": true
   },
   "outputs": [
    {
     "name": "stdout",
     "output_type": "stream",
     "text": [
      "<class 'pandas.core.frame.DataFrame'>\n",
      "Int64Index: 66099 entries, 0 to 2711\n",
      "Data columns (total 25 columns):\n",
      "MACHINE_ID                      66099 non-null object\n",
      "MACHINE_DATA                    66099 non-null object\n",
      "TIMESTAMP                       66099 non-null float64\n",
      "WAFER_ID                        66099 non-null int64\n",
      "STAGE                           66099 non-null object\n",
      "CHAMBER                         66099 non-null float64\n",
      "USAGE_OF_BACKING_FILM           66099 non-null float64\n",
      "USAGE_OF_DRESSER                66099 non-null float64\n",
      "USAGE_OF_POLISHING_TABLE        66099 non-null float64\n",
      "USAGE_OF_DRESSER_TABLE          66099 non-null float64\n",
      "PRESSURIZED_CHAMBER_PRESSURE    66099 non-null float64\n",
      "MAIN_OUTER_AIR_BAG_PRESSURE     66099 non-null float64\n",
      "CENTER_AIR_BAG_PRESSURE         66099 non-null float64\n",
      "RETAINER_RING_PRESSURE          66099 non-null float64\n",
      "RIPPLE_AIR_BAG_PRESSURE         66099 non-null float64\n",
      "USAGE_OF_MEMBRANE               66099 non-null float64\n",
      "USAGE_OF_PRESSURIZED_SHEET      66099 non-null float64\n",
      "SLURRY_FLOW_LINE_A              66099 non-null float64\n",
      "SLURRY_FLOW_LINE_B              66099 non-null float64\n",
      "SLURRY_FLOW_LINE_C              66099 non-null float64\n",
      "WAFER_ROTATION                  66099 non-null float64\n",
      "STAGE_ROTATION                  66099 non-null float64\n",
      "HEAD_ROTATION                   66099 non-null float64\n",
      "DRESSING_WATER_STATUS           66099 non-null float64\n",
      "EDGE_AIR_BAG_PRESSURE           66099 non-null float64\n",
      "dtypes: float64(21), int64(1), object(3)\n",
      "memory usage: 13.1+ MB\n"
     ]
    }
   ],
   "source": [
    "df_X.info()"
   ]
  },
  {
   "cell_type": "code",
   "execution_count": 1171,
   "metadata": {},
   "outputs": [
    {
     "data": {
      "text/plain": [
       "(1, array([2], dtype=object))"
      ]
     },
     "execution_count": 1171,
     "metadata": {},
     "output_type": "execute_result"
    }
   ],
   "source": [
    "df_X.MACHINE_ID.nunique(),df_X.MACHINE_ID.unique()"
   ]
  },
  {
   "cell_type": "code",
   "execution_count": 1172,
   "metadata": {},
   "outputs": [
    {
     "data": {
      "text/plain": [
       "(6, array([1, 2, 3, 4, 5, 6], dtype=object))"
      ]
     },
     "execution_count": 1172,
     "metadata": {},
     "output_type": "execute_result"
    }
   ],
   "source": [
    "df_X.MACHINE_DATA.nunique(),df_X.MACHINE_DATA.unique()"
   ]
  },
  {
   "cell_type": "code",
   "execution_count": 1173,
   "metadata": {},
   "outputs": [],
   "source": [
    "df_X.WAFER_ID = df_X.WAFER_ID.astype(np.int64)"
   ]
  },
  {
   "cell_type": "code",
   "execution_count": 1174,
   "metadata": {},
   "outputs": [],
   "source": [
    "df_X_dumm = pd.get_dummies(df_X).drop(columns='STAGE_A')\n",
    "df_X_dumm['STAGE'] = df_X_dumm.STAGE_B"
   ]
  },
  {
   "cell_type": "code",
   "execution_count": 1175,
   "metadata": {
    "scrolled": false
   },
   "outputs": [
    {
     "data": {
      "text/html": [
       "<div>\n",
       "<style scoped>\n",
       "    .dataframe tbody tr th:only-of-type {\n",
       "        vertical-align: middle;\n",
       "    }\n",
       "\n",
       "    .dataframe tbody tr th {\n",
       "        vertical-align: top;\n",
       "    }\n",
       "\n",
       "    .dataframe thead th {\n",
       "        text-align: right;\n",
       "    }\n",
       "</style>\n",
       "<table border=\"1\" class=\"dataframe\">\n",
       "  <thead>\n",
       "    <tr style=\"text-align: right;\">\n",
       "      <th></th>\n",
       "      <th>TIMESTAMP</th>\n",
       "      <th>WAFER_ID</th>\n",
       "      <th>CHAMBER</th>\n",
       "      <th>USAGE_OF_BACKING_FILM</th>\n",
       "      <th>USAGE_OF_DRESSER</th>\n",
       "      <th>USAGE_OF_POLISHING_TABLE</th>\n",
       "      <th>USAGE_OF_DRESSER_TABLE</th>\n",
       "      <th>PRESSURIZED_CHAMBER_PRESSURE</th>\n",
       "      <th>MAIN_OUTER_AIR_BAG_PRESSURE</th>\n",
       "      <th>CENTER_AIR_BAG_PRESSURE</th>\n",
       "      <th>...</th>\n",
       "      <th>EDGE_AIR_BAG_PRESSURE</th>\n",
       "      <th>MACHINE_ID_2</th>\n",
       "      <th>MACHINE_DATA_1</th>\n",
       "      <th>MACHINE_DATA_2</th>\n",
       "      <th>MACHINE_DATA_3</th>\n",
       "      <th>MACHINE_DATA_4</th>\n",
       "      <th>MACHINE_DATA_5</th>\n",
       "      <th>MACHINE_DATA_6</th>\n",
       "      <th>STAGE_B</th>\n",
       "      <th>STAGE</th>\n",
       "    </tr>\n",
       "  </thead>\n",
       "  <tbody>\n",
       "    <tr>\n",
       "      <th>0</th>\n",
       "      <td>4.816371e+08</td>\n",
       "      <td>371447024</td>\n",
       "      <td>1.0</td>\n",
       "      <td>9302.5</td>\n",
       "      <td>534.074074</td>\n",
       "      <td>292.592593</td>\n",
       "      <td>2666.25</td>\n",
       "      <td>67.142857</td>\n",
       "      <td>346.8</td>\n",
       "      <td>101.875</td>\n",
       "      <td>...</td>\n",
       "      <td>60.909091</td>\n",
       "      <td>1</td>\n",
       "      <td>1</td>\n",
       "      <td>0</td>\n",
       "      <td>0</td>\n",
       "      <td>0</td>\n",
       "      <td>0</td>\n",
       "      <td>0</td>\n",
       "      <td>0</td>\n",
       "      <td>0</td>\n",
       "    </tr>\n",
       "    <tr>\n",
       "      <th>1</th>\n",
       "      <td>4.816371e+08</td>\n",
       "      <td>371447024</td>\n",
       "      <td>1.0</td>\n",
       "      <td>9302.5</td>\n",
       "      <td>534.074074</td>\n",
       "      <td>292.592593</td>\n",
       "      <td>2666.25</td>\n",
       "      <td>67.142857</td>\n",
       "      <td>348.0</td>\n",
       "      <td>101.875</td>\n",
       "      <td>...</td>\n",
       "      <td>60.909091</td>\n",
       "      <td>1</td>\n",
       "      <td>1</td>\n",
       "      <td>0</td>\n",
       "      <td>0</td>\n",
       "      <td>0</td>\n",
       "      <td>0</td>\n",
       "      <td>0</td>\n",
       "      <td>0</td>\n",
       "      <td>0</td>\n",
       "    </tr>\n",
       "    <tr>\n",
       "      <th>2</th>\n",
       "      <td>4.816371e+08</td>\n",
       "      <td>371447024</td>\n",
       "      <td>1.0</td>\n",
       "      <td>9302.5</td>\n",
       "      <td>534.074074</td>\n",
       "      <td>292.592593</td>\n",
       "      <td>2666.25</td>\n",
       "      <td>67.142857</td>\n",
       "      <td>346.8</td>\n",
       "      <td>101.875</td>\n",
       "      <td>...</td>\n",
       "      <td>60.909091</td>\n",
       "      <td>1</td>\n",
       "      <td>1</td>\n",
       "      <td>0</td>\n",
       "      <td>0</td>\n",
       "      <td>0</td>\n",
       "      <td>0</td>\n",
       "      <td>0</td>\n",
       "      <td>0</td>\n",
       "      <td>0</td>\n",
       "    </tr>\n",
       "    <tr>\n",
       "      <th>3</th>\n",
       "      <td>4.816371e+08</td>\n",
       "      <td>371447024</td>\n",
       "      <td>1.0</td>\n",
       "      <td>9302.5</td>\n",
       "      <td>534.074074</td>\n",
       "      <td>292.592593</td>\n",
       "      <td>2666.25</td>\n",
       "      <td>66.666667</td>\n",
       "      <td>348.0</td>\n",
       "      <td>101.875</td>\n",
       "      <td>...</td>\n",
       "      <td>60.606061</td>\n",
       "      <td>1</td>\n",
       "      <td>1</td>\n",
       "      <td>0</td>\n",
       "      <td>0</td>\n",
       "      <td>0</td>\n",
       "      <td>0</td>\n",
       "      <td>0</td>\n",
       "      <td>0</td>\n",
       "      <td>0</td>\n",
       "    </tr>\n",
       "    <tr>\n",
       "      <th>4</th>\n",
       "      <td>4.816371e+08</td>\n",
       "      <td>371447024</td>\n",
       "      <td>1.0</td>\n",
       "      <td>9302.5</td>\n",
       "      <td>534.074074</td>\n",
       "      <td>292.592593</td>\n",
       "      <td>2666.25</td>\n",
       "      <td>67.142857</td>\n",
       "      <td>348.0</td>\n",
       "      <td>101.875</td>\n",
       "      <td>...</td>\n",
       "      <td>60.909091</td>\n",
       "      <td>1</td>\n",
       "      <td>1</td>\n",
       "      <td>0</td>\n",
       "      <td>0</td>\n",
       "      <td>0</td>\n",
       "      <td>0</td>\n",
       "      <td>0</td>\n",
       "      <td>0</td>\n",
       "      <td>0</td>\n",
       "    </tr>\n",
       "  </tbody>\n",
       "</table>\n",
       "<p>5 rows × 31 columns</p>\n",
       "</div>"
      ],
      "text/plain": [
       "      TIMESTAMP   WAFER_ID  CHAMBER  USAGE_OF_BACKING_FILM  USAGE_OF_DRESSER  \\\n",
       "0  4.816371e+08  371447024      1.0                 9302.5        534.074074   \n",
       "1  4.816371e+08  371447024      1.0                 9302.5        534.074074   \n",
       "2  4.816371e+08  371447024      1.0                 9302.5        534.074074   \n",
       "3  4.816371e+08  371447024      1.0                 9302.5        534.074074   \n",
       "4  4.816371e+08  371447024      1.0                 9302.5        534.074074   \n",
       "\n",
       "   USAGE_OF_POLISHING_TABLE  USAGE_OF_DRESSER_TABLE  \\\n",
       "0                292.592593                 2666.25   \n",
       "1                292.592593                 2666.25   \n",
       "2                292.592593                 2666.25   \n",
       "3                292.592593                 2666.25   \n",
       "4                292.592593                 2666.25   \n",
       "\n",
       "   PRESSURIZED_CHAMBER_PRESSURE  MAIN_OUTER_AIR_BAG_PRESSURE  \\\n",
       "0                     67.142857                        346.8   \n",
       "1                     67.142857                        348.0   \n",
       "2                     67.142857                        346.8   \n",
       "3                     66.666667                        348.0   \n",
       "4                     67.142857                        348.0   \n",
       "\n",
       "   CENTER_AIR_BAG_PRESSURE  ...    EDGE_AIR_BAG_PRESSURE  MACHINE_ID_2  \\\n",
       "0                  101.875  ...                60.909091             1   \n",
       "1                  101.875  ...                60.909091             1   \n",
       "2                  101.875  ...                60.909091             1   \n",
       "3                  101.875  ...                60.606061             1   \n",
       "4                  101.875  ...                60.909091             1   \n",
       "\n",
       "   MACHINE_DATA_1  MACHINE_DATA_2  MACHINE_DATA_3  MACHINE_DATA_4  \\\n",
       "0               1               0               0               0   \n",
       "1               1               0               0               0   \n",
       "2               1               0               0               0   \n",
       "3               1               0               0               0   \n",
       "4               1               0               0               0   \n",
       "\n",
       "   MACHINE_DATA_5  MACHINE_DATA_6  STAGE_B  STAGE  \n",
       "0               0               0        0      0  \n",
       "1               0               0        0      0  \n",
       "2               0               0        0      0  \n",
       "3               0               0        0      0  \n",
       "4               0               0        0      0  \n",
       "\n",
       "[5 rows x 31 columns]"
      ]
     },
     "execution_count": 1175,
     "metadata": {},
     "output_type": "execute_result"
    }
   ],
   "source": [
    "df_X_dumm.head()"
   ]
  },
  {
   "cell_type": "markdown",
   "metadata": {},
   "source": [
    "## 간단 테스트 : 웨이퍼와 STAGE의 그룹별 평균만 뽑아서  학습해본다"
   ]
  },
  {
   "cell_type": "code",
   "execution_count": 1176,
   "metadata": {},
   "outputs": [
    {
     "data": {
      "text/plain": [
       "190"
      ]
     },
     "execution_count": 1176,
     "metadata": {},
     "output_type": "execute_result"
    }
   ],
   "source": [
    "len(df_X_dumm.groupby(['WAFER_ID','STAGE']))"
   ]
  },
  {
   "cell_type": "code",
   "execution_count": 1177,
   "metadata": {},
   "outputs": [],
   "source": [
    "wafer_group = df_X_dumm.groupby(['WAFER_ID','STAGE'])"
   ]
  },
  {
   "cell_type": "code",
   "execution_count": 1178,
   "metadata": {},
   "outputs": [],
   "source": [
    "group_list = [wafer_group.get_group(x) for x in wafer_group.groups]"
   ]
  },
  {
   "cell_type": "code",
   "execution_count": 1179,
   "metadata": {},
   "outputs": [
    {
     "data": {
      "text/plain": [
       "190"
      ]
     },
     "execution_count": 1179,
     "metadata": {},
     "output_type": "execute_result"
    }
   ],
   "source": [
    "WAFER_ID_list = [x for x in wafer_group.groups]\n",
    "len(WAFER_ID_list)"
   ]
  },
  {
   "cell_type": "code",
   "execution_count": 1180,
   "metadata": {},
   "outputs": [
    {
     "data": {
      "text/plain": [
       "190"
      ]
     },
     "execution_count": 1180,
     "metadata": {},
     "output_type": "execute_result"
    }
   ],
   "source": [
    "len(group_list)"
   ]
  },
  {
   "cell_type": "code",
   "execution_count": 1181,
   "metadata": {},
   "outputs": [
    {
     "data": {
      "text/plain": [
       "(-4230160598, 0)"
      ]
     },
     "execution_count": 1181,
     "metadata": {},
     "output_type": "execute_result"
    }
   ],
   "source": [
    "WAFER_ID_list[0]"
   ]
  },
  {
   "cell_type": "code",
   "execution_count": 1182,
   "metadata": {},
   "outputs": [
    {
     "data": {
      "text/plain": [
       "190"
      ]
     },
     "execution_count": 1182,
     "metadata": {},
     "output_type": "execute_result"
    }
   ],
   "source": [
    "AVG_REMOVAL_RATE_list = []\n",
    "for id, stage in WAFER_ID_list:\n",
    "    cond1 = df_Y_dumm.WAFER_ID==id\n",
    "    cond2 = df_Y_dumm.STAGE==stage\n",
    "    cond = np.logical_and(cond1,cond2)\n",
    "    AVG_REMOVAL_RATE_list.append(df_Y_dumm[cond].AVG_REMOVAL_RATE.values)\n",
    "len(AVG_REMOVAL_RATE_list)"
   ]
  },
  {
   "cell_type": "code",
   "execution_count": 1183,
   "metadata": {},
   "outputs": [
    {
     "data": {
      "text/html": [
       "<div>\n",
       "<style scoped>\n",
       "    .dataframe tbody tr th:only-of-type {\n",
       "        vertical-align: middle;\n",
       "    }\n",
       "\n",
       "    .dataframe tbody tr th {\n",
       "        vertical-align: top;\n",
       "    }\n",
       "\n",
       "    .dataframe thead th {\n",
       "        text-align: right;\n",
       "    }\n",
       "</style>\n",
       "<table border=\"1\" class=\"dataframe\">\n",
       "  <thead>\n",
       "    <tr style=\"text-align: right;\">\n",
       "      <th></th>\n",
       "      <th>WAFER_ID</th>\n",
       "      <th>STAGE</th>\n",
       "      <th>AVG_REMOVAL_RATE</th>\n",
       "    </tr>\n",
       "  </thead>\n",
       "  <tbody>\n",
       "    <tr>\n",
       "      <th>0</th>\n",
       "      <td>-4224160600</td>\n",
       "      <td>A</td>\n",
       "      <td>61.65480</td>\n",
       "    </tr>\n",
       "    <tr>\n",
       "      <th>1</th>\n",
       "      <td>-4224160584</td>\n",
       "      <td>B</td>\n",
       "      <td>75.86415</td>\n",
       "    </tr>\n",
       "    <tr>\n",
       "      <th>2</th>\n",
       "      <td>-4224160580</td>\n",
       "      <td>B</td>\n",
       "      <td>71.90700</td>\n",
       "    </tr>\n",
       "    <tr>\n",
       "      <th>3</th>\n",
       "      <td>-4113511818</td>\n",
       "      <td>A</td>\n",
       "      <td>65.02230</td>\n",
       "    </tr>\n",
       "    <tr>\n",
       "      <th>4</th>\n",
       "      <td>-4113511814</td>\n",
       "      <td>A</td>\n",
       "      <td>58.27905</td>\n",
       "    </tr>\n",
       "  </tbody>\n",
       "</table>\n",
       "</div>"
      ],
      "text/plain": [
       "     WAFER_ID STAGE  AVG_REMOVAL_RATE\n",
       "0 -4224160600     A          61.65480\n",
       "1 -4224160584     B          75.86415\n",
       "2 -4224160580     B          71.90700\n",
       "3 -4113511818     A          65.02230\n",
       "4 -4113511814     A          58.27905"
      ]
     },
     "execution_count": 1183,
     "metadata": {},
     "output_type": "execute_result"
    }
   ],
   "source": [
    "df_gt.head()"
   ]
  },
  {
   "cell_type": "code",
   "execution_count": 1243,
   "metadata": {
    "scrolled": false
   },
   "outputs": [
    {
     "data": {
      "text/html": [
       "<div>\n",
       "<style scoped>\n",
       "    .dataframe tbody tr th:only-of-type {\n",
       "        vertical-align: middle;\n",
       "    }\n",
       "\n",
       "    .dataframe tbody tr th {\n",
       "        vertical-align: top;\n",
       "    }\n",
       "\n",
       "    .dataframe thead th {\n",
       "        text-align: right;\n",
       "    }\n",
       "</style>\n",
       "<table border=\"1\" class=\"dataframe\">\n",
       "  <thead>\n",
       "    <tr style=\"text-align: right;\">\n",
       "      <th></th>\n",
       "      <th></th>\n",
       "      <th>TIMESTAMP</th>\n",
       "      <th>CHAMBER</th>\n",
       "      <th>USAGE_OF_BACKING_FILM</th>\n",
       "      <th>USAGE_OF_DRESSER</th>\n",
       "      <th>USAGE_OF_POLISHING_TABLE</th>\n",
       "      <th>USAGE_OF_DRESSER_TABLE</th>\n",
       "      <th>PRESSURIZED_CHAMBER_PRESSURE</th>\n",
       "      <th>MAIN_OUTER_AIR_BAG_PRESSURE</th>\n",
       "      <th>CENTER_AIR_BAG_PRESSURE</th>\n",
       "      <th>RETAINER_RING_PRESSURE</th>\n",
       "      <th>...</th>\n",
       "      <th>DRESSING_WATER_STATUS</th>\n",
       "      <th>EDGE_AIR_BAG_PRESSURE</th>\n",
       "      <th>MACHINE_ID_2</th>\n",
       "      <th>MACHINE_DATA_1</th>\n",
       "      <th>MACHINE_DATA_2</th>\n",
       "      <th>MACHINE_DATA_3</th>\n",
       "      <th>MACHINE_DATA_4</th>\n",
       "      <th>MACHINE_DATA_5</th>\n",
       "      <th>MACHINE_DATA_6</th>\n",
       "      <th>STAGE_B</th>\n",
       "    </tr>\n",
       "    <tr>\n",
       "      <th>WAFER_ID</th>\n",
       "      <th>STAGE</th>\n",
       "      <th></th>\n",
       "      <th></th>\n",
       "      <th></th>\n",
       "      <th></th>\n",
       "      <th></th>\n",
       "      <th></th>\n",
       "      <th></th>\n",
       "      <th></th>\n",
       "      <th></th>\n",
       "      <th></th>\n",
       "      <th></th>\n",
       "      <th></th>\n",
       "      <th></th>\n",
       "      <th></th>\n",
       "      <th></th>\n",
       "      <th></th>\n",
       "      <th></th>\n",
       "      <th></th>\n",
       "      <th></th>\n",
       "      <th></th>\n",
       "      <th></th>\n",
       "    </tr>\n",
       "  </thead>\n",
       "  <tbody>\n",
       "    <tr>\n",
       "      <th>-4230160598</th>\n",
       "      <th>0</th>\n",
       "      <td>4.818060e+08</td>\n",
       "      <td>4.670520</td>\n",
       "      <td>890.069846</td>\n",
       "      <td>634.444444</td>\n",
       "      <td>207.186898</td>\n",
       "      <td>2734.000000</td>\n",
       "      <td>65.993669</td>\n",
       "      <td>203.230058</td>\n",
       "      <td>54.104949</td>\n",
       "      <td>1606.416763</td>\n",
       "      <td>...</td>\n",
       "      <td>0.580925</td>\n",
       "      <td>38.540025</td>\n",
       "      <td>1.0</td>\n",
       "      <td>0.0</td>\n",
       "      <td>0.0</td>\n",
       "      <td>0.0</td>\n",
       "      <td>0.540462</td>\n",
       "      <td>0.248555</td>\n",
       "      <td>0.210983</td>\n",
       "      <td>0.0</td>\n",
       "    </tr>\n",
       "    <tr>\n",
       "      <th>-4230160594</th>\n",
       "      <th>1</th>\n",
       "      <td>4.818593e+08</td>\n",
       "      <td>4.890625</td>\n",
       "      <td>1291.998698</td>\n",
       "      <td>659.116030</td>\n",
       "      <td>216.944444</td>\n",
       "      <td>2750.653320</td>\n",
       "      <td>93.115699</td>\n",
       "      <td>312.839062</td>\n",
       "      <td>73.184814</td>\n",
       "      <td>1834.858594</td>\n",
       "      <td>...</td>\n",
       "      <td>0.484375</td>\n",
       "      <td>47.890625</td>\n",
       "      <td>1.0</td>\n",
       "      <td>0.0</td>\n",
       "      <td>0.0</td>\n",
       "      <td>0.0</td>\n",
       "      <td>0.386719</td>\n",
       "      <td>0.335938</td>\n",
       "      <td>0.277344</td>\n",
       "      <td>1.0</td>\n",
       "    </tr>\n",
       "    <tr>\n",
       "      <th rowspan=\"2\" valign=\"top\">-4228160702</th>\n",
       "      <th>0</th>\n",
       "      <td>4.817933e+08</td>\n",
       "      <td>4.656977</td>\n",
       "      <td>720.477229</td>\n",
       "      <td>626.471792</td>\n",
       "      <td>56.240310</td>\n",
       "      <td>2728.619186</td>\n",
       "      <td>34.432447</td>\n",
       "      <td>105.526744</td>\n",
       "      <td>28.097747</td>\n",
       "      <td>803.615407</td>\n",
       "      <td>...</td>\n",
       "      <td>0.572674</td>\n",
       "      <td>20.059901</td>\n",
       "      <td>1.0</td>\n",
       "      <td>0.0</td>\n",
       "      <td>0.0</td>\n",
       "      <td>0.0</td>\n",
       "      <td>0.549419</td>\n",
       "      <td>0.244186</td>\n",
       "      <td>0.206395</td>\n",
       "      <td>0.0</td>\n",
       "    </tr>\n",
       "    <tr>\n",
       "      <th>1</th>\n",
       "      <td>4.818717e+08</td>\n",
       "      <td>4.649860</td>\n",
       "      <td>1385.847339</td>\n",
       "      <td>663.872808</td>\n",
       "      <td>300.307086</td>\n",
       "      <td>2753.864846</td>\n",
       "      <td>60.332133</td>\n",
       "      <td>205.731092</td>\n",
       "      <td>59.672619</td>\n",
       "      <td>1400.875630</td>\n",
       "      <td>...</td>\n",
       "      <td>0.638655</td>\n",
       "      <td>40.009337</td>\n",
       "      <td>1.0</td>\n",
       "      <td>0.0</td>\n",
       "      <td>0.0</td>\n",
       "      <td>0.0</td>\n",
       "      <td>0.554622</td>\n",
       "      <td>0.240896</td>\n",
       "      <td>0.204482</td>\n",
       "      <td>1.0</td>\n",
       "    </tr>\n",
       "    <tr>\n",
       "      <th>-4228160694</th>\n",
       "      <th>1</th>\n",
       "      <td>4.818591e+08</td>\n",
       "      <td>4.653409</td>\n",
       "      <td>1285.104167</td>\n",
       "      <td>658.696338</td>\n",
       "      <td>210.827020</td>\n",
       "      <td>2750.500000</td>\n",
       "      <td>67.356602</td>\n",
       "      <td>204.160227</td>\n",
       "      <td>52.330433</td>\n",
       "      <td>1519.515341</td>\n",
       "      <td>...</td>\n",
       "      <td>1.000000</td>\n",
       "      <td>37.128099</td>\n",
       "      <td>1.0</td>\n",
       "      <td>0.0</td>\n",
       "      <td>0.0</td>\n",
       "      <td>0.0</td>\n",
       "      <td>0.551136</td>\n",
       "      <td>0.244318</td>\n",
       "      <td>0.204545</td>\n",
       "      <td>1.0</td>\n",
       "    </tr>\n",
       "  </tbody>\n",
       "</table>\n",
       "<p>5 rows × 29 columns</p>\n",
       "</div>"
      ],
      "text/plain": [
       "                      TIMESTAMP   CHAMBER  USAGE_OF_BACKING_FILM  \\\n",
       "WAFER_ID    STAGE                                                  \n",
       "-4230160598 0      4.818060e+08  4.670520             890.069846   \n",
       "-4230160594 1      4.818593e+08  4.890625            1291.998698   \n",
       "-4228160702 0      4.817933e+08  4.656977             720.477229   \n",
       "            1      4.818717e+08  4.649860            1385.847339   \n",
       "-4228160694 1      4.818591e+08  4.653409            1285.104167   \n",
       "\n",
       "                   USAGE_OF_DRESSER  USAGE_OF_POLISHING_TABLE  \\\n",
       "WAFER_ID    STAGE                                               \n",
       "-4230160598 0            634.444444                207.186898   \n",
       "-4230160594 1            659.116030                216.944444   \n",
       "-4228160702 0            626.471792                 56.240310   \n",
       "            1            663.872808                300.307086   \n",
       "-4228160694 1            658.696338                210.827020   \n",
       "\n",
       "                   USAGE_OF_DRESSER_TABLE  PRESSURIZED_CHAMBER_PRESSURE  \\\n",
       "WAFER_ID    STAGE                                                         \n",
       "-4230160598 0                 2734.000000                     65.993669   \n",
       "-4230160594 1                 2750.653320                     93.115699   \n",
       "-4228160702 0                 2728.619186                     34.432447   \n",
       "            1                 2753.864846                     60.332133   \n",
       "-4228160694 1                 2750.500000                     67.356602   \n",
       "\n",
       "                   MAIN_OUTER_AIR_BAG_PRESSURE  CENTER_AIR_BAG_PRESSURE  \\\n",
       "WAFER_ID    STAGE                                                         \n",
       "-4230160598 0                       203.230058                54.104949   \n",
       "-4230160594 1                       312.839062                73.184814   \n",
       "-4228160702 0                       105.526744                28.097747   \n",
       "            1                       205.731092                59.672619   \n",
       "-4228160694 1                       204.160227                52.330433   \n",
       "\n",
       "                   RETAINER_RING_PRESSURE   ...     DRESSING_WATER_STATUS  \\\n",
       "WAFER_ID    STAGE                           ...                             \n",
       "-4230160598 0                 1606.416763   ...                  0.580925   \n",
       "-4230160594 1                 1834.858594   ...                  0.484375   \n",
       "-4228160702 0                  803.615407   ...                  0.572674   \n",
       "            1                 1400.875630   ...                  0.638655   \n",
       "-4228160694 1                 1519.515341   ...                  1.000000   \n",
       "\n",
       "                   EDGE_AIR_BAG_PRESSURE  MACHINE_ID_2  MACHINE_DATA_1  \\\n",
       "WAFER_ID    STAGE                                                        \n",
       "-4230160598 0                  38.540025           1.0             0.0   \n",
       "-4230160594 1                  47.890625           1.0             0.0   \n",
       "-4228160702 0                  20.059901           1.0             0.0   \n",
       "            1                  40.009337           1.0             0.0   \n",
       "-4228160694 1                  37.128099           1.0             0.0   \n",
       "\n",
       "                   MACHINE_DATA_2  MACHINE_DATA_3  MACHINE_DATA_4  \\\n",
       "WAFER_ID    STAGE                                                   \n",
       "-4230160598 0                 0.0             0.0        0.540462   \n",
       "-4230160594 1                 0.0             0.0        0.386719   \n",
       "-4228160702 0                 0.0             0.0        0.549419   \n",
       "            1                 0.0             0.0        0.554622   \n",
       "-4228160694 1                 0.0             0.0        0.551136   \n",
       "\n",
       "                   MACHINE_DATA_5  MACHINE_DATA_6  STAGE_B  \n",
       "WAFER_ID    STAGE                                           \n",
       "-4230160598 0            0.248555        0.210983      0.0  \n",
       "-4230160594 1            0.335938        0.277344      1.0  \n",
       "-4228160702 0            0.244186        0.206395      0.0  \n",
       "            1            0.240896        0.204482      1.0  \n",
       "-4228160694 1            0.244318        0.204545      1.0  \n",
       "\n",
       "[5 rows x 29 columns]"
      ]
     },
     "execution_count": 1243,
     "metadata": {},
     "output_type": "execute_result"
    }
   ],
   "source": [
    "wafer_group.mean().head()"
   ]
  },
  {
   "cell_type": "markdown",
   "metadata": {},
   "source": [
    "##  데이터 준비끝. 데이터 numpy 배열로 변환"
   ]
  },
  {
   "cell_type": "code",
   "execution_count": 1185,
   "metadata": {},
   "outputs": [
    {
     "data": {
      "text/plain": [
       "((190, 29), (190, 1))"
      ]
     },
     "execution_count": 1185,
     "metadata": {},
     "output_type": "execute_result"
    }
   ],
   "source": [
    "X = np.array(wafer_group.mean())\n",
    "Y = np.array(AVG_REMOVAL_RATE_list)\n",
    "\n",
    "X.shape, Y.shape"
   ]
  },
  {
   "cell_type": "markdown",
   "metadata": {},
   "source": [
    "## 스케일러로 정규화"
   ]
  },
  {
   "cell_type": "code",
   "execution_count": 1186,
   "metadata": {},
   "outputs": [],
   "source": [
    "from sklearn.preprocessing import MinMaxScaler"
   ]
  },
  {
   "cell_type": "code",
   "execution_count": 1187,
   "metadata": {},
   "outputs": [],
   "source": [
    "scaler = MinMaxScaler().fit(X)"
   ]
  },
  {
   "cell_type": "code",
   "execution_count": 1188,
   "metadata": {},
   "outputs": [],
   "source": [
    "XN = scaler.transform(X)"
   ]
  },
  {
   "cell_type": "code",
   "execution_count": 1189,
   "metadata": {},
   "outputs": [
    {
     "data": {
      "image/png": "[encoded data removed]",
      "text/plain": [
       "<Figure size 432x288 with 1 Axes>"
      ]
     },
     "metadata": {},
     "output_type": "display_data"
    }
   ],
   "source": [
    "axis = plt.boxplot(XN)"
   ]
  },
  {
   "cell_type": "markdown",
   "metadata": {},
   "source": [
    "## 학습데이터와 테스트 데이터 붙여 놓은것을  분리한다"
   ]
  },
  {
   "cell_type": "code",
   "execution_count": 1191,
   "metadata": {},
   "outputs": [
    {
     "data": {
      "text/plain": [
       "(162, 28, (190, 29))"
      ]
     },
     "execution_count": 1191,
     "metadata": {},
     "output_type": "execute_result"
    }
   ],
   "source": [
    "train_m,test_m, XN.shape"
   ]
  },
  {
   "cell_type": "code",
   "execution_count": 1192,
   "metadata": {},
   "outputs": [
    {
     "data": {
      "text/plain": [
       "((162, 29), (162, 1), (28, 29), (28, 1))"
      ]
     },
     "execution_count": 1192,
     "metadata": {},
     "output_type": "execute_result"
    }
   ],
   "source": [
    "X_train_valid = XN[:train_m]\n",
    "Y_train_valid = Y[:train_m]\n",
    "X_test = XN[train_m:]\n",
    "Y_test = Y[train_m:]\n",
    "X_train_valid.shape,Y_train_valid.shape, X_test.shape,Y_test.shape"
   ]
  },
  {
   "cell_type": "markdown",
   "metadata": {},
   "source": [
    "## 학습데이터를 train 과 valid 셋으로 분리한다"
   ]
  },
  {
   "cell_type": "code",
   "execution_count": 1190,
   "metadata": {},
   "outputs": [],
   "source": [
    "from sklearn.model_selection import train_test_split"
   ]
  },
  {
   "cell_type": "code",
   "execution_count": 1200,
   "metadata": {},
   "outputs": [
    {
     "data": {
      "text/plain": [
       "((81, 29), (81, 29), (81, 1), (81, 1), 75)"
      ]
     },
     "execution_count": 1200,
     "metadata": {},
     "output_type": "execute_result"
    }
   ],
   "source": [
    "seed = np.random.randint(100)\n",
    "train_test_ratio = 0.5\n",
    "X_train, X_valid, Y_train, Y_valid = train_test_split(X_train_valid,Y_train_valid,test_size = train_test_ratio,random_state=seed)\n",
    "X_train.shape, X_valid.shape,Y_train.shape, Y_valid.shape,seed"
   ]
  },
  {
   "cell_type": "markdown",
   "metadata": {},
   "source": [
    "## 선형 회귀모델로 간단히 학습시켜 본다"
   ]
  },
  {
   "cell_type": "code",
   "execution_count": 1201,
   "metadata": {},
   "outputs": [],
   "source": [
    "from sklearn.linear_model import LinearRegression"
   ]
  },
  {
   "cell_type": "code",
   "execution_count": 1202,
   "metadata": {},
   "outputs": [],
   "source": [
    "model = LinearRegression().fit(X_train,Y_train)"
   ]
  },
  {
   "cell_type": "code",
   "execution_count": 1244,
   "metadata": {
    "scrolled": true
   },
   "outputs": [
    {
     "data": {
      "text/plain": [
       "<matplotlib.legend.Legend at 0x18e12200cf8>"
      ]
     },
     "execution_count": 1244,
     "metadata": {},
     "output_type": "execute_result"
    },
    {
     "data": {
      "image/png": "[encoded data removed]",
      "text/plain": [
       "<Figure size 864x720 with 2 Axes>"
      ]
     },
     "metadata": {},
     "output_type": "display_data"
    }
   ],
   "source": [
    "fig, axes = plt.subplots(2,1,figsize=(12,10))\n",
    "axes[0].plot(Y_train,linewidth=8)\n",
    "axes[0].plot(model.predict(X_train),c='r',linestyle='-')\n",
    "axes[0].set_title('train')\n",
    "axes[0].legend(['Y_train','P_train'])\n",
    "\n",
    "axes[1].plot(Y_valid)\n",
    "axes[1].plot(model.predict(X_valid),linestyle='--')\n",
    "axes[1].set_title('test')\n",
    "axes[1].legend(['Y_valid','P_valid'])"
   ]
  },
  {
   "cell_type": "markdown",
   "metadata": {},
   "source": [
    "## 결정계수로 성능을 측정한다"
   ]
  },
  {
   "cell_type": "code",
   "execution_count": 1204,
   "metadata": {},
   "outputs": [
    {
     "data": {
      "text/plain": [
       "(0.9876623376723829, 0.9604380978573369, 0.9497972390322201)"
      ]
     },
     "execution_count": 1204,
     "metadata": {},
     "output_type": "execute_result"
    }
   ],
   "source": [
    "model.score(X_train,Y_train), model.score(X_valid,Y_valid), model.score(X_test,Y_test)"
   ]
  },
  {
   "cell_type": "markdown",
   "metadata": {},
   "source": [
    "## 예측 결과의 제출물 파일 작성하기  "
   ]
  },
  {
   "cell_type": "code",
   "execution_count": 1205,
   "metadata": {},
   "outputs": [
    {
     "data": {
      "text/plain": [
       "(28, (329446886, 0))"
      ]
     },
     "execution_count": 1205,
     "metadata": {},
     "output_type": "execute_result"
    }
   ],
   "source": [
    "test_WAFFER_ID_list = WAFER_ID_list[train_m:]\n",
    "len(test_WAFFER_ID_list),test_WAFFER_ID_list[0]"
   ]
  },
  {
   "cell_type": "code",
   "execution_count": 1206,
   "metadata": {},
   "outputs": [
    {
     "data": {
      "text/plain": [
       "(28, 1)"
      ]
     },
     "execution_count": 1206,
     "metadata": {},
     "output_type": "execute_result"
    }
   ],
   "source": [
    "X_test_predict = model.predict(X_test)\n",
    "X_test_predict.shape"
   ]
  },
  {
   "cell_type": "code",
   "execution_count": 1207,
   "metadata": {},
   "outputs": [
    {
     "data": {
      "text/plain": [
       "(28, 3)"
      ]
     },
     "execution_count": 1207,
     "metadata": {},
     "output_type": "execute_result"
    }
   ],
   "source": [
    "test_submit = np.concatenate( (test_WAFFER_ID_list, X_test_predict), -1)\n",
    "test_submit.shape"
   ]
  },
  {
   "cell_type": "code",
   "execution_count": 1208,
   "metadata": {},
   "outputs": [
    {
     "name": "stdout",
     "output_type": "stream",
     "text": [
      " C 드라이브의 볼륨에는 이름이 없습니다.\n",
      " 볼륨 일련 번호: 5ACF-C43B\n",
      "\n",
      " C:\\Users\\sogan\\Documents\\PHM 디렉터리\n",
      "\n",
      "2018-08-10  오전 11:53             2,163 predict_park1000.csv\n",
      "               1개 파일               2,163 바이트\n",
      "               0개 디렉터리  144,467,423,232 바이트 남음\n"
     ]
    }
   ],
   "source": [
    "submit_file = 'predict_park1000.csv'\n",
    "np.savetxt(submit_file,test_submit, delimiter=',',header='WAFER_ID,STAGE,AVG_REMOVAL_RATE')\n",
    "%ls *.csv"
   ]
  },
  {
   "cell_type": "code",
   "execution_count": 1239,
   "metadata": {},
   "outputs": [],
   "source": [
    "submit_df = pd.read_csv(submit_file)"
   ]
  },
  {
   "cell_type": "code",
   "execution_count": 1240,
   "metadata": {},
   "outputs": [],
   "source": [
    "submit_df.STAGE[submit_df.STAGE==0] = 'A'\n",
    "submit_df.STAGE[submit_df.STAGE==1] = 'B'"
   ]
  },
  {
   "cell_type": "code",
   "execution_count": 1241,
   "metadata": {},
   "outputs": [
    {
     "data": {
      "text/html": [
       "<div>\n",
       "<style scoped>\n",
       "    .dataframe tbody tr th:only-of-type {\n",
       "        vertical-align: middle;\n",
       "    }\n",
       "\n",
       "    .dataframe tbody tr th {\n",
       "        vertical-align: top;\n",
       "    }\n",
       "\n",
       "    .dataframe thead th {\n",
       "        text-align: right;\n",
       "    }\n",
       "</style>\n",
       "<table border=\"1\" class=\"dataframe\">\n",
       "  <thead>\n",
       "    <tr style=\"text-align: right;\">\n",
       "      <th></th>\n",
       "      <th># WAFER_ID</th>\n",
       "      <th>STAGE</th>\n",
       "      <th>AVG_REMOVAL_RATE</th>\n",
       "    </tr>\n",
       "  </thead>\n",
       "  <tbody>\n",
       "    <tr>\n",
       "      <th>0</th>\n",
       "      <td>329446886.0</td>\n",
       "      <td>A</td>\n",
       "      <td>164.234356</td>\n",
       "    </tr>\n",
       "    <tr>\n",
       "      <th>1</th>\n",
       "      <td>329446898.0</td>\n",
       "      <td>A</td>\n",
       "      <td>155.627957</td>\n",
       "    </tr>\n",
       "    <tr>\n",
       "      <th>2</th>\n",
       "      <td>329446902.0</td>\n",
       "      <td>A</td>\n",
       "      <td>140.064167</td>\n",
       "    </tr>\n",
       "    <tr>\n",
       "      <th>3</th>\n",
       "      <td>329446906.0</td>\n",
       "      <td>A</td>\n",
       "      <td>148.816559</td>\n",
       "    </tr>\n",
       "    <tr>\n",
       "      <th>4</th>\n",
       "      <td>329446910.0</td>\n",
       "      <td>A</td>\n",
       "      <td>148.948423</td>\n",
       "    </tr>\n",
       "  </tbody>\n",
       "</table>\n",
       "</div>"
      ],
      "text/plain": [
       "    # WAFER_ID STAGE  AVG_REMOVAL_RATE\n",
       "0  329446886.0     A        164.234356\n",
       "1  329446898.0     A        155.627957\n",
       "2  329446902.0     A        140.064167\n",
       "3  329446906.0     A        148.816559\n",
       "4  329446910.0     A        148.948423"
      ]
     },
     "execution_count": 1241,
     "metadata": {},
     "output_type": "execute_result"
    }
   ],
   "source": [
    "submit_df.head()"
   ]
  }
 ],
 "metadata": {
  "kernelspec": {
   "display_name": "Python 3",
   "language": "python",
   "name": "python3"
  },
  "language_info": {
   "codemirror_mode": {
    "name": "ipython",
    "version": 3
   },
   "file_extension": ".py",
   "mimetype": "text/x-python",
   "name": "python",
   "nbconvert_exporter": "python",
   "pygments_lexer": "ipython3",
   "version": "3.6.6"
  }
 },
 "nbformat": 4,
 "nbformat_minor": 2
}
