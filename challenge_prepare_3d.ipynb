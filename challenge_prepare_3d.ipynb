{
 "cells": [
  {
   "cell_type": "code",
   "execution_count": 1,
   "metadata": {},
   "outputs": [],
   "source": [
    "import pandas as pd\n",
    "import numpy as np\n",
    "import matplotlib.pyplot as plt\n",
    "import glob"
   ]
  },
  {
   "cell_type": "code",
   "execution_count": 2,
   "metadata": {},
   "outputs": [],
   "source": [
    "%matplotlib inline"
   ]
  },
  {
   "cell_type": "code",
   "execution_count": 3,
   "metadata": {},
   "outputs": [],
   "source": [
    "maximum_csv_read_cound = 5"
   ]
  },
  {
   "cell_type": "code",
   "execution_count": 4,
   "metadata": {},
   "outputs": [],
   "source": [
    "folder_root = '/home/sogangori/Downloads/dataset/PHM/'\n",
    "folder_train = folder_root + 'set/CMP-data/training/'\n",
    "folder_test = folder_root + 'set/CMP-data/test/'\n",
    "path_train_gt = folder_root + 'set//CMP-training-removalrate.csv'\n",
    "path_test_gt = folder_root + 'PHM16TestValidationAnswers/orig_CMP-test-removalrate.csv'"
   ]
  },
  {
   "cell_type": "code",
   "execution_count": 5,
   "metadata": {},
   "outputs": [
    {
     "data": {
      "text/plain": [
       "('/home/sogangori/Downloads/dataset/PHM/set/CMP-data/training/CMP-training-000.csv',\n",
       " '/home/sogangori/Downloads/dataset/PHM/set/CMP-data/test/CMP-test-000.csv',\n",
       " 185,\n",
       " 185)"
      ]
     },
     "execution_count": 5,
     "metadata": {},
     "output_type": "execute_result"
    }
   ],
   "source": [
    "paths_train = glob.glob(folder_train+'*.csv')\n",
    "paths_test = glob.glob(folder_test+'*.csv')\n",
    "paths_train.sort()\n",
    "paths_test.sort()\n",
    "paths_train[0],paths_test[0],len(paths_train),len(paths_test)"
   ]
  },
  {
   "cell_type": "markdown",
   "metadata": {},
   "source": [
    "## 학습데이터와 테스트 데이터 읽기 "
   ]
  },
  {
   "cell_type": "code",
   "execution_count": 6,
   "metadata": {},
   "outputs": [
    {
     "data": {
      "text/plain": [
       "(1981, 3)"
      ]
     },
     "execution_count": 6,
     "metadata": {},
     "output_type": "execute_result"
    }
   ],
   "source": [
    "df_gt = pd.read_csv(path_train_gt)\n",
    "df_gt.shape"
   ]
  },
  {
   "cell_type": "code",
   "execution_count": 7,
   "metadata": {},
   "outputs": [
    {
     "data": {
      "text/plain": [
       "(424, 3)"
      ]
     },
     "execution_count": 7,
     "metadata": {},
     "output_type": "execute_result"
    }
   ],
   "source": [
    "df_gt_test = pd.read_csv(path_test_gt)\n",
    "df_gt_test.shape"
   ]
  },
  {
   "cell_type": "code",
   "execution_count": 8,
   "metadata": {},
   "outputs": [],
   "source": [
    "def read_cvs_files(folder, maximum_read_cound):\n",
    "    df_list = []    \n",
    "    for i in range(np.minimum(maximum_read_cound,len(folder))):\n",
    "        df = pd.read_csv(folder[i])\n",
    "        df_list.append(df)\n",
    "    print(len(df_list), df.shape)\n",
    "    df = pd.concat(df_list, 0)\n",
    "    return df    "
   ]
  },
  {
   "cell_type": "code",
   "execution_count": 9,
   "metadata": {},
   "outputs": [
    {
     "name": "stdout",
     "output_type": "stream",
     "text": [
      "5 (8120, 25)\n"
     ]
    },
    {
     "data": {
      "text/plain": [
       "((35620, 25), 35620)"
      ]
     },
     "execution_count": 9,
     "metadata": {},
     "output_type": "execute_result"
    }
   ],
   "source": [
    "df_train = read_cvs_files(paths_train, maximum_csv_read_cound)\n",
    "df = df_train\n",
    "df_train.shape, len(df_train)"
   ]
  },
  {
   "cell_type": "code",
   "execution_count": 10,
   "metadata": {
    "scrolled": false
   },
   "outputs": [
    {
     "name": "stdout",
     "output_type": "stream",
     "text": [
      "5 (1077, 25)\n"
     ]
    },
    {
     "data": {
      "text/plain": [
       "(6376, 25)"
      ]
     },
     "execution_count": 10,
     "metadata": {},
     "output_type": "execute_result"
    }
   ],
   "source": [
    "df_test = read_cvs_files(paths_test, maximum_csv_read_cound)\n",
    "df_test.shape"
   ]
  },
  {
   "cell_type": "code",
   "execution_count": 11,
   "metadata": {},
   "outputs": [
    {
     "data": {
      "text/plain": [
       "(102, 16)"
      ]
     },
     "execution_count": 11,
     "metadata": {},
     "output_type": "execute_result"
    }
   ],
   "source": [
    "train_m = (df_train.WAFER_ID.astype(np.str) + df_train.STAGE).nunique()\n",
    "test_m = (df_test.WAFER_ID.astype(np.str) + df_test.STAGE).nunique()\n",
    "train_m,test_m"
   ]
  },
  {
   "cell_type": "markdown",
   "metadata": {},
   "source": [
    "### check type"
   ]
  },
  {
   "cell_type": "code",
   "execution_count": 12,
   "metadata": {},
   "outputs": [
    {
     "data": {
      "text/plain": [
       "WAFER_ID              int64\n",
       "STAGE                object\n",
       "AVG_REMOVAL_RATE    float64\n",
       "dtype: object"
      ]
     },
     "execution_count": 12,
     "metadata": {},
     "output_type": "execute_result"
    }
   ],
   "source": [
    "df_gt.dtypes"
   ]
  },
  {
   "cell_type": "code",
   "execution_count": 13,
   "metadata": {},
   "outputs": [
    {
     "data": {
      "text/plain": [
       "WAFER_ID              int64\n",
       "STAGE                object\n",
       "AVG_REMOVAL_RATE    float64\n",
       "dtype: object"
      ]
     },
     "execution_count": 13,
     "metadata": {},
     "output_type": "execute_result"
    }
   ],
   "source": [
    "df_gt_test.dtypes"
   ]
  },
  {
   "cell_type": "code",
   "execution_count": 14,
   "metadata": {},
   "outputs": [
    {
     "data": {
      "text/plain": [
       "(0, 0)"
      ]
     },
     "execution_count": 14,
     "metadata": {},
     "output_type": "execute_result"
    }
   ],
   "source": [
    "df_gt_test.isnull().sum().sum(), df_gt_test.isna().sum().sum()"
   ]
  },
  {
   "cell_type": "code",
   "execution_count": 15,
   "metadata": {},
   "outputs": [
    {
     "data": {
      "text/html": [
       "<div>\n",
       "<style scoped>\n",
       "    .dataframe tbody tr th:only-of-type {\n",
       "        vertical-align: middle;\n",
       "    }\n",
       "\n",
       "    .dataframe tbody tr th {\n",
       "        vertical-align: top;\n",
       "    }\n",
       "\n",
       "    .dataframe thead th {\n",
       "        text-align: right;\n",
       "    }\n",
       "</style>\n",
       "<table border=\"1\" class=\"dataframe\">\n",
       "  <thead>\n",
       "    <tr style=\"text-align: right;\">\n",
       "      <th></th>\n",
       "      <th>WAFER_ID</th>\n",
       "      <th>STAGE</th>\n",
       "      <th>AVG_REMOVAL_RATE</th>\n",
       "    </tr>\n",
       "  </thead>\n",
       "  <tbody>\n",
       "    <tr>\n",
       "      <th>0</th>\n",
       "      <td>-4224160678</td>\n",
       "      <td>B</td>\n",
       "      <td>66.9813</td>\n",
       "    </tr>\n",
       "    <tr>\n",
       "      <th>1</th>\n",
       "      <td>-4224160592</td>\n",
       "      <td>A</td>\n",
       "      <td>56.1786</td>\n",
       "    </tr>\n",
       "    <tr>\n",
       "      <th>2</th>\n",
       "      <td>-887170152</td>\n",
       "      <td>B</td>\n",
       "      <td>64.3881</td>\n",
       "    </tr>\n",
       "    <tr>\n",
       "      <th>3</th>\n",
       "      <td>373446766</td>\n",
       "      <td>A</td>\n",
       "      <td>153.2610</td>\n",
       "    </tr>\n",
       "    <tr>\n",
       "      <th>4</th>\n",
       "      <td>-4224160686</td>\n",
       "      <td>A</td>\n",
       "      <td>57.2523</td>\n",
       "    </tr>\n",
       "  </tbody>\n",
       "</table>\n",
       "</div>"
      ],
      "text/plain": [
       "     WAFER_ID STAGE  AVG_REMOVAL_RATE\n",
       "0 -4224160678     B           66.9813\n",
       "1 -4224160592     A           56.1786\n",
       "2  -887170152     B           64.3881\n",
       "3   373446766     A          153.2610\n",
       "4 -4224160686     A           57.2523"
      ]
     },
     "execution_count": 15,
     "metadata": {},
     "output_type": "execute_result"
    }
   ],
   "source": [
    "df_gt_test.head()"
   ]
  },
  {
   "cell_type": "markdown",
   "metadata": {},
   "source": [
    "### concat train/test set"
   ]
  },
  {
   "cell_type": "code",
   "execution_count": 221,
   "metadata": {},
   "outputs": [
    {
     "data": {
      "text/plain": [
       "((41996, 25), (2405, 3))"
      ]
     },
     "execution_count": 221,
     "metadata": {},
     "output_type": "execute_result"
    }
   ],
   "source": [
    "df_X = pd.concat((df_train, df_test))\n",
    "df_Y = pd.concat((df_gt, df_gt_test))\n",
    "df_X.shape, df_Y.shape"
   ]
  },
  {
   "cell_type": "code",
   "execution_count": 222,
   "metadata": {
    "scrolled": true
   },
   "outputs": [
    {
     "data": {
      "text/html": [
       "<div>\n",
       "<style scoped>\n",
       "    .dataframe tbody tr th:only-of-type {\n",
       "        vertical-align: middle;\n",
       "    }\n",
       "\n",
       "    .dataframe tbody tr th {\n",
       "        vertical-align: top;\n",
       "    }\n",
       "\n",
       "    .dataframe thead th {\n",
       "        text-align: right;\n",
       "    }\n",
       "</style>\n",
       "<table border=\"1\" class=\"dataframe\">\n",
       "  <thead>\n",
       "    <tr style=\"text-align: right;\">\n",
       "      <th></th>\n",
       "      <th>WAFER_ID</th>\n",
       "      <th>STAGE</th>\n",
       "      <th>AVG_REMOVAL_RATE</th>\n",
       "    </tr>\n",
       "  </thead>\n",
       "  <tbody>\n",
       "    <tr>\n",
       "      <th>0</th>\n",
       "      <td>-4224160600</td>\n",
       "      <td>A</td>\n",
       "      <td>61.65480</td>\n",
       "    </tr>\n",
       "    <tr>\n",
       "      <th>1</th>\n",
       "      <td>-4224160584</td>\n",
       "      <td>B</td>\n",
       "      <td>75.86415</td>\n",
       "    </tr>\n",
       "    <tr>\n",
       "      <th>2</th>\n",
       "      <td>-4224160580</td>\n",
       "      <td>B</td>\n",
       "      <td>71.90700</td>\n",
       "    </tr>\n",
       "    <tr>\n",
       "      <th>3</th>\n",
       "      <td>-4113511818</td>\n",
       "      <td>A</td>\n",
       "      <td>65.02230</td>\n",
       "    </tr>\n",
       "    <tr>\n",
       "      <th>4</th>\n",
       "      <td>-4113511814</td>\n",
       "      <td>A</td>\n",
       "      <td>58.27905</td>\n",
       "    </tr>\n",
       "  </tbody>\n",
       "</table>\n",
       "</div>"
      ],
      "text/plain": [
       "     WAFER_ID STAGE  AVG_REMOVAL_RATE\n",
       "0 -4224160600     A          61.65480\n",
       "1 -4224160584     B          75.86415\n",
       "2 -4224160580     B          71.90700\n",
       "3 -4113511818     A          65.02230\n",
       "4 -4113511814     A          58.27905"
      ]
     },
     "execution_count": 222,
     "metadata": {},
     "output_type": "execute_result"
    }
   ],
   "source": [
    "df_Y.head()"
   ]
  },
  {
   "cell_type": "code",
   "execution_count": 223,
   "metadata": {},
   "outputs": [
    {
     "data": {
      "text/plain": [
       "WAFER_ID              int64\n",
       "STAGE                object\n",
       "AVG_REMOVAL_RATE    float64\n",
       "dtype: object"
      ]
     },
     "execution_count": 223,
     "metadata": {},
     "output_type": "execute_result"
    }
   ],
   "source": [
    "df_Y.dtypes"
   ]
  },
  {
   "cell_type": "code",
   "execution_count": 224,
   "metadata": {},
   "outputs": [
    {
     "data": {
      "text/plain": [
       "WAFER_ID            0.0\n",
       "STAGE               0.0\n",
       "AVG_REMOVAL_RATE    0.0\n",
       "dtype: float64"
      ]
     },
     "execution_count": 224,
     "metadata": {},
     "output_type": "execute_result"
    }
   ],
   "source": [
    "df_Y.isna().mean()"
   ]
  },
  {
   "cell_type": "code",
   "execution_count": 225,
   "metadata": {},
   "outputs": [
    {
     "data": {
      "text/plain": [
       "WAFER_ID            0.0\n",
       "STAGE               0.0\n",
       "AVG_REMOVAL_RATE    0.0\n",
       "dtype: float64"
      ]
     },
     "execution_count": 225,
     "metadata": {},
     "output_type": "execute_result"
    }
   ],
   "source": [
    "df_Y.isnull().mean()"
   ]
  },
  {
   "cell_type": "markdown",
   "metadata": {},
   "source": [
    "## 전처리 convert category to int"
   ]
  },
  {
   "cell_type": "code",
   "execution_count": 226,
   "metadata": {},
   "outputs": [
    {
     "data": {
      "text/html": [
       "<div>\n",
       "<style scoped>\n",
       "    .dataframe tbody tr th:only-of-type {\n",
       "        vertical-align: middle;\n",
       "    }\n",
       "\n",
       "    .dataframe tbody tr th {\n",
       "        vertical-align: top;\n",
       "    }\n",
       "\n",
       "    .dataframe thead th {\n",
       "        text-align: right;\n",
       "    }\n",
       "</style>\n",
       "<table border=\"1\" class=\"dataframe\">\n",
       "  <thead>\n",
       "    <tr style=\"text-align: right;\">\n",
       "      <th></th>\n",
       "      <th>WAFER_ID</th>\n",
       "      <th>AVG_REMOVAL_RATE</th>\n",
       "      <th>STAGE_A</th>\n",
       "      <th>STAGE_B</th>\n",
       "    </tr>\n",
       "  </thead>\n",
       "  <tbody>\n",
       "    <tr>\n",
       "      <th>0</th>\n",
       "      <td>-4224160600</td>\n",
       "      <td>61.65480</td>\n",
       "      <td>1</td>\n",
       "      <td>0</td>\n",
       "    </tr>\n",
       "    <tr>\n",
       "      <th>1</th>\n",
       "      <td>-4224160584</td>\n",
       "      <td>75.86415</td>\n",
       "      <td>0</td>\n",
       "      <td>1</td>\n",
       "    </tr>\n",
       "    <tr>\n",
       "      <th>2</th>\n",
       "      <td>-4224160580</td>\n",
       "      <td>71.90700</td>\n",
       "      <td>0</td>\n",
       "      <td>1</td>\n",
       "    </tr>\n",
       "    <tr>\n",
       "      <th>3</th>\n",
       "      <td>-4113511818</td>\n",
       "      <td>65.02230</td>\n",
       "      <td>1</td>\n",
       "      <td>0</td>\n",
       "    </tr>\n",
       "    <tr>\n",
       "      <th>4</th>\n",
       "      <td>-4113511814</td>\n",
       "      <td>58.27905</td>\n",
       "      <td>1</td>\n",
       "      <td>0</td>\n",
       "    </tr>\n",
       "  </tbody>\n",
       "</table>\n",
       "</div>"
      ],
      "text/plain": [
       "     WAFER_ID  AVG_REMOVAL_RATE  STAGE_A  STAGE_B\n",
       "0 -4224160600          61.65480        1        0\n",
       "1 -4224160584          75.86415        0        1\n",
       "2 -4224160580          71.90700        0        1\n",
       "3 -4113511818          65.02230        1        0\n",
       "4 -4113511814          58.27905        1        0"
      ]
     },
     "execution_count": 226,
     "metadata": {},
     "output_type": "execute_result"
    }
   ],
   "source": [
    "pd.get_dummies(df_Y).head()"
   ]
  },
  {
   "cell_type": "code",
   "execution_count": 227,
   "metadata": {},
   "outputs": [],
   "source": [
    "df_Y_dumm = pd.get_dummies(df_Y).drop(columns='STAGE_A')"
   ]
  },
  {
   "cell_type": "code",
   "execution_count": 228,
   "metadata": {},
   "outputs": [],
   "source": [
    "df_Y_dumm = df_Y_dumm.rename(columns={'STAGE_B':'STAGE'})"
   ]
  },
  {
   "cell_type": "code",
   "execution_count": 229,
   "metadata": {
    "scrolled": true
   },
   "outputs": [
    {
     "data": {
      "text/html": [
       "<div>\n",
       "<style scoped>\n",
       "    .dataframe tbody tr th:only-of-type {\n",
       "        vertical-align: middle;\n",
       "    }\n",
       "\n",
       "    .dataframe tbody tr th {\n",
       "        vertical-align: top;\n",
       "    }\n",
       "\n",
       "    .dataframe thead th {\n",
       "        text-align: right;\n",
       "    }\n",
       "</style>\n",
       "<table border=\"1\" class=\"dataframe\">\n",
       "  <thead>\n",
       "    <tr style=\"text-align: right;\">\n",
       "      <th></th>\n",
       "      <th>WAFER_ID</th>\n",
       "      <th>AVG_REMOVAL_RATE</th>\n",
       "      <th>STAGE</th>\n",
       "    </tr>\n",
       "  </thead>\n",
       "  <tbody>\n",
       "    <tr>\n",
       "      <th>0</th>\n",
       "      <td>-4224160600</td>\n",
       "      <td>61.65480</td>\n",
       "      <td>0</td>\n",
       "    </tr>\n",
       "    <tr>\n",
       "      <th>1</th>\n",
       "      <td>-4224160584</td>\n",
       "      <td>75.86415</td>\n",
       "      <td>1</td>\n",
       "    </tr>\n",
       "    <tr>\n",
       "      <th>2</th>\n",
       "      <td>-4224160580</td>\n",
       "      <td>71.90700</td>\n",
       "      <td>1</td>\n",
       "    </tr>\n",
       "    <tr>\n",
       "      <th>3</th>\n",
       "      <td>-4113511818</td>\n",
       "      <td>65.02230</td>\n",
       "      <td>0</td>\n",
       "    </tr>\n",
       "    <tr>\n",
       "      <th>4</th>\n",
       "      <td>-4113511814</td>\n",
       "      <td>58.27905</td>\n",
       "      <td>0</td>\n",
       "    </tr>\n",
       "  </tbody>\n",
       "</table>\n",
       "</div>"
      ],
      "text/plain": [
       "     WAFER_ID  AVG_REMOVAL_RATE  STAGE\n",
       "0 -4224160600          61.65480      0\n",
       "1 -4224160584          75.86415      1\n",
       "2 -4224160580          71.90700      1\n",
       "3 -4113511818          65.02230      0\n",
       "4 -4113511814          58.27905      0"
      ]
     },
     "execution_count": 229,
     "metadata": {},
     "output_type": "execute_result"
    }
   ],
   "source": [
    "df_Y_dumm = df_Y_dumm\n",
    "df_Y_dumm.head()"
   ]
  },
  {
   "cell_type": "code",
   "execution_count": 230,
   "metadata": {},
   "outputs": [
    {
     "data": {
      "text/plain": [
       "(74, 16)"
      ]
     },
     "execution_count": 230,
     "metadata": {},
     "output_type": "execute_result"
    }
   ],
   "source": [
    "train_unique_WAFER_m = df_train.WAFER_ID.nunique()\n",
    "df_train.WAFER_ID.nunique(),df_test.WAFER_ID.nunique()"
   ]
  },
  {
   "cell_type": "code",
   "execution_count": 231,
   "metadata": {
    "scrolled": true
   },
   "outputs": [
    {
     "data": {
      "text/html": [
       "<div>\n",
       "<style scoped>\n",
       "    .dataframe tbody tr th:only-of-type {\n",
       "        vertical-align: middle;\n",
       "    }\n",
       "\n",
       "    .dataframe tbody tr th {\n",
       "        vertical-align: top;\n",
       "    }\n",
       "\n",
       "    .dataframe thead th {\n",
       "        text-align: right;\n",
       "    }\n",
       "</style>\n",
       "<table border=\"1\" class=\"dataframe\">\n",
       "  <thead>\n",
       "    <tr style=\"text-align: right;\">\n",
       "      <th></th>\n",
       "      <th>MACHINE_ID</th>\n",
       "      <th>MACHINE_DATA</th>\n",
       "      <th>TIMESTAMP</th>\n",
       "      <th>WAFER_ID</th>\n",
       "      <th>STAGE</th>\n",
       "      <th>CHAMBER</th>\n",
       "      <th>USAGE_OF_BACKING_FILM</th>\n",
       "      <th>USAGE_OF_DRESSER</th>\n",
       "      <th>USAGE_OF_POLISHING_TABLE</th>\n",
       "      <th>USAGE_OF_DRESSER_TABLE</th>\n",
       "      <th>...</th>\n",
       "      <th>USAGE_OF_MEMBRANE</th>\n",
       "      <th>USAGE_OF_PRESSURIZED_SHEET</th>\n",
       "      <th>SLURRY_FLOW_LINE_A</th>\n",
       "      <th>SLURRY_FLOW_LINE_B</th>\n",
       "      <th>SLURRY_FLOW_LINE_C</th>\n",
       "      <th>WAFER_ROTATION</th>\n",
       "      <th>STAGE_ROTATION</th>\n",
       "      <th>HEAD_ROTATION</th>\n",
       "      <th>DRESSING_WATER_STATUS</th>\n",
       "      <th>EDGE_AIR_BAG_PRESSURE</th>\n",
       "    </tr>\n",
       "  </thead>\n",
       "  <tbody>\n",
       "    <tr>\n",
       "      <th>0</th>\n",
       "      <td>2</td>\n",
       "      <td>1</td>\n",
       "      <td>4.816371e+08</td>\n",
       "      <td>371447024</td>\n",
       "      <td>A</td>\n",
       "      <td>1.0</td>\n",
       "      <td>9302.5</td>\n",
       "      <td>534.074074</td>\n",
       "      <td>292.592593</td>\n",
       "      <td>2666.25</td>\n",
       "      <td>...</td>\n",
       "      <td>110.306324</td>\n",
       "      <td>2790.75</td>\n",
       "      <td>2.222222</td>\n",
       "      <td>0.909091</td>\n",
       "      <td>565.6</td>\n",
       "      <td>34.651163</td>\n",
       "      <td>0.0</td>\n",
       "      <td>156.8</td>\n",
       "      <td>1.0</td>\n",
       "      <td>60.909091</td>\n",
       "    </tr>\n",
       "    <tr>\n",
       "      <th>1</th>\n",
       "      <td>2</td>\n",
       "      <td>1</td>\n",
       "      <td>4.816371e+08</td>\n",
       "      <td>371447024</td>\n",
       "      <td>A</td>\n",
       "      <td>1.0</td>\n",
       "      <td>9302.5</td>\n",
       "      <td>534.074074</td>\n",
       "      <td>292.592593</td>\n",
       "      <td>2666.25</td>\n",
       "      <td>...</td>\n",
       "      <td>110.306324</td>\n",
       "      <td>2790.75</td>\n",
       "      <td>2.222222</td>\n",
       "      <td>0.909091</td>\n",
       "      <td>568.4</td>\n",
       "      <td>34.651163</td>\n",
       "      <td>0.0</td>\n",
       "      <td>156.8</td>\n",
       "      <td>1.0</td>\n",
       "      <td>60.909091</td>\n",
       "    </tr>\n",
       "    <tr>\n",
       "      <th>2</th>\n",
       "      <td>2</td>\n",
       "      <td>1</td>\n",
       "      <td>4.816371e+08</td>\n",
       "      <td>371447024</td>\n",
       "      <td>A</td>\n",
       "      <td>1.0</td>\n",
       "      <td>9302.5</td>\n",
       "      <td>534.074074</td>\n",
       "      <td>292.592593</td>\n",
       "      <td>2666.25</td>\n",
       "      <td>...</td>\n",
       "      <td>110.306324</td>\n",
       "      <td>2790.75</td>\n",
       "      <td>2.222222</td>\n",
       "      <td>0.909091</td>\n",
       "      <td>568.4</td>\n",
       "      <td>34.651163</td>\n",
       "      <td>0.0</td>\n",
       "      <td>156.8</td>\n",
       "      <td>1.0</td>\n",
       "      <td>60.909091</td>\n",
       "    </tr>\n",
       "    <tr>\n",
       "      <th>3</th>\n",
       "      <td>2</td>\n",
       "      <td>1</td>\n",
       "      <td>4.816371e+08</td>\n",
       "      <td>371447024</td>\n",
       "      <td>A</td>\n",
       "      <td>1.0</td>\n",
       "      <td>9302.5</td>\n",
       "      <td>534.074074</td>\n",
       "      <td>292.592593</td>\n",
       "      <td>2666.25</td>\n",
       "      <td>...</td>\n",
       "      <td>110.306324</td>\n",
       "      <td>2790.75</td>\n",
       "      <td>2.222222</td>\n",
       "      <td>0.909091</td>\n",
       "      <td>568.4</td>\n",
       "      <td>34.651163</td>\n",
       "      <td>0.0</td>\n",
       "      <td>156.8</td>\n",
       "      <td>1.0</td>\n",
       "      <td>60.606061</td>\n",
       "    </tr>\n",
       "    <tr>\n",
       "      <th>4</th>\n",
       "      <td>2</td>\n",
       "      <td>1</td>\n",
       "      <td>4.816371e+08</td>\n",
       "      <td>371447024</td>\n",
       "      <td>A</td>\n",
       "      <td>1.0</td>\n",
       "      <td>9302.5</td>\n",
       "      <td>534.074074</td>\n",
       "      <td>292.592593</td>\n",
       "      <td>2666.25</td>\n",
       "      <td>...</td>\n",
       "      <td>110.306324</td>\n",
       "      <td>2790.75</td>\n",
       "      <td>2.222222</td>\n",
       "      <td>0.909091</td>\n",
       "      <td>571.2</td>\n",
       "      <td>34.651163</td>\n",
       "      <td>0.0</td>\n",
       "      <td>156.8</td>\n",
       "      <td>1.0</td>\n",
       "      <td>60.909091</td>\n",
       "    </tr>\n",
       "  </tbody>\n",
       "</table>\n",
       "<p>5 rows × 25 columns</p>\n",
       "</div>"
      ],
      "text/plain": [
       "   MACHINE_ID  MACHINE_DATA     TIMESTAMP   WAFER_ID STAGE  CHAMBER  \\\n",
       "0           2             1  4.816371e+08  371447024     A      1.0   \n",
       "1           2             1  4.816371e+08  371447024     A      1.0   \n",
       "2           2             1  4.816371e+08  371447024     A      1.0   \n",
       "3           2             1  4.816371e+08  371447024     A      1.0   \n",
       "4           2             1  4.816371e+08  371447024     A      1.0   \n",
       "\n",
       "   USAGE_OF_BACKING_FILM  USAGE_OF_DRESSER  USAGE_OF_POLISHING_TABLE  \\\n",
       "0                 9302.5        534.074074                292.592593   \n",
       "1                 9302.5        534.074074                292.592593   \n",
       "2                 9302.5        534.074074                292.592593   \n",
       "3                 9302.5        534.074074                292.592593   \n",
       "4                 9302.5        534.074074                292.592593   \n",
       "\n",
       "   USAGE_OF_DRESSER_TABLE          ...            USAGE_OF_MEMBRANE  \\\n",
       "0                 2666.25          ...                   110.306324   \n",
       "1                 2666.25          ...                   110.306324   \n",
       "2                 2666.25          ...                   110.306324   \n",
       "3                 2666.25          ...                   110.306324   \n",
       "4                 2666.25          ...                   110.306324   \n",
       "\n",
       "   USAGE_OF_PRESSURIZED_SHEET  SLURRY_FLOW_LINE_A  SLURRY_FLOW_LINE_B  \\\n",
       "0                     2790.75            2.222222            0.909091   \n",
       "1                     2790.75            2.222222            0.909091   \n",
       "2                     2790.75            2.222222            0.909091   \n",
       "3                     2790.75            2.222222            0.909091   \n",
       "4                     2790.75            2.222222            0.909091   \n",
       "\n",
       "   SLURRY_FLOW_LINE_C  WAFER_ROTATION  STAGE_ROTATION  HEAD_ROTATION  \\\n",
       "0               565.6       34.651163             0.0          156.8   \n",
       "1               568.4       34.651163             0.0          156.8   \n",
       "2               568.4       34.651163             0.0          156.8   \n",
       "3               568.4       34.651163             0.0          156.8   \n",
       "4               571.2       34.651163             0.0          156.8   \n",
       "\n",
       "   DRESSING_WATER_STATUS  EDGE_AIR_BAG_PRESSURE  \n",
       "0                    1.0              60.909091  \n",
       "1                    1.0              60.909091  \n",
       "2                    1.0              60.909091  \n",
       "3                    1.0              60.606061  \n",
       "4                    1.0              60.909091  \n",
       "\n",
       "[5 rows x 25 columns]"
      ]
     },
     "execution_count": 231,
     "metadata": {},
     "output_type": "execute_result"
    }
   ],
   "source": [
    "df_X.head()"
   ]
  },
  {
   "cell_type": "code",
   "execution_count": 232,
   "metadata": {
    "scrolled": true
   },
   "outputs": [
    {
     "name": "stdout",
     "output_type": "stream",
     "text": [
      "<class 'pandas.core.frame.DataFrame'>\n",
      "Int64Index: 41996 entries, 0 to 1076\n",
      "Data columns (total 25 columns):\n",
      "MACHINE_ID                      41996 non-null int64\n",
      "MACHINE_DATA                    41996 non-null int64\n",
      "TIMESTAMP                       41996 non-null float64\n",
      "WAFER_ID                        41996 non-null int64\n",
      "STAGE                           41996 non-null object\n",
      "CHAMBER                         41996 non-null float64\n",
      "USAGE_OF_BACKING_FILM           41996 non-null float64\n",
      "USAGE_OF_DRESSER                41996 non-null float64\n",
      "USAGE_OF_POLISHING_TABLE        41996 non-null float64\n",
      "USAGE_OF_DRESSER_TABLE          41996 non-null float64\n",
      "PRESSURIZED_CHAMBER_PRESSURE    41996 non-null float64\n",
      "MAIN_OUTER_AIR_BAG_PRESSURE     41996 non-null float64\n",
      "CENTER_AIR_BAG_PRESSURE         41996 non-null float64\n",
      "RETAINER_RING_PRESSURE          41996 non-null float64\n",
      "RIPPLE_AIR_BAG_PRESSURE         41996 non-null float64\n",
      "USAGE_OF_MEMBRANE               41996 non-null float64\n",
      "USAGE_OF_PRESSURIZED_SHEET      41996 non-null float64\n",
      "SLURRY_FLOW_LINE_A              41996 non-null float64\n",
      "SLURRY_FLOW_LINE_B              41996 non-null float64\n",
      "SLURRY_FLOW_LINE_C              41996 non-null float64\n",
      "WAFER_ROTATION                  41996 non-null float64\n",
      "STAGE_ROTATION                  41996 non-null float64\n",
      "HEAD_ROTATION                   41996 non-null float64\n",
      "DRESSING_WATER_STATUS           41996 non-null float64\n",
      "EDGE_AIR_BAG_PRESSURE           41996 non-null float64\n",
      "dtypes: float64(21), int64(3), object(1)\n",
      "memory usage: 8.3+ MB\n"
     ]
    }
   ],
   "source": [
    "df_X.info()"
   ]
  },
  {
   "cell_type": "code",
   "execution_count": 233,
   "metadata": {},
   "outputs": [
    {
     "data": {
      "text/plain": [
       "(1, array([2]))"
      ]
     },
     "execution_count": 233,
     "metadata": {},
     "output_type": "execute_result"
    }
   ],
   "source": [
    "df_X.MACHINE_ID.nunique(),df_X.MACHINE_ID.unique()"
   ]
  },
  {
   "cell_type": "code",
   "execution_count": 275,
   "metadata": {},
   "outputs": [],
   "source": [
    "df_X = df_X.drop(columns='MACHINE_ID')"
   ]
  },
  {
   "cell_type": "code",
   "execution_count": 276,
   "metadata": {},
   "outputs": [
    {
     "data": {
      "text/plain": [
       "(6, array([1, 2, 3, 4, 5, 6], dtype=object))"
      ]
     },
     "execution_count": 276,
     "metadata": {},
     "output_type": "execute_result"
    }
   ],
   "source": [
    "df_X.MACHINE_DATA.nunique(),df_X.MACHINE_DATA.unique()"
   ]
  },
  {
   "cell_type": "code",
   "execution_count": 277,
   "metadata": {},
   "outputs": [],
   "source": [
    "df_X.MACHINE_DATA = df_X.MACHINE_DATA.astype(object)"
   ]
  },
  {
   "cell_type": "code",
   "execution_count": 278,
   "metadata": {},
   "outputs": [],
   "source": [
    "df_X_dumm = pd.get_dummies(df_X).drop(columns='STAGE_A')\n",
    "df_X_dumm['STAGE'] = df_X_dumm.STAGE_B"
   ]
  },
  {
   "cell_type": "code",
   "execution_count": 279,
   "metadata": {
    "scrolled": false
   },
   "outputs": [
    {
     "data": {
      "text/html": [
       "<div>\n",
       "<style scoped>\n",
       "    .dataframe tbody tr th:only-of-type {\n",
       "        vertical-align: middle;\n",
       "    }\n",
       "\n",
       "    .dataframe tbody tr th {\n",
       "        vertical-align: top;\n",
       "    }\n",
       "\n",
       "    .dataframe thead th {\n",
       "        text-align: right;\n",
       "    }\n",
       "</style>\n",
       "<table border=\"1\" class=\"dataframe\">\n",
       "  <thead>\n",
       "    <tr style=\"text-align: right;\">\n",
       "      <th></th>\n",
       "      <th>TIMESTAMP</th>\n",
       "      <th>WAFER_ID</th>\n",
       "      <th>CHAMBER</th>\n",
       "      <th>USAGE_OF_BACKING_FILM</th>\n",
       "      <th>USAGE_OF_DRESSER</th>\n",
       "      <th>USAGE_OF_POLISHING_TABLE</th>\n",
       "      <th>USAGE_OF_DRESSER_TABLE</th>\n",
       "      <th>PRESSURIZED_CHAMBER_PRESSURE</th>\n",
       "      <th>MAIN_OUTER_AIR_BAG_PRESSURE</th>\n",
       "      <th>CENTER_AIR_BAG_PRESSURE</th>\n",
       "      <th>...</th>\n",
       "      <th>DRESSING_WATER_STATUS</th>\n",
       "      <th>EDGE_AIR_BAG_PRESSURE</th>\n",
       "      <th>MACHINE_DATA_1</th>\n",
       "      <th>MACHINE_DATA_2</th>\n",
       "      <th>MACHINE_DATA_3</th>\n",
       "      <th>MACHINE_DATA_4</th>\n",
       "      <th>MACHINE_DATA_5</th>\n",
       "      <th>MACHINE_DATA_6</th>\n",
       "      <th>STAGE_B</th>\n",
       "      <th>STAGE</th>\n",
       "    </tr>\n",
       "  </thead>\n",
       "  <tbody>\n",
       "    <tr>\n",
       "      <th>0</th>\n",
       "      <td>4.816371e+08</td>\n",
       "      <td>371447024</td>\n",
       "      <td>1.0</td>\n",
       "      <td>9302.5</td>\n",
       "      <td>534.074074</td>\n",
       "      <td>292.592593</td>\n",
       "      <td>2666.25</td>\n",
       "      <td>67.142857</td>\n",
       "      <td>346.8</td>\n",
       "      <td>101.875</td>\n",
       "      <td>...</td>\n",
       "      <td>1.0</td>\n",
       "      <td>60.909091</td>\n",
       "      <td>1</td>\n",
       "      <td>0</td>\n",
       "      <td>0</td>\n",
       "      <td>0</td>\n",
       "      <td>0</td>\n",
       "      <td>0</td>\n",
       "      <td>0</td>\n",
       "      <td>0</td>\n",
       "    </tr>\n",
       "    <tr>\n",
       "      <th>1</th>\n",
       "      <td>4.816371e+08</td>\n",
       "      <td>371447024</td>\n",
       "      <td>1.0</td>\n",
       "      <td>9302.5</td>\n",
       "      <td>534.074074</td>\n",
       "      <td>292.592593</td>\n",
       "      <td>2666.25</td>\n",
       "      <td>67.142857</td>\n",
       "      <td>348.0</td>\n",
       "      <td>101.875</td>\n",
       "      <td>...</td>\n",
       "      <td>1.0</td>\n",
       "      <td>60.909091</td>\n",
       "      <td>1</td>\n",
       "      <td>0</td>\n",
       "      <td>0</td>\n",
       "      <td>0</td>\n",
       "      <td>0</td>\n",
       "      <td>0</td>\n",
       "      <td>0</td>\n",
       "      <td>0</td>\n",
       "    </tr>\n",
       "    <tr>\n",
       "      <th>2</th>\n",
       "      <td>4.816371e+08</td>\n",
       "      <td>371447024</td>\n",
       "      <td>1.0</td>\n",
       "      <td>9302.5</td>\n",
       "      <td>534.074074</td>\n",
       "      <td>292.592593</td>\n",
       "      <td>2666.25</td>\n",
       "      <td>67.142857</td>\n",
       "      <td>346.8</td>\n",
       "      <td>101.875</td>\n",
       "      <td>...</td>\n",
       "      <td>1.0</td>\n",
       "      <td>60.909091</td>\n",
       "      <td>1</td>\n",
       "      <td>0</td>\n",
       "      <td>0</td>\n",
       "      <td>0</td>\n",
       "      <td>0</td>\n",
       "      <td>0</td>\n",
       "      <td>0</td>\n",
       "      <td>0</td>\n",
       "    </tr>\n",
       "    <tr>\n",
       "      <th>3</th>\n",
       "      <td>4.816371e+08</td>\n",
       "      <td>371447024</td>\n",
       "      <td>1.0</td>\n",
       "      <td>9302.5</td>\n",
       "      <td>534.074074</td>\n",
       "      <td>292.592593</td>\n",
       "      <td>2666.25</td>\n",
       "      <td>66.666667</td>\n",
       "      <td>348.0</td>\n",
       "      <td>101.875</td>\n",
       "      <td>...</td>\n",
       "      <td>1.0</td>\n",
       "      <td>60.606061</td>\n",
       "      <td>1</td>\n",
       "      <td>0</td>\n",
       "      <td>0</td>\n",
       "      <td>0</td>\n",
       "      <td>0</td>\n",
       "      <td>0</td>\n",
       "      <td>0</td>\n",
       "      <td>0</td>\n",
       "    </tr>\n",
       "    <tr>\n",
       "      <th>4</th>\n",
       "      <td>4.816371e+08</td>\n",
       "      <td>371447024</td>\n",
       "      <td>1.0</td>\n",
       "      <td>9302.5</td>\n",
       "      <td>534.074074</td>\n",
       "      <td>292.592593</td>\n",
       "      <td>2666.25</td>\n",
       "      <td>67.142857</td>\n",
       "      <td>348.0</td>\n",
       "      <td>101.875</td>\n",
       "      <td>...</td>\n",
       "      <td>1.0</td>\n",
       "      <td>60.909091</td>\n",
       "      <td>1</td>\n",
       "      <td>0</td>\n",
       "      <td>0</td>\n",
       "      <td>0</td>\n",
       "      <td>0</td>\n",
       "      <td>0</td>\n",
       "      <td>0</td>\n",
       "      <td>0</td>\n",
       "    </tr>\n",
       "  </tbody>\n",
       "</table>\n",
       "<p>5 rows × 30 columns</p>\n",
       "</div>"
      ],
      "text/plain": [
       "      TIMESTAMP   WAFER_ID  CHAMBER  USAGE_OF_BACKING_FILM  USAGE_OF_DRESSER  \\\n",
       "0  4.816371e+08  371447024      1.0                 9302.5        534.074074   \n",
       "1  4.816371e+08  371447024      1.0                 9302.5        534.074074   \n",
       "2  4.816371e+08  371447024      1.0                 9302.5        534.074074   \n",
       "3  4.816371e+08  371447024      1.0                 9302.5        534.074074   \n",
       "4  4.816371e+08  371447024      1.0                 9302.5        534.074074   \n",
       "\n",
       "   USAGE_OF_POLISHING_TABLE  USAGE_OF_DRESSER_TABLE  \\\n",
       "0                292.592593                 2666.25   \n",
       "1                292.592593                 2666.25   \n",
       "2                292.592593                 2666.25   \n",
       "3                292.592593                 2666.25   \n",
       "4                292.592593                 2666.25   \n",
       "\n",
       "   PRESSURIZED_CHAMBER_PRESSURE  MAIN_OUTER_AIR_BAG_PRESSURE  \\\n",
       "0                     67.142857                        346.8   \n",
       "1                     67.142857                        348.0   \n",
       "2                     67.142857                        346.8   \n",
       "3                     66.666667                        348.0   \n",
       "4                     67.142857                        348.0   \n",
       "\n",
       "   CENTER_AIR_BAG_PRESSURE  ...    DRESSING_WATER_STATUS  \\\n",
       "0                  101.875  ...                      1.0   \n",
       "1                  101.875  ...                      1.0   \n",
       "2                  101.875  ...                      1.0   \n",
       "3                  101.875  ...                      1.0   \n",
       "4                  101.875  ...                      1.0   \n",
       "\n",
       "   EDGE_AIR_BAG_PRESSURE  MACHINE_DATA_1  MACHINE_DATA_2  MACHINE_DATA_3  \\\n",
       "0              60.909091               1               0               0   \n",
       "1              60.909091               1               0               0   \n",
       "2              60.909091               1               0               0   \n",
       "3              60.606061               1               0               0   \n",
       "4              60.909091               1               0               0   \n",
       "\n",
       "   MACHINE_DATA_4  MACHINE_DATA_5  MACHINE_DATA_6  STAGE_B  STAGE  \n",
       "0               0               0               0        0      0  \n",
       "1               0               0               0        0      0  \n",
       "2               0               0               0        0      0  \n",
       "3               0               0               0        0      0  \n",
       "4               0               0               0        0      0  \n",
       "\n",
       "[5 rows x 30 columns]"
      ]
     },
     "execution_count": 279,
     "metadata": {},
     "output_type": "execute_result"
    }
   ],
   "source": [
    "df_X_dumm.head()"
   ]
  },
  {
   "cell_type": "code",
   "execution_count": 280,
   "metadata": {},
   "outputs": [
    {
     "data": {
      "text/plain": [
       "118"
      ]
     },
     "execution_count": 280,
     "metadata": {},
     "output_type": "execute_result"
    }
   ],
   "source": [
    "len(df_X_dumm.groupby(['WAFER_ID','STAGE']))"
   ]
  },
  {
   "cell_type": "code",
   "execution_count": 281,
   "metadata": {},
   "outputs": [],
   "source": [
    "wafer_group = df_X_dumm.groupby(['WAFER_ID','STAGE'])"
   ]
  },
  {
   "cell_type": "code",
   "execution_count": 282,
   "metadata": {},
   "outputs": [],
   "source": [
    "group_list = [wafer_group.get_group(x) for x in wafer_group.groups]"
   ]
  },
  {
   "cell_type": "code",
   "execution_count": 283,
   "metadata": {},
   "outputs": [
    {
     "data": {
      "text/plain": [
       "118"
      ]
     },
     "execution_count": 283,
     "metadata": {},
     "output_type": "execute_result"
    }
   ],
   "source": [
    "WAFER_ID_list = [x for x in wafer_group.groups]\n",
    "len(WAFER_ID_list)"
   ]
  },
  {
   "cell_type": "code",
   "execution_count": 284,
   "metadata": {},
   "outputs": [
    {
     "data": {
      "text/plain": [
       "118"
      ]
     },
     "execution_count": 284,
     "metadata": {},
     "output_type": "execute_result"
    }
   ],
   "source": [
    "len(group_list)"
   ]
  },
  {
   "cell_type": "code",
   "execution_count": 285,
   "metadata": {},
   "outputs": [
    {
     "data": {
      "text/plain": [
       "<matplotlib.axes._subplots.AxesSubplot at 0x7f951a76b908>"
      ]
     },
     "execution_count": 285,
     "metadata": {},
     "output_type": "execute_result"
    },
    {
     "data": {
      "image/png": "[encoded data removed]",
      "text/plain": [
       "<Figure size 432x288 with 1 Axes>"
      ]
     },
     "metadata": {
      "needs_background": "light"
     },
     "output_type": "display_data"
    }
   ],
   "source": [
    "group_list[0].TIMESTAMP.plot()"
   ]
  },
  {
   "cell_type": "code",
   "execution_count": 286,
   "metadata": {},
   "outputs": [],
   "source": [
    "len_list = []\n",
    "for group in group_list:\n",
    "    len_list.append(len(group))"
   ]
  },
  {
   "cell_type": "code",
   "execution_count": 287,
   "metadata": {},
   "outputs": [
    {
     "data": {
      "text/plain": [
       "(266, 355.89830508474574, 1321)"
      ]
     },
     "execution_count": 287,
     "metadata": {},
     "output_type": "execute_result"
    }
   ],
   "source": [
    "np.min(len_list), np.mean(len_list), np.max(len_list)"
   ]
  },
  {
   "cell_type": "code",
   "execution_count": 288,
   "metadata": {},
   "outputs": [
    {
     "data": {
      "text/plain": [
       "[<matplotlib.lines.Line2D at 0x7f9531e24278>]"
      ]
     },
     "execution_count": 288,
     "metadata": {},
     "output_type": "execute_result"
    },
    {
     "data": {
      "image/png": "[encoded data removed]",
      "text/plain": [
       "<Figure size 432x288 with 1 Axes>"
      ]
     },
     "metadata": {
      "needs_background": "light"
     },
     "output_type": "display_data"
    }
   ],
   "source": [
    "plt.plot(len_list)"
   ]
  },
  {
   "cell_type": "code",
   "execution_count": 289,
   "metadata": {},
   "outputs": [
    {
     "data": {
      "image/png": "[encoded data removed]",
      "text/plain": [
       "<Figure size 432x288 with 1 Axes>"
      ]
     },
     "metadata": {
      "needs_background": "light"
     },
     "output_type": "display_data"
    }
   ],
   "source": [
    "fig = plt.hist(len_list, bins=50)"
   ]
  },
  {
   "cell_type": "code",
   "execution_count": 290,
   "metadata": {},
   "outputs": [
    {
     "data": {
      "image/png": "[encoded data removed]",
      "text/plain": [
       "<Figure size 432x288 with 1 Axes>"
      ]
     },
     "metadata": {
      "needs_background": "light"
     },
     "output_type": "display_data"
    }
   ],
   "source": [
    "len_arr = np.array(len_list)\n",
    "fig = plt.hist(len_arr[len_arr<400])"
   ]
  },
  {
   "cell_type": "code",
   "execution_count": 291,
   "metadata": {},
   "outputs": [
    {
     "data": {
      "text/html": [
       "<div>\n",
       "<style scoped>\n",
       "    .dataframe tbody tr th:only-of-type {\n",
       "        vertical-align: middle;\n",
       "    }\n",
       "\n",
       "    .dataframe tbody tr th {\n",
       "        vertical-align: top;\n",
       "    }\n",
       "\n",
       "    .dataframe thead th {\n",
       "        text-align: right;\n",
       "    }\n",
       "</style>\n",
       "<table border=\"1\" class=\"dataframe\">\n",
       "  <thead>\n",
       "    <tr style=\"text-align: right;\">\n",
       "      <th></th>\n",
       "      <th>WAFER_ID</th>\n",
       "      <th>STAGE</th>\n",
       "      <th>AVG_REMOVAL_RATE</th>\n",
       "    </tr>\n",
       "  </thead>\n",
       "  <tbody>\n",
       "    <tr>\n",
       "      <th>116</th>\n",
       "      <td>-4230160598</td>\n",
       "      <td>A</td>\n",
       "      <td>68.8818</td>\n",
       "    </tr>\n",
       "    <tr>\n",
       "      <th>135</th>\n",
       "      <td>-4230160594</td>\n",
       "      <td>B</td>\n",
       "      <td>70.0533</td>\n",
       "    </tr>\n",
       "  </tbody>\n",
       "</table>\n",
       "</div>"
      ],
      "text/plain": [
       "       WAFER_ID STAGE  AVG_REMOVAL_RATE\n",
       "116 -4230160598     A           68.8818\n",
       "135 -4230160594     B           70.0533"
      ]
     },
     "execution_count": 291,
     "metadata": {},
     "output_type": "execute_result"
    }
   ],
   "source": [
    "df_gt.sort_values(by=['WAFER_ID','STAGE']).head(2)"
   ]
  },
  {
   "cell_type": "code",
   "execution_count": 292,
   "metadata": {},
   "outputs": [
    {
     "data": {
      "text/plain": [
       "118"
      ]
     },
     "execution_count": 292,
     "metadata": {},
     "output_type": "execute_result"
    }
   ],
   "source": [
    "AVG_REMOVAL_RATE_list = []\n",
    "for id, stage in WAFER_ID_list:\n",
    "    cond1 = df_Y_dumm.WAFER_ID==id\n",
    "    cond2 = df_Y_dumm.STAGE==stage\n",
    "    cond = np.logical_and(cond1,cond2)\n",
    "    AVG_REMOVAL_RATE_list.append(df_Y_dumm[cond].AVG_REMOVAL_RATE.values)\n",
    "len(AVG_REMOVAL_RATE_list)"
   ]
  },
  {
   "cell_type": "code",
   "execution_count": 293,
   "metadata": {},
   "outputs": [
    {
     "data": {
      "text/html": [
       "<div>\n",
       "<style scoped>\n",
       "    .dataframe tbody tr th:only-of-type {\n",
       "        vertical-align: middle;\n",
       "    }\n",
       "\n",
       "    .dataframe tbody tr th {\n",
       "        vertical-align: top;\n",
       "    }\n",
       "\n",
       "    .dataframe thead th {\n",
       "        text-align: right;\n",
       "    }\n",
       "</style>\n",
       "<table border=\"1\" class=\"dataframe\">\n",
       "  <thead>\n",
       "    <tr style=\"text-align: right;\">\n",
       "      <th></th>\n",
       "      <th>WAFER_ID</th>\n",
       "      <th>STAGE</th>\n",
       "      <th>AVG_REMOVAL_RATE</th>\n",
       "    </tr>\n",
       "  </thead>\n",
       "  <tbody>\n",
       "    <tr>\n",
       "      <th>0</th>\n",
       "      <td>-4224160600</td>\n",
       "      <td>A</td>\n",
       "      <td>61.65480</td>\n",
       "    </tr>\n",
       "    <tr>\n",
       "      <th>1</th>\n",
       "      <td>-4224160584</td>\n",
       "      <td>B</td>\n",
       "      <td>75.86415</td>\n",
       "    </tr>\n",
       "    <tr>\n",
       "      <th>2</th>\n",
       "      <td>-4224160580</td>\n",
       "      <td>B</td>\n",
       "      <td>71.90700</td>\n",
       "    </tr>\n",
       "    <tr>\n",
       "      <th>3</th>\n",
       "      <td>-4113511818</td>\n",
       "      <td>A</td>\n",
       "      <td>65.02230</td>\n",
       "    </tr>\n",
       "    <tr>\n",
       "      <th>4</th>\n",
       "      <td>-4113511814</td>\n",
       "      <td>A</td>\n",
       "      <td>58.27905</td>\n",
       "    </tr>\n",
       "  </tbody>\n",
       "</table>\n",
       "</div>"
      ],
      "text/plain": [
       "     WAFER_ID STAGE  AVG_REMOVAL_RATE\n",
       "0 -4224160600     A          61.65480\n",
       "1 -4224160584     B          75.86415\n",
       "2 -4224160580     B          71.90700\n",
       "3 -4113511818     A          65.02230\n",
       "4 -4113511814     A          58.27905"
      ]
     },
     "execution_count": 293,
     "metadata": {},
     "output_type": "execute_result"
    }
   ],
   "source": [
    "df_gt.head()"
   ]
  },
  {
   "cell_type": "code",
   "execution_count": 294,
   "metadata": {
    "scrolled": false
   },
   "outputs": [
    {
     "data": {
      "text/html": [
       "<div>\n",
       "<style scoped>\n",
       "    .dataframe tbody tr th:only-of-type {\n",
       "        vertical-align: middle;\n",
       "    }\n",
       "\n",
       "    .dataframe tbody tr th {\n",
       "        vertical-align: top;\n",
       "    }\n",
       "\n",
       "    .dataframe thead th {\n",
       "        text-align: right;\n",
       "    }\n",
       "</style>\n",
       "<table border=\"1\" class=\"dataframe\">\n",
       "  <thead>\n",
       "    <tr style=\"text-align: right;\">\n",
       "      <th></th>\n",
       "      <th></th>\n",
       "      <th>TIMESTAMP</th>\n",
       "      <th>CHAMBER</th>\n",
       "      <th>USAGE_OF_BACKING_FILM</th>\n",
       "      <th>USAGE_OF_DRESSER</th>\n",
       "      <th>USAGE_OF_POLISHING_TABLE</th>\n",
       "      <th>USAGE_OF_DRESSER_TABLE</th>\n",
       "      <th>PRESSURIZED_CHAMBER_PRESSURE</th>\n",
       "      <th>MAIN_OUTER_AIR_BAG_PRESSURE</th>\n",
       "      <th>CENTER_AIR_BAG_PRESSURE</th>\n",
       "      <th>RETAINER_RING_PRESSURE</th>\n",
       "      <th>...</th>\n",
       "      <th>HEAD_ROTATION</th>\n",
       "      <th>DRESSING_WATER_STATUS</th>\n",
       "      <th>EDGE_AIR_BAG_PRESSURE</th>\n",
       "      <th>MACHINE_DATA_1</th>\n",
       "      <th>MACHINE_DATA_2</th>\n",
       "      <th>MACHINE_DATA_3</th>\n",
       "      <th>MACHINE_DATA_4</th>\n",
       "      <th>MACHINE_DATA_5</th>\n",
       "      <th>MACHINE_DATA_6</th>\n",
       "      <th>STAGE_B</th>\n",
       "    </tr>\n",
       "    <tr>\n",
       "      <th>WAFER_ID</th>\n",
       "      <th>STAGE</th>\n",
       "      <th></th>\n",
       "      <th></th>\n",
       "      <th></th>\n",
       "      <th></th>\n",
       "      <th></th>\n",
       "      <th></th>\n",
       "      <th></th>\n",
       "      <th></th>\n",
       "      <th></th>\n",
       "      <th></th>\n",
       "      <th></th>\n",
       "      <th></th>\n",
       "      <th></th>\n",
       "      <th></th>\n",
       "      <th></th>\n",
       "      <th></th>\n",
       "      <th></th>\n",
       "      <th></th>\n",
       "      <th></th>\n",
       "      <th></th>\n",
       "      <th></th>\n",
       "    </tr>\n",
       "  </thead>\n",
       "  <tbody>\n",
       "    <tr>\n",
       "      <th>-4228160690</th>\n",
       "      <th>0</th>\n",
       "      <td>4.817684e+08</td>\n",
       "      <td>4.664756</td>\n",
       "      <td>516.246418</td>\n",
       "      <td>614.253422</td>\n",
       "      <td>212.444020</td>\n",
       "      <td>2720.371777</td>\n",
       "      <td>65.622868</td>\n",
       "      <td>207.844126</td>\n",
       "      <td>55.326827</td>\n",
       "      <td>1423.824069</td>\n",
       "      <td>...</td>\n",
       "      <td>160.036676</td>\n",
       "      <td>0.120344</td>\n",
       "      <td>39.439958</td>\n",
       "      <td>0.0</td>\n",
       "      <td>0.0</td>\n",
       "      <td>0.0</td>\n",
       "      <td>0.544413</td>\n",
       "      <td>0.246418</td>\n",
       "      <td>0.209169</td>\n",
       "      <td>0.0</td>\n",
       "    </tr>\n",
       "    <tr>\n",
       "      <th>-4228160604</th>\n",
       "      <th>0</th>\n",
       "      <td>4.817506e+08</td>\n",
       "      <td>4.654494</td>\n",
       "      <td>349.665262</td>\n",
       "      <td>605.357886</td>\n",
       "      <td>64.234290</td>\n",
       "      <td>2714.367978</td>\n",
       "      <td>40.136437</td>\n",
       "      <td>121.051685</td>\n",
       "      <td>32.317416</td>\n",
       "      <td>1180.100562</td>\n",
       "      <td>...</td>\n",
       "      <td>159.991011</td>\n",
       "      <td>0.553371</td>\n",
       "      <td>22.293156</td>\n",
       "      <td>0.0</td>\n",
       "      <td>0.0</td>\n",
       "      <td>0.0</td>\n",
       "      <td>0.553371</td>\n",
       "      <td>0.238764</td>\n",
       "      <td>0.207865</td>\n",
       "      <td>0.0</td>\n",
       "    </tr>\n",
       "    <tr>\n",
       "      <th rowspan=\"2\" valign=\"top\">-4228160600</th>\n",
       "      <th>0</th>\n",
       "      <td>4.817329e+08</td>\n",
       "      <td>4.674419</td>\n",
       "      <td>87.267442</td>\n",
       "      <td>592.592593</td>\n",
       "      <td>160.495263</td>\n",
       "      <td>2705.864826</td>\n",
       "      <td>43.759690</td>\n",
       "      <td>129.013953</td>\n",
       "      <td>34.123365</td>\n",
       "      <td>1110.921802</td>\n",
       "      <td>...</td>\n",
       "      <td>159.609302</td>\n",
       "      <td>0.122093</td>\n",
       "      <td>24.096195</td>\n",
       "      <td>0.0</td>\n",
       "      <td>0.0</td>\n",
       "      <td>0.0</td>\n",
       "      <td>0.540698</td>\n",
       "      <td>0.244186</td>\n",
       "      <td>0.215116</td>\n",
       "      <td>0.0</td>\n",
       "    </tr>\n",
       "    <tr>\n",
       "      <th>1</th>\n",
       "      <td>4.817575e+08</td>\n",
       "      <td>4.649573</td>\n",
       "      <td>412.590218</td>\n",
       "      <td>609.054553</td>\n",
       "      <td>120.263797</td>\n",
       "      <td>2716.861823</td>\n",
       "      <td>67.639398</td>\n",
       "      <td>210.447863</td>\n",
       "      <td>53.943198</td>\n",
       "      <td>1465.388889</td>\n",
       "      <td>...</td>\n",
       "      <td>160.319088</td>\n",
       "      <td>0.561254</td>\n",
       "      <td>38.296642</td>\n",
       "      <td>0.0</td>\n",
       "      <td>0.0</td>\n",
       "      <td>0.0</td>\n",
       "      <td>0.552707</td>\n",
       "      <td>0.245014</td>\n",
       "      <td>0.202279</td>\n",
       "      <td>1.0</td>\n",
       "    </tr>\n",
       "    <tr>\n",
       "      <th>-4228160596</th>\n",
       "      <th>0</th>\n",
       "      <td>4.817327e+08</td>\n",
       "      <td>4.651297</td>\n",
       "      <td>81.998079</td>\n",
       "      <td>592.392998</td>\n",
       "      <td>155.788238</td>\n",
       "      <td>2705.616715</td>\n",
       "      <td>66.559627</td>\n",
       "      <td>205.687608</td>\n",
       "      <td>54.801873</td>\n",
       "      <td>1675.291643</td>\n",
       "      <td>...</td>\n",
       "      <td>160.387320</td>\n",
       "      <td>0.596542</td>\n",
       "      <td>39.142433</td>\n",
       "      <td>0.0</td>\n",
       "      <td>0.0</td>\n",
       "      <td>0.0</td>\n",
       "      <td>0.553314</td>\n",
       "      <td>0.242075</td>\n",
       "      <td>0.204611</td>\n",
       "      <td>0.0</td>\n",
       "    </tr>\n",
       "  </tbody>\n",
       "</table>\n",
       "<p>5 rows × 28 columns</p>\n",
       "</div>"
      ],
      "text/plain": [
       "                      TIMESTAMP   CHAMBER  USAGE_OF_BACKING_FILM  \\\n",
       "WAFER_ID    STAGE                                                  \n",
       "-4228160690 0      4.817684e+08  4.664756             516.246418   \n",
       "-4228160604 0      4.817506e+08  4.654494             349.665262   \n",
       "-4228160600 0      4.817329e+08  4.674419              87.267442   \n",
       "            1      4.817575e+08  4.649573             412.590218   \n",
       "-4228160596 0      4.817327e+08  4.651297              81.998079   \n",
       "\n",
       "                   USAGE_OF_DRESSER  USAGE_OF_POLISHING_TABLE  \\\n",
       "WAFER_ID    STAGE                                               \n",
       "-4228160690 0            614.253422                212.444020   \n",
       "-4228160604 0            605.357886                 64.234290   \n",
       "-4228160600 0            592.592593                160.495263   \n",
       "            1            609.054553                120.263797   \n",
       "-4228160596 0            592.392998                155.788238   \n",
       "\n",
       "                   USAGE_OF_DRESSER_TABLE  PRESSURIZED_CHAMBER_PRESSURE  \\\n",
       "WAFER_ID    STAGE                                                         \n",
       "-4228160690 0                 2720.371777                     65.622868   \n",
       "-4228160604 0                 2714.367978                     40.136437   \n",
       "-4228160600 0                 2705.864826                     43.759690   \n",
       "            1                 2716.861823                     67.639398   \n",
       "-4228160596 0                 2705.616715                     66.559627   \n",
       "\n",
       "                   MAIN_OUTER_AIR_BAG_PRESSURE  CENTER_AIR_BAG_PRESSURE  \\\n",
       "WAFER_ID    STAGE                                                         \n",
       "-4228160690 0                       207.844126                55.326827   \n",
       "-4228160604 0                       121.051685                32.317416   \n",
       "-4228160600 0                       129.013953                34.123365   \n",
       "            1                       210.447863                53.943198   \n",
       "-4228160596 0                       205.687608                54.801873   \n",
       "\n",
       "                   RETAINER_RING_PRESSURE   ...     HEAD_ROTATION  \\\n",
       "WAFER_ID    STAGE                           ...                     \n",
       "-4228160690 0                 1423.824069   ...        160.036676   \n",
       "-4228160604 0                 1180.100562   ...        159.991011   \n",
       "-4228160600 0                 1110.921802   ...        159.609302   \n",
       "            1                 1465.388889   ...        160.319088   \n",
       "-4228160596 0                 1675.291643   ...        160.387320   \n",
       "\n",
       "                   DRESSING_WATER_STATUS  EDGE_AIR_BAG_PRESSURE  \\\n",
       "WAFER_ID    STAGE                                                 \n",
       "-4228160690 0                   0.120344              39.439958   \n",
       "-4228160604 0                   0.553371              22.293156   \n",
       "-4228160600 0                   0.122093              24.096195   \n",
       "            1                   0.561254              38.296642   \n",
       "-4228160596 0                   0.596542              39.142433   \n",
       "\n",
       "                   MACHINE_DATA_1  MACHINE_DATA_2  MACHINE_DATA_3  \\\n",
       "WAFER_ID    STAGE                                                   \n",
       "-4228160690 0                 0.0             0.0             0.0   \n",
       "-4228160604 0                 0.0             0.0             0.0   \n",
       "-4228160600 0                 0.0             0.0             0.0   \n",
       "            1                 0.0             0.0             0.0   \n",
       "-4228160596 0                 0.0             0.0             0.0   \n",
       "\n",
       "                   MACHINE_DATA_4  MACHINE_DATA_5  MACHINE_DATA_6  STAGE_B  \n",
       "WAFER_ID    STAGE                                                           \n",
       "-4228160690 0            0.544413        0.246418        0.209169      0.0  \n",
       "-4228160604 0            0.553371        0.238764        0.207865      0.0  \n",
       "-4228160600 0            0.540698        0.244186        0.215116      0.0  \n",
       "            1            0.552707        0.245014        0.202279      1.0  \n",
       "-4228160596 0            0.553314        0.242075        0.204611      0.0  \n",
       "\n",
       "[5 rows x 28 columns]"
      ]
     },
     "execution_count": 294,
     "metadata": {},
     "output_type": "execute_result"
    }
   ],
   "source": [
    "wafer_group.mean().head()"
   ]
  },
  {
   "cell_type": "markdown",
   "metadata": {},
   "source": [
    "##  데이터 준비끝. 데이터 numpy 배열로 변환"
   ]
  },
  {
   "cell_type": "code",
   "execution_count": 295,
   "metadata": {},
   "outputs": [
    {
     "data": {
      "text/html": [
       "<div>\n",
       "<style scoped>\n",
       "    .dataframe tbody tr th:only-of-type {\n",
       "        vertical-align: middle;\n",
       "    }\n",
       "\n",
       "    .dataframe tbody tr th {\n",
       "        vertical-align: top;\n",
       "    }\n",
       "\n",
       "    .dataframe thead th {\n",
       "        text-align: right;\n",
       "    }\n",
       "</style>\n",
       "<table border=\"1\" class=\"dataframe\">\n",
       "  <thead>\n",
       "    <tr style=\"text-align: right;\">\n",
       "      <th></th>\n",
       "      <th>TIMESTAMP</th>\n",
       "      <th>WAFER_ID</th>\n",
       "      <th>CHAMBER</th>\n",
       "      <th>USAGE_OF_BACKING_FILM</th>\n",
       "      <th>USAGE_OF_DRESSER</th>\n",
       "      <th>USAGE_OF_POLISHING_TABLE</th>\n",
       "      <th>USAGE_OF_DRESSER_TABLE</th>\n",
       "      <th>PRESSURIZED_CHAMBER_PRESSURE</th>\n",
       "      <th>MAIN_OUTER_AIR_BAG_PRESSURE</th>\n",
       "      <th>CENTER_AIR_BAG_PRESSURE</th>\n",
       "      <th>...</th>\n",
       "      <th>DRESSING_WATER_STATUS</th>\n",
       "      <th>EDGE_AIR_BAG_PRESSURE</th>\n",
       "      <th>MACHINE_DATA_1</th>\n",
       "      <th>MACHINE_DATA_2</th>\n",
       "      <th>MACHINE_DATA_3</th>\n",
       "      <th>MACHINE_DATA_4</th>\n",
       "      <th>MACHINE_DATA_5</th>\n",
       "      <th>MACHINE_DATA_6</th>\n",
       "      <th>STAGE_B</th>\n",
       "      <th>STAGE</th>\n",
       "    </tr>\n",
       "  </thead>\n",
       "  <tbody>\n",
       "    <tr>\n",
       "      <th>6281</th>\n",
       "      <td>4.817682e+08</td>\n",
       "      <td>-4228160690</td>\n",
       "      <td>4.0</td>\n",
       "      <td>510.833333</td>\n",
       "      <td>614.074074</td>\n",
       "      <td>207.407407</td>\n",
       "      <td>2720.25</td>\n",
       "      <td>0.0</td>\n",
       "      <td>0.0</td>\n",
       "      <td>0.0</td>\n",
       "      <td>...</td>\n",
       "      <td>1.0</td>\n",
       "      <td>0.0</td>\n",
       "      <td>0</td>\n",
       "      <td>0</td>\n",
       "      <td>0</td>\n",
       "      <td>1</td>\n",
       "      <td>0</td>\n",
       "      <td>0</td>\n",
       "      <td>0</td>\n",
       "      <td>0</td>\n",
       "    </tr>\n",
       "    <tr>\n",
       "      <th>6282</th>\n",
       "      <td>4.817682e+08</td>\n",
       "      <td>-4228160690</td>\n",
       "      <td>4.0</td>\n",
       "      <td>510.833333</td>\n",
       "      <td>614.074074</td>\n",
       "      <td>207.407407</td>\n",
       "      <td>2720.25</td>\n",
       "      <td>0.0</td>\n",
       "      <td>0.0</td>\n",
       "      <td>0.0</td>\n",
       "      <td>...</td>\n",
       "      <td>1.0</td>\n",
       "      <td>0.0</td>\n",
       "      <td>0</td>\n",
       "      <td>0</td>\n",
       "      <td>0</td>\n",
       "      <td>1</td>\n",
       "      <td>0</td>\n",
       "      <td>0</td>\n",
       "      <td>0</td>\n",
       "      <td>0</td>\n",
       "    </tr>\n",
       "    <tr>\n",
       "      <th>6283</th>\n",
       "      <td>4.817682e+08</td>\n",
       "      <td>-4228160690</td>\n",
       "      <td>4.0</td>\n",
       "      <td>510.833333</td>\n",
       "      <td>614.074074</td>\n",
       "      <td>207.407407</td>\n",
       "      <td>2720.25</td>\n",
       "      <td>0.0</td>\n",
       "      <td>0.0</td>\n",
       "      <td>0.0</td>\n",
       "      <td>...</td>\n",
       "      <td>1.0</td>\n",
       "      <td>0.0</td>\n",
       "      <td>0</td>\n",
       "      <td>0</td>\n",
       "      <td>0</td>\n",
       "      <td>1</td>\n",
       "      <td>0</td>\n",
       "      <td>0</td>\n",
       "      <td>0</td>\n",
       "      <td>0</td>\n",
       "    </tr>\n",
       "    <tr>\n",
       "      <th>6284</th>\n",
       "      <td>4.817682e+08</td>\n",
       "      <td>-4228160690</td>\n",
       "      <td>4.0</td>\n",
       "      <td>510.833333</td>\n",
       "      <td>614.074074</td>\n",
       "      <td>207.407407</td>\n",
       "      <td>2720.25</td>\n",
       "      <td>0.0</td>\n",
       "      <td>0.0</td>\n",
       "      <td>0.0</td>\n",
       "      <td>...</td>\n",
       "      <td>1.0</td>\n",
       "      <td>0.0</td>\n",
       "      <td>0</td>\n",
       "      <td>0</td>\n",
       "      <td>0</td>\n",
       "      <td>1</td>\n",
       "      <td>0</td>\n",
       "      <td>0</td>\n",
       "      <td>0</td>\n",
       "      <td>0</td>\n",
       "    </tr>\n",
       "    <tr>\n",
       "      <th>6285</th>\n",
       "      <td>4.817682e+08</td>\n",
       "      <td>-4228160690</td>\n",
       "      <td>4.0</td>\n",
       "      <td>510.833333</td>\n",
       "      <td>614.074074</td>\n",
       "      <td>207.407407</td>\n",
       "      <td>2720.25</td>\n",
       "      <td>0.0</td>\n",
       "      <td>0.0</td>\n",
       "      <td>0.0</td>\n",
       "      <td>...</td>\n",
       "      <td>1.0</td>\n",
       "      <td>0.0</td>\n",
       "      <td>0</td>\n",
       "      <td>0</td>\n",
       "      <td>0</td>\n",
       "      <td>1</td>\n",
       "      <td>0</td>\n",
       "      <td>0</td>\n",
       "      <td>0</td>\n",
       "      <td>0</td>\n",
       "    </tr>\n",
       "  </tbody>\n",
       "</table>\n",
       "<p>5 rows × 30 columns</p>\n",
       "</div>"
      ],
      "text/plain": [
       "         TIMESTAMP    WAFER_ID  CHAMBER  USAGE_OF_BACKING_FILM  \\\n",
       "6281  4.817682e+08 -4228160690      4.0             510.833333   \n",
       "6282  4.817682e+08 -4228160690      4.0             510.833333   \n",
       "6283  4.817682e+08 -4228160690      4.0             510.833333   \n",
       "6284  4.817682e+08 -4228160690      4.0             510.833333   \n",
       "6285  4.817682e+08 -4228160690      4.0             510.833333   \n",
       "\n",
       "      USAGE_OF_DRESSER  USAGE_OF_POLISHING_TABLE  USAGE_OF_DRESSER_TABLE  \\\n",
       "6281        614.074074                207.407407                 2720.25   \n",
       "6282        614.074074                207.407407                 2720.25   \n",
       "6283        614.074074                207.407407                 2720.25   \n",
       "6284        614.074074                207.407407                 2720.25   \n",
       "6285        614.074074                207.407407                 2720.25   \n",
       "\n",
       "      PRESSURIZED_CHAMBER_PRESSURE  MAIN_OUTER_AIR_BAG_PRESSURE  \\\n",
       "6281                           0.0                          0.0   \n",
       "6282                           0.0                          0.0   \n",
       "6283                           0.0                          0.0   \n",
       "6284                           0.0                          0.0   \n",
       "6285                           0.0                          0.0   \n",
       "\n",
       "      CENTER_AIR_BAG_PRESSURE  ...    DRESSING_WATER_STATUS  \\\n",
       "6281                      0.0  ...                      1.0   \n",
       "6282                      0.0  ...                      1.0   \n",
       "6283                      0.0  ...                      1.0   \n",
       "6284                      0.0  ...                      1.0   \n",
       "6285                      0.0  ...                      1.0   \n",
       "\n",
       "      EDGE_AIR_BAG_PRESSURE  MACHINE_DATA_1  MACHINE_DATA_2  MACHINE_DATA_3  \\\n",
       "6281                    0.0               0               0               0   \n",
       "6282                    0.0               0               0               0   \n",
       "6283                    0.0               0               0               0   \n",
       "6284                    0.0               0               0               0   \n",
       "6285                    0.0               0               0               0   \n",
       "\n",
       "      MACHINE_DATA_4  MACHINE_DATA_5  MACHINE_DATA_6  STAGE_B  STAGE  \n",
       "6281               1               0               0        0      0  \n",
       "6282               1               0               0        0      0  \n",
       "6283               1               0               0        0      0  \n",
       "6284               1               0               0        0      0  \n",
       "6285               1               0               0        0      0  \n",
       "\n",
       "[5 rows x 30 columns]"
      ]
     },
     "execution_count": 295,
     "metadata": {},
     "output_type": "execute_result"
    }
   ],
   "source": [
    "group_list[0].head()"
   ]
  },
  {
   "cell_type": "code",
   "execution_count": 296,
   "metadata": {},
   "outputs": [
    {
     "data": {
      "text/plain": [
       "((349, 30), (356, 30))"
      ]
     },
     "execution_count": 296,
     "metadata": {},
     "output_type": "execute_result"
    }
   ],
   "source": [
    "np.array(group_list[0]).shape, np.array(group_list[1]).shape"
   ]
  },
  {
   "cell_type": "code",
   "execution_count": 297,
   "metadata": {},
   "outputs": [
    {
     "data": {
      "text/plain": [
       "(118, 300, 28)"
      ]
     },
     "execution_count": 297,
     "metadata": {},
     "output_type": "execute_result"
    }
   ],
   "source": [
    "m = len(group_list)\n",
    "max_sequence = 300\n",
    "feature_k = df_X_dumm.shape[1] - 2\n",
    "m, max_sequence, feature_k"
   ]
  },
  {
   "cell_type": "code",
   "execution_count": 298,
   "metadata": {},
   "outputs": [],
   "source": [
    "X = np.zeros((m, max_sequence, feature_k), np.float32)\n",
    "sequences = np.zeros(m, np.int32)\n",
    "for i in range(len(group_list)):\n",
    "    group = group_list[i]\n",
    "    group_only_x = group.drop(columns=['WAFER_ID','TIMESTAMP'])\n",
    "    arr = np.array(group_only_x)\n",
    "    seq, feature_k = arr.shape\n",
    "    group_seq = min(seq, max_sequence)\n",
    "    sequences[i] = group_seq\n",
    "    X[i, :group_seq] = arr[:group_seq]"
   ]
  },
  {
   "cell_type": "code",
   "execution_count": 370,
   "metadata": {},
   "outputs": [
    {
     "data": {
      "text/plain": [
       "((118, 300, 28), (118, 1), 77.78124279661017)"
      ]
     },
     "execution_count": 370,
     "metadata": {},
     "output_type": "execute_result"
    }
   ],
   "source": [
    "Y = np.array(AVG_REMOVAL_RATE_list)\n",
    "X_2d = np.reshape(X, [-1, feature_k])\n",
    "X.shape, Y.shape, np.mean(Y)"
   ]
  },
  {
   "cell_type": "code",
   "execution_count": 346,
   "metadata": {},
   "outputs": [],
   "source": [
    "Y = (Y - np.min(Y)) / (np.max(Y)- np.min(Y))"
   ]
  },
  {
   "cell_type": "code",
   "execution_count": 371,
   "metadata": {
    "scrolled": true
   },
   "outputs": [
    {
     "data": {
      "text/plain": [
       "(0.0, 10654.8, 53.64735, 153.261)"
      ]
     },
     "execution_count": 371,
     "metadata": {},
     "output_type": "execute_result"
    }
   ],
   "source": [
    "np.min(X), np.max(X),np.min(Y), np.max(Y)"
   ]
  },
  {
   "cell_type": "code",
   "execution_count": 372,
   "metadata": {},
   "outputs": [
    {
     "data": {
      "image/png": "[encoded data removed]",
      "text/plain": [
       "<Figure size 432x288 with 1 Axes>"
      ]
     },
     "metadata": {
      "needs_background": "light"
     },
     "output_type": "display_data"
    }
   ],
   "source": [
    "fig=plt.plot(X[0,:])"
   ]
  },
  {
   "cell_type": "code",
   "execution_count": 373,
   "metadata": {},
   "outputs": [],
   "source": [
    "from sklearn.preprocessing import MinMaxScaler\n",
    "x_shape= X.shape\n",
    "scaler_x = MinMaxScaler().fit(X_2d)\n",
    "scaler_y = MinMaxScaler().fit(Y)"
   ]
  },
  {
   "cell_type": "code",
   "execution_count": 374,
   "metadata": {},
   "outputs": [],
   "source": [
    "XN = scaler_x.transform(X_2d )\n",
    "XN = np.reshape(XN, x_shape)\n",
    "YN = scaler_y.transform(Y)"
   ]
  },
  {
   "cell_type": "code",
   "execution_count": 351,
   "metadata": {},
   "outputs": [
    {
     "data": {
      "image/png": "[encoded data removed]",
      "text/plain": [
       "<Figure size 432x288 with 1 Axes>"
      ]
     },
     "metadata": {
      "needs_background": "light"
     },
     "output_type": "display_data"
    }
   ],
   "source": [
    "fig=plt.plot(XN[0,:, :10])"
   ]
  },
  {
   "cell_type": "code",
   "execution_count": 375,
   "metadata": {},
   "outputs": [
    {
     "data": {
      "text/plain": [
       "((59, 300, 28), (59, 300, 28), (59,))"
      ]
     },
     "execution_count": 375,
     "metadata": {},
     "output_type": "execute_result"
    }
   ],
   "source": [
    "valid_m = int(len(Y) * 0.5)\n",
    "X_train = XN[:-valid_m]\n",
    "Y_train = YN[:-valid_m]\n",
    "X_valid = XN[-valid_m:]\n",
    "Y_valid = YN[-valid_m:]\n",
    "S_train = sequences[:-valid_m]\n",
    "S_valid = sequences[-valid_m:]\n",
    "X_train.shape, X_valid.shape, S_train.shape"
   ]
  },
  {
   "cell_type": "markdown",
   "metadata": {},
   "source": [
    "## 간단 RNN 모델로 학습시켜 본다"
   ]
  },
  {
   "cell_type": "code",
   "execution_count": 384,
   "metadata": {},
   "outputs": [],
   "source": [
    "import tensorflow as tf\n",
    "import tensorflow.contrib.slim as slim\n",
    "tf.reset_default_graph()"
   ]
  },
  {
   "cell_type": "code",
   "execution_count": 385,
   "metadata": {},
   "outputs": [],
   "source": [
    "def predict(net, s):\n",
    "    num_unit = 10\n",
    "    cell = tf.nn.rnn_cell.LSTMCell(num_unit)\n",
    "    cell2 = tf.nn.rnn_cell.LSTMCell(num_unit)\n",
    "    outputs, state = tf.nn.dynamic_rnn(cell, net,  dtype=tf.float32,scope='r1')    \n",
    "    m = tf.shape(net)[0]\n",
    "    index_m = tf.range(m)\n",
    "    last_index = tf.stack((index_m, s-1), -1)\n",
    "    out = tf.gather_nd(outputs, (last_index))\n",
    "    print('out', out)\n",
    "    out = slim.fully_connected(out, 1)    \n",
    "    return out"
   ]
  },
  {
   "cell_type": "markdown",
   "metadata": {},
   "source": [
    "def predict(net, s):\n",
    "    net = slim.conv1d(net, 32, 9, stride=3)    \n",
    "    net = slim.conv1d(net, 32, 9, stride=3)\n",
    "    net = slim.conv1d(net, 32, 9, stride=3)\n",
    "    net = slim.conv1d(net, 32, 9, stride=3)\n",
    "    net = slim.conv1d(net, 1, 4, padding='VALID')\n",
    "    print('net', net)\n",
    "    return net[:,0,0]"
   ]
  },
  {
   "cell_type": "code",
   "execution_count": 386,
   "metadata": {},
   "outputs": [
    {
     "name": "stdout",
     "output_type": "stream",
     "text": [
      "out Tensor(\"GatherNd:0\", shape=(?, 10), dtype=float32)\n"
     ]
    },
    {
     "data": {
      "text/plain": [
       "<tf.Tensor 'fully_connected/BiasAdd:0' shape=(?, 1) dtype=float32>"
      ]
     },
     "execution_count": 386,
     "metadata": {},
     "output_type": "execute_result"
    }
   ],
   "source": [
    "XX = tf.placeholder(tf.float32, [None, X_train.shape[1], X_train.shape[2]])\n",
    "YY = tf.placeholder(tf.float32, [None, 1])\n",
    "SS = tf.placeholder(tf.int32, [None])\n",
    "p = predict(XX, SS)\n",
    "p"
   ]
  },
  {
   "cell_type": "code",
   "execution_count": 387,
   "metadata": {},
   "outputs": [],
   "source": [
    "#cost = tf.reduce_mean(tf.square(YY - p))\n",
    "cost =tf.losses.mean_squared_error(YY,p)\n",
    "train_op = tf.train.GradientDescentOptimizer(0.1).minimize(cost)"
   ]
  },
  {
   "cell_type": "code",
   "execution_count": 388,
   "metadata": {},
   "outputs": [],
   "source": [
    "sess = tf.Session()\n",
    "sess.run(tf.global_variables_initializer())"
   ]
  },
  {
   "cell_type": "code",
   "execution_count": 389,
   "metadata": {},
   "outputs": [
    {
     "name": "stdout",
     "output_type": "stream",
     "text": [
      "0: cost:0.03581\n",
      "2: cost:0.01820\n",
      "4: cost:0.01381\n",
      "6: cost:0.01094\n",
      "8: cost:0.00897\n"
     ]
    }
   ],
   "source": [
    "for iter in range(10):\n",
    "    _, _cost = sess.run([train_op, cost], feed_dict={XX:X_train, YY:Y_train, SS:S_train})\n",
    "    if iter%2==0:\n",
    "        print('%d: cost:%.5f' %(iter,_cost))"
   ]
  },
  {
   "cell_type": "code",
   "execution_count": 390,
   "metadata": {},
   "outputs": [],
   "source": [
    "predict_train = sess.run(p, feed_dict={XX:X_train, YY:Y_train, SS:S_train})\n",
    "predict_valid = sess.run(p, feed_dict={XX:X_valid, YY:Y_valid, SS:S_valid})"
   ]
  },
  {
   "cell_type": "code",
   "execution_count": 393,
   "metadata": {
    "scrolled": true
   },
   "outputs": [
    {
     "data": {
      "text/plain": [
       "<matplotlib.legend.Legend at 0x7f97a0cd9048>"
      ]
     },
     "execution_count": 393,
     "metadata": {},
     "output_type": "execute_result"
    },
    {
     "data": {
      "image/png": "[encoded data removed]",
      "text/plain": [
       "<Figure size 864x720 with 2 Axes>"
      ]
     },
     "metadata": {
      "needs_background": "light"
     },
     "output_type": "display_data"
    }
   ],
   "source": [
    "fig, axes = plt.subplots(2,1,figsize=(12,10))\n",
    "axes[0].plot(scaler_y.inverse_transform(Y_train),linewidth=8)\n",
    "axes[0].plot(scaler_y.inverse_transform(predict_train),c='r',linestyle='-')\n",
    "axes[0].set_title('train')\n",
    "axes[0].legend(['Y_train','P_train'])\n",
    "\n",
    "axes[1].plot(scaler_y.inverse_transform(Y_valid))\n",
    "axes[1].plot(scaler_y.inverse_transform(predict_valid),linestyle='--')\n",
    "axes[1].set_title('test')\n",
    "axes[1].legend(['Y_valid','P_valid'])"
   ]
  },
  {
   "cell_type": "code",
   "execution_count": null,
   "metadata": {},
   "outputs": [],
   "source": []
  }
 ],
 "metadata": {
  "kernelspec": {
   "display_name": "Python 3",
   "language": "python",
   "name": "python3"
  },
  "language_info": {
   "codemirror_mode": {
    "name": "ipython",
    "version": 3
   },
   "file_extension": ".py",
   "mimetype": "text/x-python",
   "name": "python",
   "nbconvert_exporter": "python",
   "pygments_lexer": "ipython3",
   "version": "3.6.6"
  }
 },
 "nbformat": 4,
 "nbformat_minor": 2
}
