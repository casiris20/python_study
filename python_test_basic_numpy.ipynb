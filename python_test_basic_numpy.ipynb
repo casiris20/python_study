{
 "cells": [
  {
   "cell_type": "markdown",
   "metadata": {},
   "source": [
    "# 파이선 시험\n",
    "### 각 문제의 아래에 code 셀을 추가하여 코드를 작성합니다\n",
    "- 시험 점수는 100*취득점수/총점수 로 계산합니다\n",
    "- 예를 들어 60점을 획득, 총 점수가 90 이라면 100*60/90 = 66점입니다\n",
    "- sogangori@naver.com 으로 파일을 보내주세요"
   ]
  },
  {
   "cell_type": "markdown",
   "metadata": {},
   "source": [
    "#### 예)  100 을 3으로 나누었을 때의 나머지값을 출력하세요"
   ]
  },
  {
   "cell_type": "code",
   "execution_count": 1,
   "metadata": {},
   "outputs": [
    {
     "name": "stdout",
     "output_type": "stream",
     "text": [
      "1\n"
     ]
    }
   ],
   "source": [
    "print(100%3)"
   ]
  },
  {
   "cell_type": "markdown",
   "metadata": {},
   "source": [
    "## 시험 시작"
   ]
  },
  {
   "cell_type": "markdown",
   "metadata": {},
   "source": [
    "## 이름 : (___ 이곳에 이름을 기입해주세요___ )"
   ]
  },
  {
   "cell_type": "markdown",
   "metadata": {},
   "source": [
    "### 숫자 2018 과 \"연도\" 를 더해서 \"2018년도\"를 만들고 출력하세요 (2점)"
   ]
  },
  {
   "cell_type": "markdown",
   "metadata": {},
   "source": [
    "### format() 함수를 이용해 \" ? + ? = ?\" 의 연산을 출력하세요. (2점)\n",
    "예) 1 + 2 = 3"
   ]
  },
  {
   "cell_type": "markdown",
   "metadata": {},
   "source": [
    "### 2의 123 승을 구하세요 (2점)"
   ]
  },
  {
   "cell_type": "markdown",
   "metadata": {},
   "source": [
    "### 짝수면 0을, 홀수면 1을 return 하는 함수를 작성하세요 (3점)\n",
    "- 아래 정의된 함수에서 pass 부분을 구현합니다"
   ]
  },
  {
   "cell_type": "code",
   "execution_count": null,
   "metadata": {
    "collapsed": true
   },
   "outputs": [],
   "source": [
    "def is_odd(x):\n",
    "    pass\n",
    "\n",
    "print(is_odd(2))\n",
    "print(is_odd(3))"
   ]
  },
  {
   "cell_type": "markdown",
   "metadata": {},
   "source": [
    "###  0~100 점 범위의 시험 점수에는 등급이 있습니다. 90점 이상이면 A, 80~90점은 B, 70~80점은 C, 나머지는 F 입니다. 시험 점수를 인자로 받아 등급을 반환하는 함수를 작성하세요 (3점)"
   ]
  },
  {
   "cell_type": "code",
   "execution_count": null,
   "metadata": {
    "collapsed": true
   },
   "outputs": [],
   "source": [
    "def score_to_grade(score):\n",
    "    pass\n",
    "\n",
    "print(score_to_grade(95))\n",
    "print(score_to_grade(85))\n",
    "print(score_to_grade(60))"
   ]
  },
  {
   "cell_type": "markdown",
   "metadata": {},
   "source": [
    "###  다음 List 의 element 와 그 index 를 for 문을 이용해 출력하세요 (3점)\n",
    "- 리스트 : string = ['A', 'B', 'C' ]\n",
    "- 0번째 요소 A\n",
    "- 1번째 요소 B\n",
    "- 2번째 요소 C"
   ]
  },
  {
   "cell_type": "markdown",
   "metadata": {},
   "source": [
    "###  for, range 를 이용해 1 ~ 10 의 수를 출력하세요 (3점)"
   ]
  },
  {
   "cell_type": "markdown",
   "metadata": {},
   "source": [
    "###   이름:'자신의 이름', 직책:'자신의 직책' 의  Dictionary 를 만들어 출력하세요 (2점)"
   ]
  },
  {
   "cell_type": "markdown",
   "metadata": {},
   "source": [
    "###  위에서 만든 Dictionary 변수에 성별:'남자 혹은 여자' 와 부서:'나의 부서' 2개의 키와 값을 추가해서 출력하세요 (2점)"
   ]
  },
  {
   "cell_type": "markdown",
   "metadata": {},
   "source": [
    "### 위에서 만든 Dictionary 변수에서 '부서' 키를 제거해서 출력하세요 (2점)"
   ]
  },
  {
   "cell_type": "markdown",
   "metadata": {},
   "source": [
    "###  [1,2,3,4,5,6,5,4,3,2] 에서 중복을 제거해서 출력하세요 (2점)"
   ]
  },
  {
   "cell_type": "markdown",
   "metadata": {},
   "source": [
    "###  [1,2,3,4,5,6,5,4,3,2]  에서 중복되지 않은 요소의 갯수를 구해서 출력하세요 (2점)"
   ]
  },
  {
   "cell_type": "markdown",
   "metadata": {},
   "source": [
    "### 내장함수를 이용해서 [1,2,3,100,200,300] 에서 최대값과 최소값의 차이를 구하세요 (2점"
   ]
  },
  {
   "cell_type": "markdown",
   "metadata": {},
   "source": [
    "### 리스트 [1,2,3,4] 에 [5,6,7..... , 100] 을 추가해서 리스트 [1,2,3,...,100] 을 만드세요 (2점)"
   ]
  },
  {
   "cell_type": "markdown",
   "metadata": {},
   "source": [
    "### 'abcdefg hijklmn opqrstu vwxyz' 에서 p 의 위치를 구해서 출력하세요 (2점)"
   ]
  },
  {
   "cell_type": "markdown",
   "metadata": {},
   "source": [
    "### 함수를 이용해  s = 'C:/document/python/hello.py\"  에서 \"hello.py\" 문자열을 잘라내서 \"hello.py\"만 출력하세요 (2점)"
   ]
  },
  {
   "cell_type": "markdown",
   "metadata": {},
   "source": [
    "### File object 를 이용해 \"Python Test\" 문자열을 python_test.txt 파일에 저장하세요 (3점)"
   ]
  },
  {
   "cell_type": "markdown",
   "metadata": {},
   "source": [
    "### File object 를 이용해 위에서 만든 python_test.txt 파일의 내용을 읽어서 출력하세요 (3점)"
   ]
  },
  {
   "cell_type": "markdown",
   "metadata": {},
   "source": [
    "### 입출금을 관리하는 클래스를 작성합니다. 100 입금, 200 입금, 50 출금 기능을 수행하고 마지막으로 모든 거래내역을 출력합니다 (4점)"
   ]
  },
  {
   "cell_type": "code",
   "execution_count": null,
   "metadata": {
    "collapsed": true
   },
   "outputs": [],
   "source": [
    "class Account():\n",
    "    history = []\n",
    "    money = 0\n",
    "    pass\n",
    "\n",
    "a = Account()\n",
    "a.deposit(100)\n",
    "a.deposit(200)\n",
    "a.withdraw(200)\n",
    "print(a.money) #250\n",
    "print(a.history) #[100, 200, -50]\n"
   ]
  },
  {
   "cell_type": "markdown",
   "metadata": {},
   "source": [
    "### 상속을 이용하여 위에서 작성한 Account 클래스를 상속받아서 입금/출금 거래가 발생할 때마다 거래 내용을 출력하도록 하는 클래스를 작성하세요 (4점)"
   ]
  },
  {
   "cell_type": "code",
   "execution_count": null,
   "metadata": {
    "collapsed": true
   },
   "outputs": [],
   "source": [
    "class Account_Message(Account):\n",
    "    pass\n",
    "\n",
    "a = Account_Message()\n",
    "a.deposit(100)\n",
    "a.deposit(200)\n",
    "a.withdraw(200)\n",
    "print(a.money)\n",
    "print(a.history)"
   ]
  },
  {
   "cell_type": "markdown",
   "metadata": {},
   "source": [
    "### time 혹은 timeit 모듈을 이용해 다음 함수의 수행 시간을 측정합니다 (4점)"
   ]
  },
  {
   "cell_type": "code",
   "execution_count": null,
   "metadata": {
    "collapsed": true
   },
   "outputs": [],
   "source": [
    "def some_function():\n",
    "    str = []\n",
    "    for i in range(1000):\n",
    "        str.append(str(i))"
   ]
  },
  {
   "cell_type": "markdown",
   "metadata": {},
   "source": [
    "### numpy 를 이용해 [0,2,4,6,8,10] 의 배열을 생성해 출력하세요 (2점)"
   ]
  },
  {
   "cell_type": "markdown",
   "metadata": {},
   "source": [
    "### numpy 의 random 을 이용해 0~100 사이의 랜덤한 정수 2행 5열을 생성하고 출력하세요 (3점)"
   ]
  },
  {
   "cell_type": "markdown",
   "metadata": {},
   "source": [
    "### 위에서 생성한 랜덤배열의 최소값, 최대값, 평균, 표준편차를 구하고 출력하세요 (2점)"
   ]
  },
  {
   "cell_type": "markdown",
   "metadata": {},
   "source": [
    "### 값에 상관없이  (3,2) shape 의 배열을 직접 생성하세요 (2점)"
   ]
  },
  {
   "cell_type": "markdown",
   "metadata": {},
   "source": [
    "### 값에 상관없이  (1,2,2) shape 의 배열을 직접 생성하세요 (2점)"
   ]
  },
  {
   "cell_type": "markdown",
   "metadata": {},
   "source": [
    "###  [0,1,2,...,8] 의 값을 갖는 (3,3) shape 의 배열을 생성하고 마지막 행(6,7,8)을 잘라서 출력하세요 (2점)"
   ]
  },
  {
   "cell_type": "markdown",
   "metadata": {},
   "source": [
    "### [0,1,2,...,8] 의 값을 갖는 (3,3) shape 의 배열에서  [[4,5],[7,8]] 을 잘라서 출력하세요 (2점 "
   ]
  },
  {
   "cell_type": "markdown",
   "metadata": {},
   "source": [
    "### (10,10) shape 으로 0~100 사이의 랜덤한 정수배열을  생성하고, 이로부터 80 이상의 값만 선택해서 출력하세요 (3점)"
   ]
  },
  {
   "cell_type": "markdown",
   "metadata": {},
   "source": [
    "## 2개의 학급에 5명의 학생의 시점 성적이 다음과 같이 나왔습니다\n",
    "- [50,60,70,60,50], [80,90,30,20,60] \n",
    "#### numpy의 arg 함수를 이용하여 성적이 더 좋은 반의 평균점수를 구해서 출력하세요 (3점)"
   ]
  },
  {
   "cell_type": "markdown",
   "metadata": {},
   "source": [
    "### [1,2,3,4] 와 [5,6,7,8] 을 행렬곱셈 하세요 (2점)"
   ]
  },
  {
   "cell_type": "markdown",
   "metadata": {},
   "source": [
    "###  (2,3) 의 zero 행렬과 one 행렬을 정수와 실수 2개씩 만드세요. (총 4개)"
   ]
  },
  {
   "cell_type": "markdown",
   "metadata": {},
   "source": [
    "###  for문을 없이 numpy 함수만 이용해서  [1,2,3,4,5,6,7,8,9] 에서 5보다 큰 수의 갯수를 구하세요 (3점)"
   ]
  },
  {
   "cell_type": "markdown",
   "metadata": {},
   "source": [
    "### Markdown 셀을 생성하고 가장 큰 글자, 굵은 글자, 이탤릭 문자를 써주세요 (2점)"
   ]
  },
  {
   "cell_type": "markdown",
   "metadata": {},
   "source": [
    "### Markdown 셀을 생성하고 naver로 이동하는 링크를 만드세요 (2점)"
   ]
  }
 ],
 "metadata": {
  "kernelspec": {
   "display_name": "Python 3",
   "language": "python",
   "name": "python3"
  },
  "language_info": {
   "codemirror_mode": {
    "name": "ipython",
    "version": 3
   },
   "file_extension": ".py",
   "mimetype": "text/x-python",
   "name": "python",
   "nbconvert_exporter": "python",
   "pygments_lexer": "ipython3",
   "version": "3.6.2"
  }
 },
 "nbformat": 4,
 "nbformat_minor": 2
}
