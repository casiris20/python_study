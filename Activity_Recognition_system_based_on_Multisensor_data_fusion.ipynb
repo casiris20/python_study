{
 "cells": [
  {
   "cell_type": "markdown",
   "metadata": {},
   "source": [
    "## Activity Recognition system based on Multisensor data fusion\n",
    "- 센서로부터 행동 패턴 파악하기\n",
    "- X시계열 데이터로서 1시간 간격으로 평균 센서값이 저장되어 있습니다\n",
    "- 총 480회의 센서 신호들을 통해서 사용자가 어떤 행동 패턴을 하고 있는지를 알아냅니다\n",
    "\n",
    "https://archive.ics.uci.edu/ml/datasets/Activity+Recognition+system+based+on+Multisensor+data+fusion+(AReM)\n"
   ]
  },
  {
   "cell_type": "code",
   "execution_count": 11,
   "metadata": {},
   "outputs": [],
   "source": [
    "import pandas as pd\n",
    "import numpy as np\n",
    "import os\n",
    "import matplotlib.pyplot as plt\n",
    "import glob"
   ]
  },
  {
   "cell_type": "code",
   "execution_count": 86,
   "metadata": {},
   "outputs": [],
   "source": [
    "TARGET_COLUMN = 'PE'\n",
    "PATH_ROOT = '/home/sogangori/Downloads/dataset/machine learning dataset/AReM/'\n",
    "\n",
    "sequence_train = 24\n",
    "class_k = 7\n",
    "sequence_length = 480"
   ]
  },
  {
   "cell_type": "markdown",
   "metadata": {},
   "source": [
    "### 서브폴더를 탐색합니다"
   ]
  },
  {
   "cell_type": "code",
   "execution_count": 13,
   "metadata": {},
   "outputs": [
    {
     "data": {
      "text/plain": [
       "['/home/sogangori/Downloads/dataset/machine learning dataset/AReM/bending2',\n",
       " '/home/sogangori/Downloads/dataset/machine learning dataset/AReM/cycling',\n",
       " '/home/sogangori/Downloads/dataset/machine learning dataset/AReM/sensorsPlacement.pdf',\n",
       " '/home/sogangori/Downloads/dataset/machine learning dataset/AReM/standing',\n",
       " '/home/sogangori/Downloads/dataset/machine learning dataset/AReM/bendingType.pdf',\n",
       " '/home/sogangori/Downloads/dataset/machine learning dataset/AReM/bending1',\n",
       " '/home/sogangori/Downloads/dataset/machine learning dataset/AReM/lying',\n",
       " '/home/sogangori/Downloads/dataset/machine learning dataset/AReM/walking',\n",
       " '/home/sogangori/Downloads/dataset/machine learning dataset/AReM/sitting']"
      ]
     },
     "execution_count": 13,
     "metadata": {},
     "output_type": "execute_result"
    }
   ],
   "source": [
    "folder_contents = glob.glob(PATH_ROOT+'*')\n",
    "folder_contents"
   ]
  },
  {
   "cell_type": "code",
   "execution_count": 21,
   "metadata": {},
   "outputs": [
    {
     "data": {
      "text/plain": [
       "['bending2', 'cycling', 'standing', 'bending1', 'lying', 'walking', 'sitting']"
      ]
     },
     "execution_count": 21,
     "metadata": {},
     "output_type": "execute_result"
    }
   ],
   "source": [
    "sub_folders = []\n",
    "for contents in folder_contents:\n",
    "    if not '.' in contents:\n",
    "        sub_folder = contents.split(os.sep)[-1]\n",
    "        sub_folders.append(sub_folder)\n",
    "sub_folders"
   ]
  },
  {
   "cell_type": "code",
   "execution_count": 37,
   "metadata": {
    "scrolled": true
   },
   "outputs": [
    {
     "name": "stdout",
     "output_type": "stream",
     "text": [
      "6 /home/sogangori/Downloads/dataset/machine learning dataset/AReM/bending2/dataset1.csv\n",
      "15 /home/sogangori/Downloads/dataset/machine learning dataset/AReM/cycling/dataset1.csv\n",
      "15 /home/sogangori/Downloads/dataset/machine learning dataset/AReM/standing/dataset1.csv\n",
      "7 /home/sogangori/Downloads/dataset/machine learning dataset/AReM/bending1/dataset1.csv\n",
      "15 /home/sogangori/Downloads/dataset/machine learning dataset/AReM/lying/dataset1.csv\n",
      "15 /home/sogangori/Downloads/dataset/machine learning dataset/AReM/walking/dataset1.csv\n",
      "15 /home/sogangori/Downloads/dataset/machine learning dataset/AReM/sitting/dataset1.csv\n",
      "path_csv_list 7\n"
     ]
    }
   ],
   "source": [
    "path_csv_list = []\n",
    "for i in range(len(sub_folders)):\n",
    "    sub_folder = sub_folders[i]\n",
    "    path_sub_folder = PATH_ROOT + sub_folder + os.sep     \n",
    "    paths_csv = glob.glob(path_sub_folder + \"*.csv\")\n",
    "    paths_csv.sort()\n",
    "    path_csv_list.append(paths_csv)\n",
    "    print(len(paths_csv), paths_csv[0]) \n",
    "print('path_csv_list', len(path_csv_list))"
   ]
  },
  {
   "cell_type": "markdown",
   "metadata": {},
   "source": [
    "###  csv 파일을 하나 읽어봅니다"
   ]
  },
  {
   "cell_type": "code",
   "execution_count": 58,
   "metadata": {},
   "outputs": [
    {
     "data": {
      "text/plain": [
       "(480, 7)"
      ]
     },
     "execution_count": 58,
     "metadata": {},
     "output_type": "execute_result"
    }
   ],
   "source": [
    "sample_csv = path_csv_list[0][0]\n",
    "df = pd.read_csv(sample_csv, skiprows=4)\n",
    "df.shape"
   ]
  },
  {
   "cell_type": "code",
   "execution_count": 91,
   "metadata": {
    "scrolled": true
   },
   "outputs": [
    {
     "data": {
      "text/html": [
       "<div>\n",
       "<style scoped>\n",
       "    .dataframe tbody tr th:only-of-type {\n",
       "        vertical-align: middle;\n",
       "    }\n",
       "\n",
       "    .dataframe tbody tr th {\n",
       "        vertical-align: top;\n",
       "    }\n",
       "\n",
       "    .dataframe thead th {\n",
       "        text-align: right;\n",
       "    }\n",
       "</style>\n",
       "<table border=\"1\" class=\"dataframe\">\n",
       "  <thead>\n",
       "    <tr style=\"text-align: right;\">\n",
       "      <th></th>\n",
       "      <th>avg_rss12</th>\n",
       "      <th>var_rss12</th>\n",
       "      <th>avg_rss13</th>\n",
       "      <th>var_rss13</th>\n",
       "      <th>avg_rss23</th>\n",
       "      <th>var_rss23</th>\n",
       "    </tr>\n",
       "  </thead>\n",
       "  <tbody>\n",
       "    <tr>\n",
       "      <th>0</th>\n",
       "      <td>23.75</td>\n",
       "      <td>0.43</td>\n",
       "      <td>24.00</td>\n",
       "      <td>0.00</td>\n",
       "      <td>24.67</td>\n",
       "      <td>0.47</td>\n",
       "    </tr>\n",
       "    <tr>\n",
       "      <th>1</th>\n",
       "      <td>22.67</td>\n",
       "      <td>0.94</td>\n",
       "      <td>24.00</td>\n",
       "      <td>0.00</td>\n",
       "      <td>24.67</td>\n",
       "      <td>0.94</td>\n",
       "    </tr>\n",
       "    <tr>\n",
       "      <th>2</th>\n",
       "      <td>21.33</td>\n",
       "      <td>0.47</td>\n",
       "      <td>24.00</td>\n",
       "      <td>0.00</td>\n",
       "      <td>24.75</td>\n",
       "      <td>0.83</td>\n",
       "    </tr>\n",
       "    <tr>\n",
       "      <th>3</th>\n",
       "      <td>21.00</td>\n",
       "      <td>0.00</td>\n",
       "      <td>24.00</td>\n",
       "      <td>0.00</td>\n",
       "      <td>25.25</td>\n",
       "      <td>1.09</td>\n",
       "    </tr>\n",
       "    <tr>\n",
       "      <th>4</th>\n",
       "      <td>23.00</td>\n",
       "      <td>0.71</td>\n",
       "      <td>23.75</td>\n",
       "      <td>0.43</td>\n",
       "      <td>24.75</td>\n",
       "      <td>0.83</td>\n",
       "    </tr>\n",
       "  </tbody>\n",
       "</table>\n",
       "</div>"
      ],
      "text/plain": [
       "   avg_rss12  var_rss12  avg_rss13  var_rss13  avg_rss23  var_rss23\n",
       "0      23.75       0.43      24.00       0.00      24.67       0.47\n",
       "1      22.67       0.94      24.00       0.00      24.67       0.94\n",
       "2      21.33       0.47      24.00       0.00      24.75       0.83\n",
       "3      21.00       0.00      24.00       0.00      25.25       1.09\n",
       "4      23.00       0.71      23.75       0.43      24.75       0.83"
      ]
     },
     "execution_count": 91,
     "metadata": {},
     "output_type": "execute_result"
    }
   ],
   "source": [
    "df.iloc[:,1:].head()"
   ]
  },
  {
   "cell_type": "code",
   "execution_count": 100,
   "metadata": {},
   "outputs": [
    {
     "data": {
      "text/plain": [
       "(480, 6)"
      ]
     },
     "execution_count": 100,
     "metadata": {},
     "output_type": "execute_result"
    }
   ],
   "source": [
    "np.array(df.iloc[:,1:]).shape"
   ]
  },
  {
   "cell_type": "code",
   "execution_count": 61,
   "metadata": {},
   "outputs": [
    {
     "data": {
      "text/plain": [
       "0"
      ]
     },
     "execution_count": 61,
     "metadata": {},
     "output_type": "execute_result"
    }
   ],
   "source": [
    "df.isna().sum().sum()"
   ]
  },
  {
   "cell_type": "code",
   "execution_count": 96,
   "metadata": {},
   "outputs": [],
   "source": [
    "def convert_csv_to_array(path, cls):\n",
    "    df = pd.read_csv(path, skiprows=4)    \n",
    "    df = df.dropna().iloc[:,1:]\n",
    "    return np.array(df)"
   ]
  },
  {
   "cell_type": "markdown",
   "metadata": {},
   "source": [
    "### only for test speed\n",
    "- 학습 속도를 위해서 csv 파일은 2개만 사용하겠습니다."
   ]
  },
  {
   "cell_type": "code",
   "execution_count": 97,
   "metadata": {},
   "outputs": [],
   "source": [
    "restrict_dataset_m_per_class = 2"
   ]
  },
  {
   "cell_type": "code",
   "execution_count": 101,
   "metadata": {
    "scrolled": true
   },
   "outputs": [
    {
     "name": "stdout",
     "output_type": "stream",
     "text": [
      "path_cls_cls /home/sogangori/Downloads/dataset/machine learning dataset/AReM/bending2/dataset1.csv\n",
      "path_cls_cls /home/sogangori/Downloads/dataset/machine learning dataset/AReM/bending2/dataset2.csv\n",
      "path_cls_cls /home/sogangori/Downloads/dataset/machine learning dataset/AReM/cycling/dataset1.csv\n",
      "path_cls_cls /home/sogangori/Downloads/dataset/machine learning dataset/AReM/cycling/dataset10.csv\n",
      "path_cls_cls /home/sogangori/Downloads/dataset/machine learning dataset/AReM/standing/dataset1.csv\n",
      "path_cls_cls /home/sogangori/Downloads/dataset/machine learning dataset/AReM/standing/dataset10.csv\n",
      "path_cls_cls /home/sogangori/Downloads/dataset/machine learning dataset/AReM/bending1/dataset1.csv\n",
      "path_cls_cls /home/sogangori/Downloads/dataset/machine learning dataset/AReM/bending1/dataset2.csv\n",
      "path_cls_cls /home/sogangori/Downloads/dataset/machine learning dataset/AReM/lying/dataset1.csv\n",
      "path_cls_cls /home/sogangori/Downloads/dataset/machine learning dataset/AReM/lying/dataset10.csv\n",
      "path_cls_cls /home/sogangori/Downloads/dataset/machine learning dataset/AReM/walking/dataset1.csv\n",
      "path_cls_cls /home/sogangori/Downloads/dataset/machine learning dataset/AReM/walking/dataset10.csv\n",
      "path_cls_cls /home/sogangori/Downloads/dataset/machine learning dataset/AReM/sitting/dataset1.csv\n",
      "path_cls_cls /home/sogangori/Downloads/dataset/machine learning dataset/AReM/sitting/dataset10.csv\n"
     ]
    },
    {
     "data": {
      "text/plain": [
       "14"
      ]
     },
     "execution_count": 101,
     "metadata": {},
     "output_type": "execute_result"
    }
   ],
   "source": [
    "arr_list = []\n",
    "y_list = []\n",
    "for i in range(len(path_csv_list)):\n",
    "    path_cls_cls = path_csv_list[i]\n",
    "    for j in range(np.minimum(restrict_dataset_m_per_class, len(path_cls_cls))):\n",
    "        print('path_cls_cls',path_cls_cls[j])\n",
    "        arr = convert_csv_to_array(path_cls_cls[j], i)\n",
    "        arr_list.append(arr)\n",
    "        y_list.append(i)\n",
    "        \n",
    "len(arr_list)"
   ]
  },
  {
   "cell_type": "markdown",
   "metadata": {},
   "source": [
    "### 배열로 변환"
   ]
  },
  {
   "cell_type": "code",
   "execution_count": 116,
   "metadata": {
    "scrolled": true
   },
   "outputs": [
    {
     "data": {
      "text/plain": [
       "(14, 480, 6)"
      ]
     },
     "execution_count": 116,
     "metadata": {},
     "output_type": "execute_result"
    }
   ],
   "source": [
    "data_arr = np.stack(arr_list, 0)\n",
    "data_arr.shape"
   ]
  },
  {
   "cell_type": "markdown",
   "metadata": {},
   "source": [
    "### 정규화"
   ]
  },
  {
   "cell_type": "code",
   "execution_count": 115,
   "metadata": {},
   "outputs": [],
   "source": [
    "from sklearn.preprocessing import MinMaxScaler"
   ]
  },
  {
   "cell_type": "code",
   "execution_count": 121,
   "metadata": {},
   "outputs": [],
   "source": [
    "data_arr_3d_shape = data_arr.shape\n",
    "data_arr_2d_back = np.reshape(data_arr, [-1, data_arr.shape[-1]])\n",
    "scaler_x = MinMaxScaler().fit(data_arr_2d_back)\n",
    "data_2d_normal = scaler_x.transform(data_arr_2d_back)\n",
    "data_arr = np.reshape(data_2d_normal, data_arr_3d_shape)"
   ]
  },
  {
   "cell_type": "markdown",
   "metadata": {},
   "source": [
    "### 학습셋과 테스트셋을 나누자"
   ]
  },
  {
   "cell_type": "code",
   "execution_count": 122,
   "metadata": {},
   "outputs": [
    {
     "data": {
      "text/plain": [
       "(6, 7, 7)"
      ]
     },
     "execution_count": 122,
     "metadata": {},
     "output_type": "execute_result"
    }
   ],
   "source": [
    "feature_k = data_arr.shape[-1]\n",
    "test_m = class_k * restrict_dataset_m_per_class//2\n",
    "train_m = class_k * (restrict_dataset_m_per_class-restrict_dataset_m_per_class//2)\n",
    "feature_k, train_m, test_m"
   ]
  },
  {
   "cell_type": "code",
   "execution_count": 123,
   "metadata": {},
   "outputs": [],
   "source": [
    "x_train = np.zeros((train_m, sequence_length, feature_k), np.float32)\n",
    "x_test  = np.zeros((test_m, sequence_length, feature_k), np.float32)\n",
    "y_train = np.zeros((train_m), np.int32)\n",
    "y_test  = np.zeros((test_m), np.int32)\n",
    "for i in range(len(data_arr)):\n",
    "    cls = y_list[i]\n",
    "    arr = data_arr[i]    \n",
    "    if i%2==0:\n",
    "        x_train[i//2] = arr\n",
    "        y_train[i//2] = cls \n",
    "    else:\n",
    "        x_test[i//2] = arr\n",
    "        y_test[i//2] = cls "
   ]
  },
  {
   "cell_type": "code",
   "execution_count": 124,
   "metadata": {},
   "outputs": [
    {
     "data": {
      "text/plain": [
       "(0.0, 0.33014786, 1.0)"
      ]
     },
     "execution_count": 124,
     "metadata": {},
     "output_type": "execute_result"
    }
   ],
   "source": [
    "np.min(x_train), np.mean(x_train), np.max(x_train)"
   ]
  },
  {
   "cell_type": "code",
   "execution_count": 126,
   "metadata": {},
   "outputs": [
    {
     "data": {
      "text/plain": [
       "((7, 480, 6), (7,))"
      ]
     },
     "execution_count": 126,
     "metadata": {},
     "output_type": "execute_result"
    }
   ],
   "source": [
    "x_train.shape, y_train.shape"
   ]
  },
  {
   "cell_type": "markdown",
   "metadata": {},
   "source": [
    "###  tensorflow RNN modeling\n",
    "- 모델 구현 방법은 다양합니다만 뉴럴넷에서 가장 많이 사용하는 conv, rnn, fc 만으로 단순하게 구성해보겠습니다\n",
    "- convolution을 사용해 2시간 간격으로  5시간 동안의 데이터를 인코딩해줍니다. 시퀀스 길이가 절반으로 줄어들것입니다\n",
    "- GRU 를 이용해 시퀀스 축에 따라서 인코딩합니다\n",
    "- fc 가 GRU의 마지막 output 32개 채널을 받아서 어떤 활동을 하는지 인식합니다"
   ]
  },
  {
   "cell_type": "code",
   "execution_count": 134,
   "metadata": {},
   "outputs": [],
   "source": [
    "import tensorflow as tf\n",
    "import tensorflow.contrib.slim as slim"
   ]
  },
  {
   "cell_type": "code",
   "execution_count": 135,
   "metadata": {},
   "outputs": [],
   "source": [
    "tf.reset_default_graph()\n",
    "def predict(net):\n",
    "    print('net',net)\n",
    "    net = slim.conv1d(net, 32, kernel_size=5, stride=2)\n",
    "    \n",
    "    print('net',net)\n",
    "    cell = tf.keras.layers.GRUCell(32)\n",
    "    outputs, state = tf.nn.dynamic_rnn(cell, net, dtype=tf.float32)\n",
    "   \n",
    "    net = slim.fully_connected(net[:,-1], class_k)\n",
    "        \n",
    "    return net"
   ]
  },
  {
   "cell_type": "code",
   "execution_count": 154,
   "metadata": {},
   "outputs": [
    {
     "name": "stdout",
     "output_type": "stream",
     "text": [
      "net Tensor(\"Placeholder_8:0\", shape=(?, 480, 6), dtype=float32)\n",
      "net Tensor(\"Conv_4/Relu:0\", shape=(?, 240, 32), dtype=float32)\n"
     ]
    }
   ],
   "source": [
    "PX = tf.placeholder(tf.float32, [None, x_train.shape[1], x_train.shape[2]])\n",
    "PY = tf.placeholder(tf.int32, [None])\n",
    "h = predict(PX)\n",
    "h_cls = tf.argmax(h, -1,output_type=tf.int32)\n",
    "cost = tf.reduce_mean(tf.losses.sparse_softmax_cross_entropy(labels=PY, logits=h))\n",
    "acc = tf.reduce_mean(tf.cast(tf.equal(PY, h_cls), tf.float32))\n",
    "opt = tf.train.GradientDescentOptimizer(0.1)\n",
    "train_op = opt.minimize(cost)\n",
    "sess = tf.Session()\n",
    "sess.run(tf.initialize_all_variables())"
   ]
  },
  {
   "cell_type": "code",
   "execution_count": 177,
   "metadata": {},
   "outputs": [
    {
     "name": "stdout",
     "output_type": "stream",
     "text": [
      "0 cost:0.83581 acc_train:0.71, acc_test:0.57)\n",
      "100 cost:0.83570 acc_train:0.71, acc_test:0.57)\n",
      "200 cost:0.83571 acc_train:0.71, acc_test:0.57)\n",
      "300 cost:0.83563 acc_train:0.71, acc_test:0.57)\n",
      "400 cost:0.83557 acc_train:0.71, acc_test:0.57)\n",
      "500 cost:0.83552 acc_train:0.71, acc_test:0.57)\n",
      "600 cost:0.83549 acc_train:0.71, acc_test:0.57)\n",
      "700 cost:0.83543 acc_train:0.71, acc_test:0.57)\n",
      "800 cost:0.83542 acc_train:0.71, acc_test:0.57)\n",
      "900 cost:0.83533 acc_train:0.71, acc_test:0.57)\n"
     ]
    }
   ],
   "source": [
    "EPOCH = 1000\n",
    "DISPLAY_k = 10\n",
    "for iter in range(EPOCH):\n",
    "    _, _cost, _acc = sess.run([train_op, cost, acc], {PX:x_train, PY:y_train})\n",
    "    if iter % (EPOCH//DISPLAY_k) == 0:\n",
    "        _acc_test = sess.run(acc, {PX:x_test, PY:y_test})\n",
    "        print('%d cost:%.5f acc_train:%.2f, acc_test:%.2f)' %(iter, _cost, _acc, _acc_test))"
   ]
  },
  {
   "cell_type": "markdown",
   "metadata": {},
   "source": [
    "### metric, 성능측정"
   ]
  },
  {
   "cell_type": "code",
   "execution_count": 178,
   "metadata": {},
   "outputs": [],
   "source": [
    "train_h_cls = sess.run(h_cls, {PX:x_train})\n",
    "test_h_cls = sess.run(h_cls, {PX:x_test})"
   ]
  },
  {
   "cell_type": "code",
   "execution_count": 179,
   "metadata": {},
   "outputs": [],
   "source": [
    "from sklearn.metrics import confusion_matrix\n",
    "from sklearn.metrics import classification_report"
   ]
  },
  {
   "cell_type": "code",
   "execution_count": 180,
   "metadata": {},
   "outputs": [
    {
     "data": {
      "text/plain": [
       "['bending2', 'cycling', 'standing', 'bending1', 'lying', 'walking', 'sitting']"
      ]
     },
     "execution_count": 180,
     "metadata": {},
     "output_type": "execute_result"
    }
   ],
   "source": [
    "sub_folders"
   ]
  },
  {
   "cell_type": "code",
   "execution_count": 191,
   "metadata": {},
   "outputs": [
    {
     "data": {
      "text/plain": [
       "array([[1, 0, 0, 0, 0, 0, 0],\n",
       "       [0, 1, 0, 0, 0, 0, 0],\n",
       "       [1, 0, 0, 0, 0, 0, 0],\n",
       "       [0, 0, 0, 1, 0, 0, 0],\n",
       "       [0, 0, 0, 0, 1, 0, 0],\n",
       "       [0, 0, 0, 0, 0, 1, 0],\n",
       "       [1, 0, 0, 0, 0, 0, 0]])"
      ]
     },
     "execution_count": 191,
     "metadata": {},
     "output_type": "execute_result"
    }
   ],
   "source": [
    "confusion_matrix(y_true=y_train, y_pred = train_h_cls)"
   ]
  },
  {
   "cell_type": "code",
   "execution_count": 192,
   "metadata": {},
   "outputs": [
    {
     "data": {
      "text/plain": [
       "array([[0, 1, 0, 0, 0, 0, 0],\n",
       "       [0, 1, 0, 0, 0, 0, 0],\n",
       "       [0, 0, 0, 0, 1, 0, 0],\n",
       "       [0, 0, 0, 1, 0, 0, 0],\n",
       "       [0, 0, 0, 0, 1, 0, 0],\n",
       "       [0, 0, 0, 0, 0, 1, 0],\n",
       "       [0, 0, 0, 0, 1, 0, 0]])"
      ]
     },
     "execution_count": 192,
     "metadata": {},
     "output_type": "execute_result"
    }
   ],
   "source": [
    "confusion_matrix(y_true=y_test, y_pred = test_h_cls)"
   ]
  },
  {
   "cell_type": "code",
   "execution_count": 193,
   "metadata": {},
   "outputs": [
    {
     "data": {
      "text/plain": [
       "array([[0, 1, 0, 0, 0, 0, 0],\n",
       "       [0, 1, 0, 0, 0, 0, 0],\n",
       "       [0, 0, 0, 0, 1, 0, 0],\n",
       "       [0, 0, 0, 1, 0, 0, 0],\n",
       "       [0, 0, 0, 0, 1, 0, 0],\n",
       "       [0, 0, 0, 0, 0, 1, 0],\n",
       "       [0, 0, 0, 0, 1, 0, 0]])"
      ]
     },
     "execution_count": 193,
     "metadata": {},
     "output_type": "execute_result"
    }
   ],
   "source": [
    "confusion_matrix(y_true=y_test, y_pred = test_h_cls)"
   ]
  },
  {
   "cell_type": "code",
   "execution_count": 194,
   "metadata": {},
   "outputs": [
    {
     "name": "stdout",
     "output_type": "stream",
     "text": [
      "             precision    recall  f1-score   support\n",
      "\n",
      "   bending2       0.33      1.00      0.50         1\n",
      "    cycling       1.00      1.00      1.00         1\n",
      "   standing       0.00      0.00      0.00         1\n",
      "   bending1       1.00      1.00      1.00         1\n",
      "      lying       1.00      1.00      1.00         1\n",
      "    walking       1.00      1.00      1.00         1\n",
      "    sitting       0.00      0.00      0.00         1\n",
      "\n",
      "avg / total       0.62      0.71      0.64         7\n",
      "\n"
     ]
    },
    {
     "name": "stderr",
     "output_type": "stream",
     "text": [
      "/home/sogangori/anaconda3/envs/py36/lib/python3.6/site-packages/sklearn/metrics/classification.py:1135: UndefinedMetricWarning: Precision and F-score are ill-defined and being set to 0.0 in labels with no predicted samples.\n",
      "  'precision', 'predicted', average, warn_for)\n"
     ]
    }
   ],
   "source": [
    "print(classification_report(y_true=y_train, y_pred = train_h_cls, target_names=sub_folders))"
   ]
  },
  {
   "cell_type": "code",
   "execution_count": 195,
   "metadata": {},
   "outputs": [
    {
     "name": "stdout",
     "output_type": "stream",
     "text": [
      "             precision    recall  f1-score   support\n",
      "\n",
      "   bending2       0.00      0.00      0.00         1\n",
      "    cycling       0.50      1.00      0.67         1\n",
      "   standing       0.00      0.00      0.00         1\n",
      "   bending1       1.00      1.00      1.00         1\n",
      "      lying       0.33      1.00      0.50         1\n",
      "    walking       1.00      1.00      1.00         1\n",
      "    sitting       0.00      0.00      0.00         1\n",
      "\n",
      "avg / total       0.40      0.57      0.45         7\n",
      "\n"
     ]
    },
    {
     "name": "stderr",
     "output_type": "stream",
     "text": [
      "/home/sogangori/anaconda3/envs/py36/lib/python3.6/site-packages/sklearn/metrics/classification.py:1135: UndefinedMetricWarning: Precision and F-score are ill-defined and being set to 0.0 in labels with no predicted samples.\n",
      "  'precision', 'predicted', average, warn_for)\n"
     ]
    }
   ],
   "source": [
    "print(classification_report(y_true=y_test, y_pred = test_h_cls, target_names=sub_folders))"
   ]
  },
  {
   "cell_type": "code",
   "execution_count": null,
   "metadata": {},
   "outputs": [],
   "source": []
  }
 ],
 "metadata": {
  "kernelspec": {
   "display_name": "Python 3",
   "language": "python",
   "name": "python3"
  },
  "language_info": {
   "codemirror_mode": {
    "name": "ipython",
    "version": 3
   },
   "file_extension": ".py",
   "mimetype": "text/x-python",
   "name": "python",
   "nbconvert_exporter": "python",
   "pygments_lexer": "ipython3",
   "version": "3.6.6"
  }
 },
 "nbformat": 4,
 "nbformat_minor": 2
}
