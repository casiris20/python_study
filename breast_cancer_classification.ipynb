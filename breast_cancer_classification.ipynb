{
 "cells": [
  {
   "cell_type": "markdown",
   "metadata": {},
   "source": [
    "1. 데이터 획득\n",
    "1. 누락값 확인\n",
    "1. 이상치 확인\n",
    "1. 데이터 타입 확인, 범주형 > 연속형 변환\n",
    "1. 입력과 출력 분리\n",
    "1. 학습/테스트 셋 분리\n",
    "1. 모델 구현(2진 분류, cross entropy loss) - 학습\n",
    "1. 테스트셋으로 모델 성능을 평가"
   ]
  },
  {
   "cell_type": "code",
   "execution_count": 10,
   "metadata": {},
   "outputs": [
    {
     "ename": "ModuleNotFoundError",
     "evalue": "No module named 'matplotlib'",
     "output_type": "error",
     "traceback": [
      "\u001b[1;31m---------------------------------------------------------------------------\u001b[0m",
      "\u001b[1;31mModuleNotFoundError\u001b[0m                       Traceback (most recent call last)",
      "\u001b[1;32m<ipython-input-10-271c0420254e>\u001b[0m in \u001b[0;36m<module>\u001b[1;34m\u001b[0m\n\u001b[0;32m      1\u001b[0m \u001b[1;32mimport\u001b[0m \u001b[0mpandas\u001b[0m \u001b[1;32mas\u001b[0m \u001b[0mpd\u001b[0m\u001b[1;33m\u001b[0m\u001b[1;33m\u001b[0m\u001b[0m\n\u001b[1;32m----> 2\u001b[1;33m \u001b[1;32mimport\u001b[0m \u001b[0mmatplotlib\u001b[0m\u001b[1;33m.\u001b[0m\u001b[0mpyplot\u001b[0m \u001b[1;32mas\u001b[0m \u001b[0mplt\u001b[0m\u001b[1;33m\u001b[0m\u001b[1;33m\u001b[0m\u001b[0m\n\u001b[0m\u001b[0;32m      3\u001b[0m \u001b[0mget_ipython\u001b[0m\u001b[1;33m(\u001b[0m\u001b[1;33m)\u001b[0m\u001b[1;33m.\u001b[0m\u001b[0mrun_line_magic\u001b[0m\u001b[1;33m(\u001b[0m\u001b[1;34m'matplotlib'\u001b[0m\u001b[1;33m,\u001b[0m \u001b[1;34m'inline'\u001b[0m\u001b[1;33m)\u001b[0m\u001b[1;33m\u001b[0m\u001b[1;33m\u001b[0m\u001b[0m\n",
      "\u001b[1;31mModuleNotFoundError\u001b[0m: No module named 'matplotlib'"
     ]
    }
   ],
   "source": [
    "import pandas as pd\n",
    "import matplotlib.pyplot as plt\n",
    "%matplotlib inline"
   ]
  },
  {
   "cell_type": "code",
   "execution_count": 62,
   "metadata": {},
   "outputs": [],
   "source": [
    "df = pd.read_csv('wpbc.txt', header=None)"
   ]
  },
  {
   "cell_type": "code",
   "execution_count": 36,
   "metadata": {
    "scrolled": true
   },
   "outputs": [
    {
     "data": {
      "text/html": [
       "<div>\n",
       "<style scoped>\n",
       "    .dataframe tbody tr th:only-of-type {\n",
       "        vertical-align: middle;\n",
       "    }\n",
       "\n",
       "    .dataframe tbody tr th {\n",
       "        vertical-align: top;\n",
       "    }\n",
       "\n",
       "    .dataframe thead th {\n",
       "        text-align: right;\n",
       "    }\n",
       "</style>\n",
       "<table border=\"1\" class=\"dataframe\">\n",
       "  <thead>\n",
       "    <tr style=\"text-align: right;\">\n",
       "      <th></th>\n",
       "      <th>0</th>\n",
       "      <th>1</th>\n",
       "      <th>2</th>\n",
       "      <th>3</th>\n",
       "      <th>4</th>\n",
       "      <th>5</th>\n",
       "      <th>6</th>\n",
       "      <th>7</th>\n",
       "      <th>8</th>\n",
       "      <th>9</th>\n",
       "      <th>...</th>\n",
       "      <th>25</th>\n",
       "      <th>26</th>\n",
       "      <th>27</th>\n",
       "      <th>28</th>\n",
       "      <th>29</th>\n",
       "      <th>30</th>\n",
       "      <th>31</th>\n",
       "      <th>32</th>\n",
       "      <th>33</th>\n",
       "      <th>34</th>\n",
       "    </tr>\n",
       "  </thead>\n",
       "  <tbody>\n",
       "    <tr>\n",
       "      <th>0</th>\n",
       "      <td>119513</td>\n",
       "      <td>N</td>\n",
       "      <td>31</td>\n",
       "      <td>18.02</td>\n",
       "      <td>27.6</td>\n",
       "      <td>117.5</td>\n",
       "      <td>1013.0</td>\n",
       "      <td>0.09489</td>\n",
       "      <td>0.1036</td>\n",
       "      <td>0.1086</td>\n",
       "      <td>...</td>\n",
       "      <td>139.7</td>\n",
       "      <td>1436.0</td>\n",
       "      <td>0.1195</td>\n",
       "      <td>0.1926</td>\n",
       "      <td>0.314</td>\n",
       "      <td>0.117</td>\n",
       "      <td>0.2677</td>\n",
       "      <td>0.08113</td>\n",
       "      <td>5.0</td>\n",
       "      <td>5</td>\n",
       "    </tr>\n",
       "  </tbody>\n",
       "</table>\n",
       "<p>1 rows × 35 columns</p>\n",
       "</div>"
      ],
      "text/plain": [
       "       0  1   2      3     4      5       6        7       8       9   ...  \\\n",
       "0  119513  N  31  18.02  27.6  117.5  1013.0  0.09489  0.1036  0.1086  ...   \n",
       "\n",
       "      25      26      27      28     29     30      31       32   33  34  \n",
       "0  139.7  1436.0  0.1195  0.1926  0.314  0.117  0.2677  0.08113  5.0   5  \n",
       "\n",
       "[1 rows x 35 columns]"
      ]
     },
     "execution_count": 36,
     "metadata": {},
     "output_type": "execute_result"
    }
   ],
   "source": [
    "df.head(1)"
   ]
  },
  {
   "cell_type": "code",
   "execution_count": 99,
   "metadata": {},
   "outputs": [
    {
     "data": {
      "text/plain": [
       "(1, 125, 46.73232323232323)"
      ]
     },
     "execution_count": 99,
     "metadata": {},
     "output_type": "execute_result"
    }
   ],
   "source": [
    "df[2].min(),df[2].max(),df[2].mean()"
   ]
  },
  {
   "cell_type": "code",
   "execution_count": 37,
   "metadata": {},
   "outputs": [
    {
     "data": {
      "text/plain": [
       "0"
      ]
     },
     "execution_count": 37,
     "metadata": {},
     "output_type": "execute_result"
    }
   ],
   "source": [
    "df.isna().sum().sum()"
   ]
  },
  {
   "cell_type": "code",
   "execution_count": 48,
   "metadata": {
    "scrolled": false
   },
   "outputs": [
    {
     "data": {
      "text/plain": [
       "(0.020202020202020204,\n",
       " array(['5', '2', '0', '?', '10', '1', '20', '6', '13', '4', '17', '15',\n",
       "        '11', '9', '8', '7', '3', '14', '27', '24', '18', '16', '21'],\n",
       "       dtype=object))"
      ]
     },
     "execution_count": 48,
     "metadata": {},
     "output_type": "execute_result"
    }
   ],
   "source": [
    "(df[34]=='?').mean(),df[34].unique()"
   ]
  },
  {
   "cell_type": "code",
   "execution_count": 63,
   "metadata": {},
   "outputs": [],
   "source": [
    "mask = df[34]=='?'\n",
    "df.loc[mask, 34]= '0'"
   ]
  },
  {
   "cell_type": "code",
   "execution_count": 69,
   "metadata": {},
   "outputs": [],
   "source": [
    "df[34] = df[34].astype(int)"
   ]
  },
  {
   "cell_type": "code",
   "execution_count": 146,
   "metadata": {},
   "outputs": [
    {
     "data": {
      "text/plain": [
       "((198, 32), (198,))"
      ]
     },
     "execution_count": 146,
     "metadata": {},
     "output_type": "execute_result"
    }
   ],
   "source": [
    "df_y = df[1]\n",
    "df_y2 = df[2]\n",
    "df_x = df.drop(columns=[0,1,2])\n",
    "df_x.shape, df_y.shape"
   ]
  },
  {
   "cell_type": "code",
   "execution_count": 157,
   "metadata": {},
   "outputs": [
    {
     "data": {
      "text/plain": [
       "(0.0, 1.0, 0.23737373737373738, (198,))"
      ]
     },
     "execution_count": 157,
     "metadata": {},
     "output_type": "execute_result"
    }
   ],
   "source": [
    "import numpy as np\n",
    "data_x = np.array(df_x)\n",
    "data_y = np.array(df_y)\n",
    "data_y2 = np.array(df_y2)\n",
    "data_y[data_y=='R'] = 1\n",
    "data_y[data_y=='N'] = 0\n",
    "data_y = data_y.astype(np.int64)\n",
    "# X 를 [0,1] 로 정규화 ( X - 최소값) / (최대값-최소값) : minMax 정규화\n",
    "x_min = np.min(data_x, axis=1, keepdims=True)\n",
    "x_max = np.max(data_x, axis=1, keepdims=True)\n",
    "data_x = (data_x - x_min)/(x_max-x_min)\n",
    "np.min(data_x), np.max(data_x), np.mean(data_y),data_y2.shape"
   ]
  },
  {
   "cell_type": "code",
   "execution_count": 153,
   "metadata": {},
   "outputs": [],
   "source": [
    "train_x,train_y,train_y2 = data_x[::2] , data_y[::2], data_y2[::2]\n",
    "test_x, test_y, test_y2  = data_x[1::2], data_y[1::2], data_y2[1::2]"
   ]
  },
  {
   "cell_type": "code",
   "execution_count": 154,
   "metadata": {},
   "outputs": [],
   "source": [
    "import tensorflow as tf\n",
    "import tensorflow.contrib.layers as layers"
   ]
  },
  {
   "cell_type": "code",
   "execution_count": 161,
   "metadata": {},
   "outputs": [],
   "source": [
    "X = tf.placeholder(tf.float32, [None, 32])\n",
    "Y = tf.placeholder(tf.int64, [None]) # 재발/ 안하냐 (분류)\n",
    "Y2 = tf.placeholder(tf.float32, [None]) # 언제 재발하느냐 (예측)\n",
    "Y_f = tf.cast(tf.reshape(Y,[-1,1]), tf.float32)\n",
    "hidden = layers.fully_connected(X, 100)\n",
    "hidden1 = layers.fully_connected(hidden, 100)\n",
    "h = layers.fully_connected(hidden1, 2) # x가 클래스 0일 점수/클래스 1일 점수\n",
    "h2 = layers.fully_connected(hidden1, 1)\n",
    "cost = tf.reduce_mean(tf.nn.sparse_softmax_cross_entropy_with_logits(labels=Y, logits=h))\n",
    "#재발 하는 환자에 대해서만 언제 재발하느냐를 예측합니다\n",
    "cost2 = tf.reduce_mean(Y_f * tf.square(h2 - tf.expand_dims(Y2,1)))\n",
    "#h = tf.maximum(1e-7, h)#0.0000001 보다 작지 않도록 만들기 \n",
    "#cost = -tf.reduce_mean(1* Y_f*tf.log(h) + (1-Y_f)*tf.log(1-h))\n",
    "train = tf.train.GradientDescentOptimizer(0.05).minimize(cost + cost2)#joint training\n",
    "predict = tf.argmax(h, axis=1)\n",
    "accuracy = tf.reduce_mean(tf.cast(tf.equal(Y, predict),tf.float32)) \n",
    "sess = tf.Session()\n",
    "sess.run(tf.global_variables_initializer())"
   ]
  },
  {
   "cell_type": "code",
   "execution_count": 163,
   "metadata": {},
   "outputs": [
    {
     "name": "stdout",
     "output_type": "stream",
     "text": [
      "0 cost 0.4853674 acc_cls 0.7979798 co2 6.3754663\n",
      "1000 cost 0.46785933 acc_cls 0.7979798 co2 6.207475\n",
      "2000 cost 0.47501028 acc_cls 0.7979798 co2 6.3689985\n",
      "3000 cost 0.47482988 acc_cls 0.7979798 co2 6.4948673\n",
      "4000 cost 0.47602567 acc_cls 0.7979798 co2 6.1186543\n",
      "5000 cost 0.47086924 acc_cls 0.7979798 co2 6.1403193\n",
      "6000 cost 0.47594404 acc_cls 0.7979798 co2 6.0847845\n",
      "7000 cost 0.47626492 acc_cls 0.7979798 co2 6.17472\n",
      "8000 cost 0.47055832 acc_cls 0.7979798 co2 6.0729885\n"
     ]
    }
   ],
   "source": [
    "for iter in range(9000):\n",
    "    _, co, co2, acc = sess.run([train, cost,cost2, accuracy], {X:train_x, Y:train_y,Y2:train_y2})\n",
    "    if iter%1000==0: print(iter, 'cost',co,'acc_cls',acc,'co2',np.sqrt(co2))"
   ]
  },
  {
   "cell_type": "markdown",
   "metadata": {},
   "source": [
    "https://github.com/sogangori/python_study"
   ]
  },
  {
   "cell_type": "code",
   "execution_count": 122,
   "metadata": {},
   "outputs": [
    {
     "name": "stdout",
     "output_type": "stream",
     "text": [
      "acc_test 0.68686867\n"
     ]
    }
   ],
   "source": [
    "acc_test = sess.run(accuracy, {X:test_x, Y:test_y})\n",
    "print('acc_test',acc_test)"
   ]
  },
  {
   "cell_type": "code",
   "execution_count": null,
   "metadata": {},
   "outputs": [],
   "source": []
  }
 ],
 "metadata": {
  "kernelspec": {
   "display_name": "Python 3",
   "language": "python",
   "name": "python3"
  },
  "language_info": {
   "codemirror_mode": {
    "name": "ipython",
    "version": 3
   },
   "file_extension": ".py",
   "mimetype": "text/x-python",
   "name": "python",
   "nbconvert_exporter": "python",
   "pygments_lexer": "ipython3",
   "version": "3.6.8"
  }
 },
 "nbformat": 4,
 "nbformat_minor": 2
}
